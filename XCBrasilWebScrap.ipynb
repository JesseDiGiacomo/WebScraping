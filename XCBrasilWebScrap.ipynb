{
  "nbformat": 4,
  "nbformat_minor": 0,
  "metadata": {
    "colab": {
      "name": "XCBrasilWebScrap.ipynb",
      "provenance": [],
      "collapsed_sections": [],
      "authorship_tag": "ABX9TyN8pUwa6dPaNN+ZUdW439V2",
      "include_colab_link": true
    },
    "kernelspec": {
      "name": "python3",
      "display_name": "Python 3"
    },
    "language_info": {
      "name": "python"
    }
  },
  "cells": [
    {
      "cell_type": "markdown",
      "metadata": {
        "id": "view-in-github",
        "colab_type": "text"
      },
      "source": [
        "<a href=\"https://colab.research.google.com/github/JesseDiGiacomo/WebScraping/blob/main/XCBrasilWebScrap.ipynb\" target=\"_parent\"><img src=\"https://colab.research.google.com/assets/colab-badge.svg\" alt=\"Open In Colab\"/></a>"
      ]
    },
    {
      "cell_type": "markdown",
      "source": [
        "# The goal of this job was to collect from the National Database Site (XCBrasil.com.br) all the official flights from the city of Petropolis / RJ and analyze them. \n",
        "\n",
        "**The aim was to answer:**\n",
        "\n",
        "\n",
        "*   *Who is the most frequent pilot of all times*\n",
        "*   *More frequent take-off of all times*\n",
        "*   *The longest flight of the city*\n",
        "*   *The fartest flight of the city*\n",
        "*   *The longest flight of each take-off*\n",
        "*   *The fartest flight of each take-off*\n",
        "*   *More frequent months of each take-off*"
      ],
      "metadata": {
        "id": "n_ZEHQpf3-z0"
      }
    },
    {
      "cell_type": "markdown",
      "source": [
        "To start the web scraping we analyzed the XCBrasil.com.br and discovered we could filter the flights by take-off location.\n",
        "The city of Petropolis has three (3) take-offs. They are logged into fifteen (15) different take-offs due to misspelling errors. \n",
        "\n",
        "We picked one of the registered take-offs to test the best way to proceed."
      ],
      "metadata": {
        "id": "q_GwA8c5SNzk"
      }
    },
    {
      "cell_type": "markdown",
      "source": [
        "First, conect to Google Drive so we can store the data acquired."
      ],
      "metadata": {
        "id": "rrzaPg626MSz"
      }
    },
    {
      "cell_type": "markdown",
      "source": [
        "# Imports and Conections"
      ],
      "metadata": {
        "id": "6d0r_1RpSkcc"
      }
    },
    {
      "cell_type": "code",
      "source": [
        "from google.colab import drive\n",
        "drive.mount('/content/drive')"
      ],
      "metadata": {
        "colab": {
          "base_uri": "https://localhost:8080/"
        },
        "id": "DiA5lHnCD_V3",
        "outputId": "49bae88e-71c8-466d-d144-4875b4a98c41"
      },
      "execution_count": 1,
      "outputs": [
        {
          "output_type": "stream",
          "name": "stdout",
          "text": [
            "Drive already mounted at /content/drive; to attempt to forcibly remount, call drive.mount(\"/content/drive\", force_remount=True).\n"
          ]
        }
      ]
    },
    {
      "cell_type": "markdown",
      "source": [
        "Them stablish where we want to store it.\n",
        "\n"
      ],
      "metadata": {
        "id": "qwPwDV8z6Yb3"
      }
    },
    {
      "cell_type": "code",
      "source": [
        "path = \"/content/drive/MyDrive/XCBrasil_flights/\""
      ],
      "metadata": {
        "id": "oj1Gst-rEENf"
      },
      "execution_count": 2,
      "outputs": []
    },
    {
      "cell_type": "markdown",
      "source": [
        "Now we import the libraries to work with"
      ],
      "metadata": {
        "id": "Rf1sv3F86ya2"
      }
    },
    {
      "cell_type": "code",
      "execution_count": 3,
      "metadata": {
        "id": "kCnlKKTjR7X_",
        "colab": {
          "base_uri": "https://localhost:8080/"
        },
        "outputId": "69e743fa-cc9f-4ab2-df1d-e91ab38ec15b"
      },
      "outputs": [
        {
          "output_type": "stream",
          "name": "stderr",
          "text": [
            "/usr/local/lib/python3.7/dist-packages/statsmodels/tools/_testing.py:19: FutureWarning: pandas.util.testing is deprecated. Use the functions in the public API at pandas.testing instead.\n",
            "  import pandas.util.testing as tm\n"
          ]
        }
      ],
      "source": [
        "# Imports\n",
        "import os\n",
        "import csv\n",
        "import requests\n",
        "import numpy as np\n",
        "import pandas as pd\n",
        "from bs4 import BeautifulSoup\n",
        "import matplotlib.pyplot as plt\n",
        "import scipy\n",
        "import statsmodels\n",
        "import statsmodels.api as sm\n",
        "import matplotlib.patches as mpatches\n",
        "from statsmodels.formula.api import ols\n",
        "from tabulate import tabulate\n",
        "from pandas_profiling import ProfileReport\n",
        "\n",
        "%matplotlib inline"
      ]
    },
    {
      "cell_type": "markdown",
      "source": [
        "Then we create the CSV file with the header and open it."
      ],
      "metadata": {
        "id": "GFu1Mk8y66gn"
      }
    },
    {
      "cell_type": "code",
      "source": [
        "# Creates the Final Data file\n",
        "outputfile = open((path + 'FlightsData.csv'), 'a', encoding='utf_8')\n",
        "writer = csv.writer(outputfile, delimiter=',',quotechar='\"', quoting=csv.QUOTE_ALL)\n",
        "\n",
        "# Adds Header\n",
        "writer.writerow(['Date', 'Pilot',\t'Location', 'Duration', 'Straight Distance', \t'OLC KM', 'OLC Points'])"
      ],
      "metadata": {
        "colab": {
          "base_uri": "https://localhost:8080/"
        },
        "id": "LDHJ9IrzEFY1",
        "outputId": "50240f5e-7472-440c-e270-b968cf250454"
      },
      "execution_count": 4,
      "outputs": [
        {
          "output_type": "execute_result",
          "data": {
            "text/plain": [
              "80"
            ]
          },
          "metadata": {},
          "execution_count": 4
        }
      ]
    },
    {
      "cell_type": "markdown",
      "source": [
        "#Testing"
      ],
      "metadata": {
        "id": "j8SNPsvy8l8i"
      }
    },
    {
      "cell_type": "markdown",
      "source": [
        "Stabilish the URL and start scraping and testing"
      ],
      "metadata": {
        "id": "16OBjeg97GoN"
      }
    },
    {
      "cell_type": "code",
      "source": [
        "# XCBrasil homepage\n",
        "base_url = 'http://xcbrasil.com.br'\n",
        "xcbrasil_url = 'http://xcbrasil.com.br/tracks/world/alltimes/brand:all,cat:0,class:all,xctype:all,club:all,pilot:all,takeoff:8892'"
      ],
      "metadata": {
        "id": "azUDhbEVR_ms"
      },
      "execution_count": 5,
      "outputs": []
    },
    {
      "cell_type": "code",
      "source": [
        "lst = []\n",
        "\n",
        "condition = True\n",
        "\n",
        "while condition: \n",
        "  # Use requests to retrieve data from a given URL\n",
        "  xcbrasil_response = requests.get(xcbrasil_url)\n",
        "\n",
        "  # Parse the whole HTML page using BeautifulSoup\n",
        "  xcbrasil_soup = BeautifulSoup(xcbrasil_response.text, 'html.parser')\n",
        "\n",
        "  # Title of the parsed page\n",
        "  xcbrasil_soup.title\n",
        "\n",
        "  # Reading table\n",
        "  flights = xcbrasil_soup.find('table', {'class':'listTable'})\n",
        "\n",
        "  for row in flights.find_all('tr')[1:-1]:\n",
        "      s = pd.Series([data.text for data in row.find_all('td')])\n",
        "      lst.append(s)\n",
        "  \n",
        "  # Next Page\n",
        "  pg = xcbrasil_soup.find('div', {'class':'pagesDiv'})\n",
        "  active_pg = pg.find('div', {'class':'activePageNum'})\n",
        "  \n",
        "  # Test if is Blank\n",
        "  if active_pg is None:\n",
        "    condition = False\n",
        "  if active_pg.findNextSibling('a') is None:\n",
        "    condition = False\n",
        "  else:\n",
        "    next_url = base_url + active_pg.findNextSibling('a').get(\"href\")\n",
        "    xcbrasil_url = next_url"
      ],
      "metadata": {
        "id": "58HWE6JM5t8z"
      },
      "execution_count": 6,
      "outputs": []
    },
    {
      "cell_type": "code",
      "source": [
        "# Concatenate the Pandas Series in a DataFrame\n",
        "data = pd.concat(lst, axis=1).T"
      ],
      "metadata": {
        "id": "uCaTMtiFZ1nV"
      },
      "execution_count": 7,
      "outputs": []
    },
    {
      "cell_type": "code",
      "source": [
        "data.tail()"
      ],
      "metadata": {
        "colab": {
          "base_uri": "https://localhost:8080/",
          "height": 206
        },
        "id": "zjiOIIvqZ72x",
        "outputId": "c47d9d73-e07b-49e9-8717-7e82c44c2d00"
      },
      "execution_count": 8,
      "outputs": [
        {
          "output_type": "execute_result",
          "data": {
            "text/plain": [
              "          0            1                                                  2  \\\n",
              "3043  3106   17/01/2006    Daniel Wenna\\nPetropolis City (Simeria takeof...   \n",
              "3044  3107   15/09/2001    Artur  Pereira\\nPetropolis City (Simeria take...   \n",
              "3045  3108   09/06/2001    Artur  Pereira\\nPetropolis City (Simeria take...   \n",
              "3046  3109   06/05/2001    Artur  Pereira\\nPetropolis City (Simeria take...   \n",
              "3047  3110   13/05/2000    Artur  Pereira\\nPetropolis City (Simeria take...   \n",
              "\n",
              "         3        4        5       6 7 8 9  \n",
              "3043  0:33   4.7 km   6.7 km  10.08         \n",
              "3044  1:43   5.2 km  18.5 km  27.76         \n",
              "3045  1:47   7.0 km  19.4 km  29.04         \n",
              "3046  1:48  25.3 km  32.3 km  48.39         \n",
              "3047  1:13  13.5 km  18.8 km  28.23         "
            ],
            "text/html": [
              "\n",
              "  <div id=\"df-8e98babc-11a0-4170-b56d-b796b57c8ff9\">\n",
              "    <div class=\"colab-df-container\">\n",
              "      <div>\n",
              "<style scoped>\n",
              "    .dataframe tbody tr th:only-of-type {\n",
              "        vertical-align: middle;\n",
              "    }\n",
              "\n",
              "    .dataframe tbody tr th {\n",
              "        vertical-align: top;\n",
              "    }\n",
              "\n",
              "    .dataframe thead th {\n",
              "        text-align: right;\n",
              "    }\n",
              "</style>\n",
              "<table border=\"1\" class=\"dataframe\">\n",
              "  <thead>\n",
              "    <tr style=\"text-align: right;\">\n",
              "      <th></th>\n",
              "      <th>0</th>\n",
              "      <th>1</th>\n",
              "      <th>2</th>\n",
              "      <th>3</th>\n",
              "      <th>4</th>\n",
              "      <th>5</th>\n",
              "      <th>6</th>\n",
              "      <th>7</th>\n",
              "      <th>8</th>\n",
              "      <th>9</th>\n",
              "    </tr>\n",
              "  </thead>\n",
              "  <tbody>\n",
              "    <tr>\n",
              "      <th>3043</th>\n",
              "      <td>3106</td>\n",
              "      <td>17/01/2006</td>\n",
              "      <td>Daniel Wenna\\nPetropolis City (Simeria takeof...</td>\n",
              "      <td>0:33</td>\n",
              "      <td>4.7 km</td>\n",
              "      <td>6.7 km</td>\n",
              "      <td>10.08</td>\n",
              "      <td></td>\n",
              "      <td></td>\n",
              "      <td></td>\n",
              "    </tr>\n",
              "    <tr>\n",
              "      <th>3044</th>\n",
              "      <td>3107</td>\n",
              "      <td>15/09/2001</td>\n",
              "      <td>Artur  Pereira\\nPetropolis City (Simeria take...</td>\n",
              "      <td>1:43</td>\n",
              "      <td>5.2 km</td>\n",
              "      <td>18.5 km</td>\n",
              "      <td>27.76</td>\n",
              "      <td></td>\n",
              "      <td></td>\n",
              "      <td></td>\n",
              "    </tr>\n",
              "    <tr>\n",
              "      <th>3045</th>\n",
              "      <td>3108</td>\n",
              "      <td>09/06/2001</td>\n",
              "      <td>Artur  Pereira\\nPetropolis City (Simeria take...</td>\n",
              "      <td>1:47</td>\n",
              "      <td>7.0 km</td>\n",
              "      <td>19.4 km</td>\n",
              "      <td>29.04</td>\n",
              "      <td></td>\n",
              "      <td></td>\n",
              "      <td></td>\n",
              "    </tr>\n",
              "    <tr>\n",
              "      <th>3046</th>\n",
              "      <td>3109</td>\n",
              "      <td>06/05/2001</td>\n",
              "      <td>Artur  Pereira\\nPetropolis City (Simeria take...</td>\n",
              "      <td>1:48</td>\n",
              "      <td>25.3 km</td>\n",
              "      <td>32.3 km</td>\n",
              "      <td>48.39</td>\n",
              "      <td></td>\n",
              "      <td></td>\n",
              "      <td></td>\n",
              "    </tr>\n",
              "    <tr>\n",
              "      <th>3047</th>\n",
              "      <td>3110</td>\n",
              "      <td>13/05/2000</td>\n",
              "      <td>Artur  Pereira\\nPetropolis City (Simeria take...</td>\n",
              "      <td>1:13</td>\n",
              "      <td>13.5 km</td>\n",
              "      <td>18.8 km</td>\n",
              "      <td>28.23</td>\n",
              "      <td></td>\n",
              "      <td></td>\n",
              "      <td></td>\n",
              "    </tr>\n",
              "  </tbody>\n",
              "</table>\n",
              "</div>\n",
              "      <button class=\"colab-df-convert\" onclick=\"convertToInteractive('df-8e98babc-11a0-4170-b56d-b796b57c8ff9')\"\n",
              "              title=\"Convert this dataframe to an interactive table.\"\n",
              "              style=\"display:none;\">\n",
              "        \n",
              "  <svg xmlns=\"http://www.w3.org/2000/svg\" height=\"24px\"viewBox=\"0 0 24 24\"\n",
              "       width=\"24px\">\n",
              "    <path d=\"M0 0h24v24H0V0z\" fill=\"none\"/>\n",
              "    <path d=\"M18.56 5.44l.94 2.06.94-2.06 2.06-.94-2.06-.94-.94-2.06-.94 2.06-2.06.94zm-11 1L8.5 8.5l.94-2.06 2.06-.94-2.06-.94L8.5 2.5l-.94 2.06-2.06.94zm10 10l.94 2.06.94-2.06 2.06-.94-2.06-.94-.94-2.06-.94 2.06-2.06.94z\"/><path d=\"M17.41 7.96l-1.37-1.37c-.4-.4-.92-.59-1.43-.59-.52 0-1.04.2-1.43.59L10.3 9.45l-7.72 7.72c-.78.78-.78 2.05 0 2.83L4 21.41c.39.39.9.59 1.41.59.51 0 1.02-.2 1.41-.59l7.78-7.78 2.81-2.81c.8-.78.8-2.07 0-2.86zM5.41 20L4 18.59l7.72-7.72 1.47 1.35L5.41 20z\"/>\n",
              "  </svg>\n",
              "      </button>\n",
              "      \n",
              "  <style>\n",
              "    .colab-df-container {\n",
              "      display:flex;\n",
              "      flex-wrap:wrap;\n",
              "      gap: 12px;\n",
              "    }\n",
              "\n",
              "    .colab-df-convert {\n",
              "      background-color: #E8F0FE;\n",
              "      border: none;\n",
              "      border-radius: 50%;\n",
              "      cursor: pointer;\n",
              "      display: none;\n",
              "      fill: #1967D2;\n",
              "      height: 32px;\n",
              "      padding: 0 0 0 0;\n",
              "      width: 32px;\n",
              "    }\n",
              "\n",
              "    .colab-df-convert:hover {\n",
              "      background-color: #E2EBFA;\n",
              "      box-shadow: 0px 1px 2px rgba(60, 64, 67, 0.3), 0px 1px 3px 1px rgba(60, 64, 67, 0.15);\n",
              "      fill: #174EA6;\n",
              "    }\n",
              "\n",
              "    [theme=dark] .colab-df-convert {\n",
              "      background-color: #3B4455;\n",
              "      fill: #D2E3FC;\n",
              "    }\n",
              "\n",
              "    [theme=dark] .colab-df-convert:hover {\n",
              "      background-color: #434B5C;\n",
              "      box-shadow: 0px 1px 3px 1px rgba(0, 0, 0, 0.15);\n",
              "      filter: drop-shadow(0px 1px 2px rgba(0, 0, 0, 0.3));\n",
              "      fill: #FFFFFF;\n",
              "    }\n",
              "  </style>\n",
              "\n",
              "      <script>\n",
              "        const buttonEl =\n",
              "          document.querySelector('#df-8e98babc-11a0-4170-b56d-b796b57c8ff9 button.colab-df-convert');\n",
              "        buttonEl.style.display =\n",
              "          google.colab.kernel.accessAllowed ? 'block' : 'none';\n",
              "\n",
              "        async function convertToInteractive(key) {\n",
              "          const element = document.querySelector('#df-8e98babc-11a0-4170-b56d-b796b57c8ff9');\n",
              "          const dataTable =\n",
              "            await google.colab.kernel.invokeFunction('convertToInteractive',\n",
              "                                                     [key], {});\n",
              "          if (!dataTable) return;\n",
              "\n",
              "          const docLinkHtml = 'Like what you see? Visit the ' +\n",
              "            '<a target=\"_blank\" href=https://colab.research.google.com/notebooks/data_table.ipynb>data table notebook</a>'\n",
              "            + ' to learn more about interactive tables.';\n",
              "          element.innerHTML = '';\n",
              "          dataTable['output_type'] = 'display_data';\n",
              "          await google.colab.output.renderOutput(dataTable, element);\n",
              "          const docLink = document.createElement('div');\n",
              "          docLink.innerHTML = docLinkHtml;\n",
              "          element.appendChild(docLink);\n",
              "        }\n",
              "      </script>\n",
              "    </div>\n",
              "  </div>\n",
              "  "
            ]
          },
          "metadata": {},
          "execution_count": 8
        }
      ]
    },
    {
      "cell_type": "markdown",
      "source": [
        "We need to delete some columns we don't need and split the ones with information regarding the pilot and take-off site. Then we create the CSV file with the header and open it."
      ],
      "metadata": {
        "id": "3yZNxF5r7Yxy"
      }
    },
    {
      "cell_type": "code",
      "source": [
        "data = data.drop(columns=[0,7,8,9])\n",
        "data.head()"
      ],
      "metadata": {
        "colab": {
          "base_uri": "https://localhost:8080/",
          "height": 206
        },
        "id": "jpeOABoB0uWT",
        "outputId": "38e5f234-aa2a-40ea-d2da-80123eea455b"
      },
      "execution_count": 9,
      "outputs": [
        {
          "output_type": "execute_result",
          "data": {
            "text/plain": [
              "             1                                                  2     3  \\\n",
              "0  07/06/2022    henrique pessoa\\nPetropolis City (Simeria tak...  0:39   \n",
              "1  07/06/2022    Victor Affonso Ferreira Zarlotti\\nPetropolis ...  0:30   \n",
              "2  07/06/2022    Rafael Baroni\\nPetropolis City (Simeria takeo...  0:13   \n",
              "3  05/06/2022    Victor Affonso Ferreira Zarlotti\\nPetropolis ...  0:48   \n",
              "4  22/05/2022    Vagner Garcia\\nPetropolis City (Simeria takeo...  0:48   \n",
              "\n",
              "        4        5       6  \n",
              "0  5.4 km   8.0 km  12.04   \n",
              "1  4.8 km   7.1 km  10.70   \n",
              "2  4.6 km   5.4 km   8.05   \n",
              "3  6.1 km   9.7 km  14.62   \n",
              "4  4.7 km  11.6 km  17.34   "
            ],
            "text/html": [
              "\n",
              "  <div id=\"df-62f11975-c065-4eac-a14d-3a2447d299c3\">\n",
              "    <div class=\"colab-df-container\">\n",
              "      <div>\n",
              "<style scoped>\n",
              "    .dataframe tbody tr th:only-of-type {\n",
              "        vertical-align: middle;\n",
              "    }\n",
              "\n",
              "    .dataframe tbody tr th {\n",
              "        vertical-align: top;\n",
              "    }\n",
              "\n",
              "    .dataframe thead th {\n",
              "        text-align: right;\n",
              "    }\n",
              "</style>\n",
              "<table border=\"1\" class=\"dataframe\">\n",
              "  <thead>\n",
              "    <tr style=\"text-align: right;\">\n",
              "      <th></th>\n",
              "      <th>1</th>\n",
              "      <th>2</th>\n",
              "      <th>3</th>\n",
              "      <th>4</th>\n",
              "      <th>5</th>\n",
              "      <th>6</th>\n",
              "    </tr>\n",
              "  </thead>\n",
              "  <tbody>\n",
              "    <tr>\n",
              "      <th>0</th>\n",
              "      <td>07/06/2022</td>\n",
              "      <td>henrique pessoa\\nPetropolis City (Simeria tak...</td>\n",
              "      <td>0:39</td>\n",
              "      <td>5.4 km</td>\n",
              "      <td>8.0 km</td>\n",
              "      <td>12.04</td>\n",
              "    </tr>\n",
              "    <tr>\n",
              "      <th>1</th>\n",
              "      <td>07/06/2022</td>\n",
              "      <td>Victor Affonso Ferreira Zarlotti\\nPetropolis ...</td>\n",
              "      <td>0:30</td>\n",
              "      <td>4.8 km</td>\n",
              "      <td>7.1 km</td>\n",
              "      <td>10.70</td>\n",
              "    </tr>\n",
              "    <tr>\n",
              "      <th>2</th>\n",
              "      <td>07/06/2022</td>\n",
              "      <td>Rafael Baroni\\nPetropolis City (Simeria takeo...</td>\n",
              "      <td>0:13</td>\n",
              "      <td>4.6 km</td>\n",
              "      <td>5.4 km</td>\n",
              "      <td>8.05</td>\n",
              "    </tr>\n",
              "    <tr>\n",
              "      <th>3</th>\n",
              "      <td>05/06/2022</td>\n",
              "      <td>Victor Affonso Ferreira Zarlotti\\nPetropolis ...</td>\n",
              "      <td>0:48</td>\n",
              "      <td>6.1 km</td>\n",
              "      <td>9.7 km</td>\n",
              "      <td>14.62</td>\n",
              "    </tr>\n",
              "    <tr>\n",
              "      <th>4</th>\n",
              "      <td>22/05/2022</td>\n",
              "      <td>Vagner Garcia\\nPetropolis City (Simeria takeo...</td>\n",
              "      <td>0:48</td>\n",
              "      <td>4.7 km</td>\n",
              "      <td>11.6 km</td>\n",
              "      <td>17.34</td>\n",
              "    </tr>\n",
              "  </tbody>\n",
              "</table>\n",
              "</div>\n",
              "      <button class=\"colab-df-convert\" onclick=\"convertToInteractive('df-62f11975-c065-4eac-a14d-3a2447d299c3')\"\n",
              "              title=\"Convert this dataframe to an interactive table.\"\n",
              "              style=\"display:none;\">\n",
              "        \n",
              "  <svg xmlns=\"http://www.w3.org/2000/svg\" height=\"24px\"viewBox=\"0 0 24 24\"\n",
              "       width=\"24px\">\n",
              "    <path d=\"M0 0h24v24H0V0z\" fill=\"none\"/>\n",
              "    <path d=\"M18.56 5.44l.94 2.06.94-2.06 2.06-.94-2.06-.94-.94-2.06-.94 2.06-2.06.94zm-11 1L8.5 8.5l.94-2.06 2.06-.94-2.06-.94L8.5 2.5l-.94 2.06-2.06.94zm10 10l.94 2.06.94-2.06 2.06-.94-2.06-.94-.94-2.06-.94 2.06-2.06.94z\"/><path d=\"M17.41 7.96l-1.37-1.37c-.4-.4-.92-.59-1.43-.59-.52 0-1.04.2-1.43.59L10.3 9.45l-7.72 7.72c-.78.78-.78 2.05 0 2.83L4 21.41c.39.39.9.59 1.41.59.51 0 1.02-.2 1.41-.59l7.78-7.78 2.81-2.81c.8-.78.8-2.07 0-2.86zM5.41 20L4 18.59l7.72-7.72 1.47 1.35L5.41 20z\"/>\n",
              "  </svg>\n",
              "      </button>\n",
              "      \n",
              "  <style>\n",
              "    .colab-df-container {\n",
              "      display:flex;\n",
              "      flex-wrap:wrap;\n",
              "      gap: 12px;\n",
              "    }\n",
              "\n",
              "    .colab-df-convert {\n",
              "      background-color: #E8F0FE;\n",
              "      border: none;\n",
              "      border-radius: 50%;\n",
              "      cursor: pointer;\n",
              "      display: none;\n",
              "      fill: #1967D2;\n",
              "      height: 32px;\n",
              "      padding: 0 0 0 0;\n",
              "      width: 32px;\n",
              "    }\n",
              "\n",
              "    .colab-df-convert:hover {\n",
              "      background-color: #E2EBFA;\n",
              "      box-shadow: 0px 1px 2px rgba(60, 64, 67, 0.3), 0px 1px 3px 1px rgba(60, 64, 67, 0.15);\n",
              "      fill: #174EA6;\n",
              "    }\n",
              "\n",
              "    [theme=dark] .colab-df-convert {\n",
              "      background-color: #3B4455;\n",
              "      fill: #D2E3FC;\n",
              "    }\n",
              "\n",
              "    [theme=dark] .colab-df-convert:hover {\n",
              "      background-color: #434B5C;\n",
              "      box-shadow: 0px 1px 3px 1px rgba(0, 0, 0, 0.15);\n",
              "      filter: drop-shadow(0px 1px 2px rgba(0, 0, 0, 0.3));\n",
              "      fill: #FFFFFF;\n",
              "    }\n",
              "  </style>\n",
              "\n",
              "      <script>\n",
              "        const buttonEl =\n",
              "          document.querySelector('#df-62f11975-c065-4eac-a14d-3a2447d299c3 button.colab-df-convert');\n",
              "        buttonEl.style.display =\n",
              "          google.colab.kernel.accessAllowed ? 'block' : 'none';\n",
              "\n",
              "        async function convertToInteractive(key) {\n",
              "          const element = document.querySelector('#df-62f11975-c065-4eac-a14d-3a2447d299c3');\n",
              "          const dataTable =\n",
              "            await google.colab.kernel.invokeFunction('convertToInteractive',\n",
              "                                                     [key], {});\n",
              "          if (!dataTable) return;\n",
              "\n",
              "          const docLinkHtml = 'Like what you see? Visit the ' +\n",
              "            '<a target=\"_blank\" href=https://colab.research.google.com/notebooks/data_table.ipynb>data table notebook</a>'\n",
              "            + ' to learn more about interactive tables.';\n",
              "          element.innerHTML = '';\n",
              "          dataTable['output_type'] = 'display_data';\n",
              "          await google.colab.output.renderOutput(dataTable, element);\n",
              "          const docLink = document.createElement('div');\n",
              "          docLink.innerHTML = docLinkHtml;\n",
              "          element.appendChild(docLink);\n",
              "        }\n",
              "      </script>\n",
              "    </div>\n",
              "  </div>\n",
              "  "
            ]
          },
          "metadata": {},
          "execution_count": 9
        }
      ]
    },
    {
      "cell_type": "code",
      "source": [
        "data.columns = ['Date', 'Pilot and Takeoff', 'Duration', 'Straight Distance', 'OLC KM', 'OLC Points']"
      ],
      "metadata": {
        "id": "plS5xw6N5oif"
      },
      "execution_count": 10,
      "outputs": []
    },
    {
      "cell_type": "code",
      "source": [
        "data.head()"
      ],
      "metadata": {
        "colab": {
          "base_uri": "https://localhost:8080/",
          "height": 206
        },
        "id": "tnOOZC_R7yIB",
        "outputId": "8c4610b6-53ea-4d29-ccc4-5f2e41fcb74b"
      },
      "execution_count": 11,
      "outputs": [
        {
          "output_type": "execute_result",
          "data": {
            "text/plain": [
              "          Date                                  Pilot and Takeoff Duration  \\\n",
              "0  07/06/2022    henrique pessoa\\nPetropolis City (Simeria tak...     0:39   \n",
              "1  07/06/2022    Victor Affonso Ferreira Zarlotti\\nPetropolis ...     0:30   \n",
              "2  07/06/2022    Rafael Baroni\\nPetropolis City (Simeria takeo...     0:13   \n",
              "3  05/06/2022    Victor Affonso Ferreira Zarlotti\\nPetropolis ...     0:48   \n",
              "4  22/05/2022    Vagner Garcia\\nPetropolis City (Simeria takeo...     0:48   \n",
              "\n",
              "  Straight Distance   OLC KM OLC Points  \n",
              "0            5.4 km   8.0 km     12.04   \n",
              "1            4.8 km   7.1 km     10.70   \n",
              "2            4.6 km   5.4 km      8.05   \n",
              "3            6.1 km   9.7 km     14.62   \n",
              "4            4.7 km  11.6 km     17.34   "
            ],
            "text/html": [
              "\n",
              "  <div id=\"df-f85e3dbe-a3e2-4365-bf19-5f1bb667d4b9\">\n",
              "    <div class=\"colab-df-container\">\n",
              "      <div>\n",
              "<style scoped>\n",
              "    .dataframe tbody tr th:only-of-type {\n",
              "        vertical-align: middle;\n",
              "    }\n",
              "\n",
              "    .dataframe tbody tr th {\n",
              "        vertical-align: top;\n",
              "    }\n",
              "\n",
              "    .dataframe thead th {\n",
              "        text-align: right;\n",
              "    }\n",
              "</style>\n",
              "<table border=\"1\" class=\"dataframe\">\n",
              "  <thead>\n",
              "    <tr style=\"text-align: right;\">\n",
              "      <th></th>\n",
              "      <th>Date</th>\n",
              "      <th>Pilot and Takeoff</th>\n",
              "      <th>Duration</th>\n",
              "      <th>Straight Distance</th>\n",
              "      <th>OLC KM</th>\n",
              "      <th>OLC Points</th>\n",
              "    </tr>\n",
              "  </thead>\n",
              "  <tbody>\n",
              "    <tr>\n",
              "      <th>0</th>\n",
              "      <td>07/06/2022</td>\n",
              "      <td>henrique pessoa\\nPetropolis City (Simeria tak...</td>\n",
              "      <td>0:39</td>\n",
              "      <td>5.4 km</td>\n",
              "      <td>8.0 km</td>\n",
              "      <td>12.04</td>\n",
              "    </tr>\n",
              "    <tr>\n",
              "      <th>1</th>\n",
              "      <td>07/06/2022</td>\n",
              "      <td>Victor Affonso Ferreira Zarlotti\\nPetropolis ...</td>\n",
              "      <td>0:30</td>\n",
              "      <td>4.8 km</td>\n",
              "      <td>7.1 km</td>\n",
              "      <td>10.70</td>\n",
              "    </tr>\n",
              "    <tr>\n",
              "      <th>2</th>\n",
              "      <td>07/06/2022</td>\n",
              "      <td>Rafael Baroni\\nPetropolis City (Simeria takeo...</td>\n",
              "      <td>0:13</td>\n",
              "      <td>4.6 km</td>\n",
              "      <td>5.4 km</td>\n",
              "      <td>8.05</td>\n",
              "    </tr>\n",
              "    <tr>\n",
              "      <th>3</th>\n",
              "      <td>05/06/2022</td>\n",
              "      <td>Victor Affonso Ferreira Zarlotti\\nPetropolis ...</td>\n",
              "      <td>0:48</td>\n",
              "      <td>6.1 km</td>\n",
              "      <td>9.7 km</td>\n",
              "      <td>14.62</td>\n",
              "    </tr>\n",
              "    <tr>\n",
              "      <th>4</th>\n",
              "      <td>22/05/2022</td>\n",
              "      <td>Vagner Garcia\\nPetropolis City (Simeria takeo...</td>\n",
              "      <td>0:48</td>\n",
              "      <td>4.7 km</td>\n",
              "      <td>11.6 km</td>\n",
              "      <td>17.34</td>\n",
              "    </tr>\n",
              "  </tbody>\n",
              "</table>\n",
              "</div>\n",
              "      <button class=\"colab-df-convert\" onclick=\"convertToInteractive('df-f85e3dbe-a3e2-4365-bf19-5f1bb667d4b9')\"\n",
              "              title=\"Convert this dataframe to an interactive table.\"\n",
              "              style=\"display:none;\">\n",
              "        \n",
              "  <svg xmlns=\"http://www.w3.org/2000/svg\" height=\"24px\"viewBox=\"0 0 24 24\"\n",
              "       width=\"24px\">\n",
              "    <path d=\"M0 0h24v24H0V0z\" fill=\"none\"/>\n",
              "    <path d=\"M18.56 5.44l.94 2.06.94-2.06 2.06-.94-2.06-.94-.94-2.06-.94 2.06-2.06.94zm-11 1L8.5 8.5l.94-2.06 2.06-.94-2.06-.94L8.5 2.5l-.94 2.06-2.06.94zm10 10l.94 2.06.94-2.06 2.06-.94-2.06-.94-.94-2.06-.94 2.06-2.06.94z\"/><path d=\"M17.41 7.96l-1.37-1.37c-.4-.4-.92-.59-1.43-.59-.52 0-1.04.2-1.43.59L10.3 9.45l-7.72 7.72c-.78.78-.78 2.05 0 2.83L4 21.41c.39.39.9.59 1.41.59.51 0 1.02-.2 1.41-.59l7.78-7.78 2.81-2.81c.8-.78.8-2.07 0-2.86zM5.41 20L4 18.59l7.72-7.72 1.47 1.35L5.41 20z\"/>\n",
              "  </svg>\n",
              "      </button>\n",
              "      \n",
              "  <style>\n",
              "    .colab-df-container {\n",
              "      display:flex;\n",
              "      flex-wrap:wrap;\n",
              "      gap: 12px;\n",
              "    }\n",
              "\n",
              "    .colab-df-convert {\n",
              "      background-color: #E8F0FE;\n",
              "      border: none;\n",
              "      border-radius: 50%;\n",
              "      cursor: pointer;\n",
              "      display: none;\n",
              "      fill: #1967D2;\n",
              "      height: 32px;\n",
              "      padding: 0 0 0 0;\n",
              "      width: 32px;\n",
              "    }\n",
              "\n",
              "    .colab-df-convert:hover {\n",
              "      background-color: #E2EBFA;\n",
              "      box-shadow: 0px 1px 2px rgba(60, 64, 67, 0.3), 0px 1px 3px 1px rgba(60, 64, 67, 0.15);\n",
              "      fill: #174EA6;\n",
              "    }\n",
              "\n",
              "    [theme=dark] .colab-df-convert {\n",
              "      background-color: #3B4455;\n",
              "      fill: #D2E3FC;\n",
              "    }\n",
              "\n",
              "    [theme=dark] .colab-df-convert:hover {\n",
              "      background-color: #434B5C;\n",
              "      box-shadow: 0px 1px 3px 1px rgba(0, 0, 0, 0.15);\n",
              "      filter: drop-shadow(0px 1px 2px rgba(0, 0, 0, 0.3));\n",
              "      fill: #FFFFFF;\n",
              "    }\n",
              "  </style>\n",
              "\n",
              "      <script>\n",
              "        const buttonEl =\n",
              "          document.querySelector('#df-f85e3dbe-a3e2-4365-bf19-5f1bb667d4b9 button.colab-df-convert');\n",
              "        buttonEl.style.display =\n",
              "          google.colab.kernel.accessAllowed ? 'block' : 'none';\n",
              "\n",
              "        async function convertToInteractive(key) {\n",
              "          const element = document.querySelector('#df-f85e3dbe-a3e2-4365-bf19-5f1bb667d4b9');\n",
              "          const dataTable =\n",
              "            await google.colab.kernel.invokeFunction('convertToInteractive',\n",
              "                                                     [key], {});\n",
              "          if (!dataTable) return;\n",
              "\n",
              "          const docLinkHtml = 'Like what you see? Visit the ' +\n",
              "            '<a target=\"_blank\" href=https://colab.research.google.com/notebooks/data_table.ipynb>data table notebook</a>'\n",
              "            + ' to learn more about interactive tables.';\n",
              "          element.innerHTML = '';\n",
              "          dataTable['output_type'] = 'display_data';\n",
              "          await google.colab.output.renderOutput(dataTable, element);\n",
              "          const docLink = document.createElement('div');\n",
              "          docLink.innerHTML = docLinkHtml;\n",
              "          element.appendChild(docLink);\n",
              "        }\n",
              "      </script>\n",
              "    </div>\n",
              "  </div>\n",
              "  "
            ]
          },
          "metadata": {},
          "execution_count": 11
        }
      ]
    },
    {
      "cell_type": "code",
      "source": [
        "df2 = data['Pilot and Takeoff'].str.split('\\n', expand=True)\n",
        "df2.drop(columns=[2], inplace=True)\n",
        "df2.columns = ['Pilot', 'Location']\n",
        "df2.head()"
      ],
      "metadata": {
        "colab": {
          "base_uri": "https://localhost:8080/",
          "height": 206
        },
        "id": "dwGC5Ssd1SzU",
        "outputId": "28450940-2242-457f-e369-3e1375591d50"
      },
      "execution_count": 12,
      "outputs": [
        {
          "output_type": "execute_result",
          "data": {
            "text/plain": [
              "                               Pilot  \\\n",
              "0                    henrique pessoa   \n",
              "1   Victor Affonso Ferreira Zarlotti   \n",
              "2                      Rafael Baroni   \n",
              "3   Victor Affonso Ferreira Zarlotti   \n",
              "4                      Vagner Garcia   \n",
              "\n",
              "                                        Location  \n",
              "0  Petropolis City (Simeria takeoff) - BR [~0.6]  \n",
              "1         Petropolis City (Simeria takeoff) - BR  \n",
              "2  Petropolis City (Simeria takeoff) - BR [~0.6]  \n",
              "3         Petropolis City (Simeria takeoff) - BR  \n",
              "4         Petropolis City (Simeria takeoff) - BR  "
            ],
            "text/html": [
              "\n",
              "  <div id=\"df-0f915fa9-f2cd-45d6-853e-2e50f39ab542\">\n",
              "    <div class=\"colab-df-container\">\n",
              "      <div>\n",
              "<style scoped>\n",
              "    .dataframe tbody tr th:only-of-type {\n",
              "        vertical-align: middle;\n",
              "    }\n",
              "\n",
              "    .dataframe tbody tr th {\n",
              "        vertical-align: top;\n",
              "    }\n",
              "\n",
              "    .dataframe thead th {\n",
              "        text-align: right;\n",
              "    }\n",
              "</style>\n",
              "<table border=\"1\" class=\"dataframe\">\n",
              "  <thead>\n",
              "    <tr style=\"text-align: right;\">\n",
              "      <th></th>\n",
              "      <th>Pilot</th>\n",
              "      <th>Location</th>\n",
              "    </tr>\n",
              "  </thead>\n",
              "  <tbody>\n",
              "    <tr>\n",
              "      <th>0</th>\n",
              "      <td>henrique pessoa</td>\n",
              "      <td>Petropolis City (Simeria takeoff) - BR [~0.6]</td>\n",
              "    </tr>\n",
              "    <tr>\n",
              "      <th>1</th>\n",
              "      <td>Victor Affonso Ferreira Zarlotti</td>\n",
              "      <td>Petropolis City (Simeria takeoff) - BR</td>\n",
              "    </tr>\n",
              "    <tr>\n",
              "      <th>2</th>\n",
              "      <td>Rafael Baroni</td>\n",
              "      <td>Petropolis City (Simeria takeoff) - BR [~0.6]</td>\n",
              "    </tr>\n",
              "    <tr>\n",
              "      <th>3</th>\n",
              "      <td>Victor Affonso Ferreira Zarlotti</td>\n",
              "      <td>Petropolis City (Simeria takeoff) - BR</td>\n",
              "    </tr>\n",
              "    <tr>\n",
              "      <th>4</th>\n",
              "      <td>Vagner Garcia</td>\n",
              "      <td>Petropolis City (Simeria takeoff) - BR</td>\n",
              "    </tr>\n",
              "  </tbody>\n",
              "</table>\n",
              "</div>\n",
              "      <button class=\"colab-df-convert\" onclick=\"convertToInteractive('df-0f915fa9-f2cd-45d6-853e-2e50f39ab542')\"\n",
              "              title=\"Convert this dataframe to an interactive table.\"\n",
              "              style=\"display:none;\">\n",
              "        \n",
              "  <svg xmlns=\"http://www.w3.org/2000/svg\" height=\"24px\"viewBox=\"0 0 24 24\"\n",
              "       width=\"24px\">\n",
              "    <path d=\"M0 0h24v24H0V0z\" fill=\"none\"/>\n",
              "    <path d=\"M18.56 5.44l.94 2.06.94-2.06 2.06-.94-2.06-.94-.94-2.06-.94 2.06-2.06.94zm-11 1L8.5 8.5l.94-2.06 2.06-.94-2.06-.94L8.5 2.5l-.94 2.06-2.06.94zm10 10l.94 2.06.94-2.06 2.06-.94-2.06-.94-.94-2.06-.94 2.06-2.06.94z\"/><path d=\"M17.41 7.96l-1.37-1.37c-.4-.4-.92-.59-1.43-.59-.52 0-1.04.2-1.43.59L10.3 9.45l-7.72 7.72c-.78.78-.78 2.05 0 2.83L4 21.41c.39.39.9.59 1.41.59.51 0 1.02-.2 1.41-.59l7.78-7.78 2.81-2.81c.8-.78.8-2.07 0-2.86zM5.41 20L4 18.59l7.72-7.72 1.47 1.35L5.41 20z\"/>\n",
              "  </svg>\n",
              "      </button>\n",
              "      \n",
              "  <style>\n",
              "    .colab-df-container {\n",
              "      display:flex;\n",
              "      flex-wrap:wrap;\n",
              "      gap: 12px;\n",
              "    }\n",
              "\n",
              "    .colab-df-convert {\n",
              "      background-color: #E8F0FE;\n",
              "      border: none;\n",
              "      border-radius: 50%;\n",
              "      cursor: pointer;\n",
              "      display: none;\n",
              "      fill: #1967D2;\n",
              "      height: 32px;\n",
              "      padding: 0 0 0 0;\n",
              "      width: 32px;\n",
              "    }\n",
              "\n",
              "    .colab-df-convert:hover {\n",
              "      background-color: #E2EBFA;\n",
              "      box-shadow: 0px 1px 2px rgba(60, 64, 67, 0.3), 0px 1px 3px 1px rgba(60, 64, 67, 0.15);\n",
              "      fill: #174EA6;\n",
              "    }\n",
              "\n",
              "    [theme=dark] .colab-df-convert {\n",
              "      background-color: #3B4455;\n",
              "      fill: #D2E3FC;\n",
              "    }\n",
              "\n",
              "    [theme=dark] .colab-df-convert:hover {\n",
              "      background-color: #434B5C;\n",
              "      box-shadow: 0px 1px 3px 1px rgba(0, 0, 0, 0.15);\n",
              "      filter: drop-shadow(0px 1px 2px rgba(0, 0, 0, 0.3));\n",
              "      fill: #FFFFFF;\n",
              "    }\n",
              "  </style>\n",
              "\n",
              "      <script>\n",
              "        const buttonEl =\n",
              "          document.querySelector('#df-0f915fa9-f2cd-45d6-853e-2e50f39ab542 button.colab-df-convert');\n",
              "        buttonEl.style.display =\n",
              "          google.colab.kernel.accessAllowed ? 'block' : 'none';\n",
              "\n",
              "        async function convertToInteractive(key) {\n",
              "          const element = document.querySelector('#df-0f915fa9-f2cd-45d6-853e-2e50f39ab542');\n",
              "          const dataTable =\n",
              "            await google.colab.kernel.invokeFunction('convertToInteractive',\n",
              "                                                     [key], {});\n",
              "          if (!dataTable) return;\n",
              "\n",
              "          const docLinkHtml = 'Like what you see? Visit the ' +\n",
              "            '<a target=\"_blank\" href=https://colab.research.google.com/notebooks/data_table.ipynb>data table notebook</a>'\n",
              "            + ' to learn more about interactive tables.';\n",
              "          element.innerHTML = '';\n",
              "          dataTable['output_type'] = 'display_data';\n",
              "          await google.colab.output.renderOutput(dataTable, element);\n",
              "          const docLink = document.createElement('div');\n",
              "          docLink.innerHTML = docLinkHtml;\n",
              "          element.appendChild(docLink);\n",
              "        }\n",
              "      </script>\n",
              "    </div>\n",
              "  </div>\n",
              "  "
            ]
          },
          "metadata": {},
          "execution_count": 12
        }
      ]
    },
    {
      "cell_type": "code",
      "source": [
        "data = data.join(df2)"
      ],
      "metadata": {
        "id": "MZt-mlwSBy5T"
      },
      "execution_count": 13,
      "outputs": []
    },
    {
      "cell_type": "code",
      "source": [
        "data.head()"
      ],
      "metadata": {
        "colab": {
          "base_uri": "https://localhost:8080/",
          "height": 206
        },
        "id": "MkpgIZZHEyyq",
        "outputId": "08ccac20-d0fc-4623-92a8-6037bf9b579d"
      },
      "execution_count": 14,
      "outputs": [
        {
          "output_type": "execute_result",
          "data": {
            "text/plain": [
              "          Date                                  Pilot and Takeoff Duration  \\\n",
              "0  07/06/2022    henrique pessoa\\nPetropolis City (Simeria tak...     0:39   \n",
              "1  07/06/2022    Victor Affonso Ferreira Zarlotti\\nPetropolis ...     0:30   \n",
              "2  07/06/2022    Rafael Baroni\\nPetropolis City (Simeria takeo...     0:13   \n",
              "3  05/06/2022    Victor Affonso Ferreira Zarlotti\\nPetropolis ...     0:48   \n",
              "4  22/05/2022    Vagner Garcia\\nPetropolis City (Simeria takeo...     0:48   \n",
              "\n",
              "  Straight Distance   OLC KM OLC Points                              Pilot  \\\n",
              "0            5.4 km   8.0 km     12.04                     henrique pessoa   \n",
              "1            4.8 km   7.1 km     10.70    Victor Affonso Ferreira Zarlotti   \n",
              "2            4.6 km   5.4 km      8.05                       Rafael Baroni   \n",
              "3            6.1 km   9.7 km     14.62    Victor Affonso Ferreira Zarlotti   \n",
              "4            4.7 km  11.6 km     17.34                       Vagner Garcia   \n",
              "\n",
              "                                        Location  \n",
              "0  Petropolis City (Simeria takeoff) - BR [~0.6]  \n",
              "1         Petropolis City (Simeria takeoff) - BR  \n",
              "2  Petropolis City (Simeria takeoff) - BR [~0.6]  \n",
              "3         Petropolis City (Simeria takeoff) - BR  \n",
              "4         Petropolis City (Simeria takeoff) - BR  "
            ],
            "text/html": [
              "\n",
              "  <div id=\"df-0bfb4e24-3e08-4ceb-8e50-8237aa96e7fc\">\n",
              "    <div class=\"colab-df-container\">\n",
              "      <div>\n",
              "<style scoped>\n",
              "    .dataframe tbody tr th:only-of-type {\n",
              "        vertical-align: middle;\n",
              "    }\n",
              "\n",
              "    .dataframe tbody tr th {\n",
              "        vertical-align: top;\n",
              "    }\n",
              "\n",
              "    .dataframe thead th {\n",
              "        text-align: right;\n",
              "    }\n",
              "</style>\n",
              "<table border=\"1\" class=\"dataframe\">\n",
              "  <thead>\n",
              "    <tr style=\"text-align: right;\">\n",
              "      <th></th>\n",
              "      <th>Date</th>\n",
              "      <th>Pilot and Takeoff</th>\n",
              "      <th>Duration</th>\n",
              "      <th>Straight Distance</th>\n",
              "      <th>OLC KM</th>\n",
              "      <th>OLC Points</th>\n",
              "      <th>Pilot</th>\n",
              "      <th>Location</th>\n",
              "    </tr>\n",
              "  </thead>\n",
              "  <tbody>\n",
              "    <tr>\n",
              "      <th>0</th>\n",
              "      <td>07/06/2022</td>\n",
              "      <td>henrique pessoa\\nPetropolis City (Simeria tak...</td>\n",
              "      <td>0:39</td>\n",
              "      <td>5.4 km</td>\n",
              "      <td>8.0 km</td>\n",
              "      <td>12.04</td>\n",
              "      <td>henrique pessoa</td>\n",
              "      <td>Petropolis City (Simeria takeoff) - BR [~0.6]</td>\n",
              "    </tr>\n",
              "    <tr>\n",
              "      <th>1</th>\n",
              "      <td>07/06/2022</td>\n",
              "      <td>Victor Affonso Ferreira Zarlotti\\nPetropolis ...</td>\n",
              "      <td>0:30</td>\n",
              "      <td>4.8 km</td>\n",
              "      <td>7.1 km</td>\n",
              "      <td>10.70</td>\n",
              "      <td>Victor Affonso Ferreira Zarlotti</td>\n",
              "      <td>Petropolis City (Simeria takeoff) - BR</td>\n",
              "    </tr>\n",
              "    <tr>\n",
              "      <th>2</th>\n",
              "      <td>07/06/2022</td>\n",
              "      <td>Rafael Baroni\\nPetropolis City (Simeria takeo...</td>\n",
              "      <td>0:13</td>\n",
              "      <td>4.6 km</td>\n",
              "      <td>5.4 km</td>\n",
              "      <td>8.05</td>\n",
              "      <td>Rafael Baroni</td>\n",
              "      <td>Petropolis City (Simeria takeoff) - BR [~0.6]</td>\n",
              "    </tr>\n",
              "    <tr>\n",
              "      <th>3</th>\n",
              "      <td>05/06/2022</td>\n",
              "      <td>Victor Affonso Ferreira Zarlotti\\nPetropolis ...</td>\n",
              "      <td>0:48</td>\n",
              "      <td>6.1 km</td>\n",
              "      <td>9.7 km</td>\n",
              "      <td>14.62</td>\n",
              "      <td>Victor Affonso Ferreira Zarlotti</td>\n",
              "      <td>Petropolis City (Simeria takeoff) - BR</td>\n",
              "    </tr>\n",
              "    <tr>\n",
              "      <th>4</th>\n",
              "      <td>22/05/2022</td>\n",
              "      <td>Vagner Garcia\\nPetropolis City (Simeria takeo...</td>\n",
              "      <td>0:48</td>\n",
              "      <td>4.7 km</td>\n",
              "      <td>11.6 km</td>\n",
              "      <td>17.34</td>\n",
              "      <td>Vagner Garcia</td>\n",
              "      <td>Petropolis City (Simeria takeoff) - BR</td>\n",
              "    </tr>\n",
              "  </tbody>\n",
              "</table>\n",
              "</div>\n",
              "      <button class=\"colab-df-convert\" onclick=\"convertToInteractive('df-0bfb4e24-3e08-4ceb-8e50-8237aa96e7fc')\"\n",
              "              title=\"Convert this dataframe to an interactive table.\"\n",
              "              style=\"display:none;\">\n",
              "        \n",
              "  <svg xmlns=\"http://www.w3.org/2000/svg\" height=\"24px\"viewBox=\"0 0 24 24\"\n",
              "       width=\"24px\">\n",
              "    <path d=\"M0 0h24v24H0V0z\" fill=\"none\"/>\n",
              "    <path d=\"M18.56 5.44l.94 2.06.94-2.06 2.06-.94-2.06-.94-.94-2.06-.94 2.06-2.06.94zm-11 1L8.5 8.5l.94-2.06 2.06-.94-2.06-.94L8.5 2.5l-.94 2.06-2.06.94zm10 10l.94 2.06.94-2.06 2.06-.94-2.06-.94-.94-2.06-.94 2.06-2.06.94z\"/><path d=\"M17.41 7.96l-1.37-1.37c-.4-.4-.92-.59-1.43-.59-.52 0-1.04.2-1.43.59L10.3 9.45l-7.72 7.72c-.78.78-.78 2.05 0 2.83L4 21.41c.39.39.9.59 1.41.59.51 0 1.02-.2 1.41-.59l7.78-7.78 2.81-2.81c.8-.78.8-2.07 0-2.86zM5.41 20L4 18.59l7.72-7.72 1.47 1.35L5.41 20z\"/>\n",
              "  </svg>\n",
              "      </button>\n",
              "      \n",
              "  <style>\n",
              "    .colab-df-container {\n",
              "      display:flex;\n",
              "      flex-wrap:wrap;\n",
              "      gap: 12px;\n",
              "    }\n",
              "\n",
              "    .colab-df-convert {\n",
              "      background-color: #E8F0FE;\n",
              "      border: none;\n",
              "      border-radius: 50%;\n",
              "      cursor: pointer;\n",
              "      display: none;\n",
              "      fill: #1967D2;\n",
              "      height: 32px;\n",
              "      padding: 0 0 0 0;\n",
              "      width: 32px;\n",
              "    }\n",
              "\n",
              "    .colab-df-convert:hover {\n",
              "      background-color: #E2EBFA;\n",
              "      box-shadow: 0px 1px 2px rgba(60, 64, 67, 0.3), 0px 1px 3px 1px rgba(60, 64, 67, 0.15);\n",
              "      fill: #174EA6;\n",
              "    }\n",
              "\n",
              "    [theme=dark] .colab-df-convert {\n",
              "      background-color: #3B4455;\n",
              "      fill: #D2E3FC;\n",
              "    }\n",
              "\n",
              "    [theme=dark] .colab-df-convert:hover {\n",
              "      background-color: #434B5C;\n",
              "      box-shadow: 0px 1px 3px 1px rgba(0, 0, 0, 0.15);\n",
              "      filter: drop-shadow(0px 1px 2px rgba(0, 0, 0, 0.3));\n",
              "      fill: #FFFFFF;\n",
              "    }\n",
              "  </style>\n",
              "\n",
              "      <script>\n",
              "        const buttonEl =\n",
              "          document.querySelector('#df-0bfb4e24-3e08-4ceb-8e50-8237aa96e7fc button.colab-df-convert');\n",
              "        buttonEl.style.display =\n",
              "          google.colab.kernel.accessAllowed ? 'block' : 'none';\n",
              "\n",
              "        async function convertToInteractive(key) {\n",
              "          const element = document.querySelector('#df-0bfb4e24-3e08-4ceb-8e50-8237aa96e7fc');\n",
              "          const dataTable =\n",
              "            await google.colab.kernel.invokeFunction('convertToInteractive',\n",
              "                                                     [key], {});\n",
              "          if (!dataTable) return;\n",
              "\n",
              "          const docLinkHtml = 'Like what you see? Visit the ' +\n",
              "            '<a target=\"_blank\" href=https://colab.research.google.com/notebooks/data_table.ipynb>data table notebook</a>'\n",
              "            + ' to learn more about interactive tables.';\n",
              "          element.innerHTML = '';\n",
              "          dataTable['output_type'] = 'display_data';\n",
              "          await google.colab.output.renderOutput(dataTable, element);\n",
              "          const docLink = document.createElement('div');\n",
              "          docLink.innerHTML = docLinkHtml;\n",
              "          element.appendChild(docLink);\n",
              "        }\n",
              "      </script>\n",
              "    </div>\n",
              "  </div>\n",
              "  "
            ]
          },
          "metadata": {},
          "execution_count": 14
        }
      ]
    },
    {
      "cell_type": "code",
      "source": [
        "data = data.drop(columns=['Pilot and Takeoff'])\n",
        "data.head()"
      ],
      "metadata": {
        "colab": {
          "base_uri": "https://localhost:8080/",
          "height": 206
        },
        "id": "3LKX1EeaEmX4",
        "outputId": "3fb2aaee-1821-4e59-bc19-1e6bdd3aebdc"
      },
      "execution_count": 15,
      "outputs": [
        {
          "output_type": "execute_result",
          "data": {
            "text/plain": [
              "          Date Duration Straight Distance   OLC KM OLC Points  \\\n",
              "0  07/06/2022      0:39            5.4 km   8.0 km     12.04    \n",
              "1  07/06/2022      0:30            4.8 km   7.1 km     10.70    \n",
              "2  07/06/2022      0:13            4.6 km   5.4 km      8.05    \n",
              "3  05/06/2022      0:48            6.1 km   9.7 km     14.62    \n",
              "4  22/05/2022      0:48            4.7 km  11.6 km     17.34    \n",
              "\n",
              "                               Pilot  \\\n",
              "0                    henrique pessoa   \n",
              "1   Victor Affonso Ferreira Zarlotti   \n",
              "2                      Rafael Baroni   \n",
              "3   Victor Affonso Ferreira Zarlotti   \n",
              "4                      Vagner Garcia   \n",
              "\n",
              "                                        Location  \n",
              "0  Petropolis City (Simeria takeoff) - BR [~0.6]  \n",
              "1         Petropolis City (Simeria takeoff) - BR  \n",
              "2  Petropolis City (Simeria takeoff) - BR [~0.6]  \n",
              "3         Petropolis City (Simeria takeoff) - BR  \n",
              "4         Petropolis City (Simeria takeoff) - BR  "
            ],
            "text/html": [
              "\n",
              "  <div id=\"df-d72446a2-106d-406c-8638-42207d6c8477\">\n",
              "    <div class=\"colab-df-container\">\n",
              "      <div>\n",
              "<style scoped>\n",
              "    .dataframe tbody tr th:only-of-type {\n",
              "        vertical-align: middle;\n",
              "    }\n",
              "\n",
              "    .dataframe tbody tr th {\n",
              "        vertical-align: top;\n",
              "    }\n",
              "\n",
              "    .dataframe thead th {\n",
              "        text-align: right;\n",
              "    }\n",
              "</style>\n",
              "<table border=\"1\" class=\"dataframe\">\n",
              "  <thead>\n",
              "    <tr style=\"text-align: right;\">\n",
              "      <th></th>\n",
              "      <th>Date</th>\n",
              "      <th>Duration</th>\n",
              "      <th>Straight Distance</th>\n",
              "      <th>OLC KM</th>\n",
              "      <th>OLC Points</th>\n",
              "      <th>Pilot</th>\n",
              "      <th>Location</th>\n",
              "    </tr>\n",
              "  </thead>\n",
              "  <tbody>\n",
              "    <tr>\n",
              "      <th>0</th>\n",
              "      <td>07/06/2022</td>\n",
              "      <td>0:39</td>\n",
              "      <td>5.4 km</td>\n",
              "      <td>8.0 km</td>\n",
              "      <td>12.04</td>\n",
              "      <td>henrique pessoa</td>\n",
              "      <td>Petropolis City (Simeria takeoff) - BR [~0.6]</td>\n",
              "    </tr>\n",
              "    <tr>\n",
              "      <th>1</th>\n",
              "      <td>07/06/2022</td>\n",
              "      <td>0:30</td>\n",
              "      <td>4.8 km</td>\n",
              "      <td>7.1 km</td>\n",
              "      <td>10.70</td>\n",
              "      <td>Victor Affonso Ferreira Zarlotti</td>\n",
              "      <td>Petropolis City (Simeria takeoff) - BR</td>\n",
              "    </tr>\n",
              "    <tr>\n",
              "      <th>2</th>\n",
              "      <td>07/06/2022</td>\n",
              "      <td>0:13</td>\n",
              "      <td>4.6 km</td>\n",
              "      <td>5.4 km</td>\n",
              "      <td>8.05</td>\n",
              "      <td>Rafael Baroni</td>\n",
              "      <td>Petropolis City (Simeria takeoff) - BR [~0.6]</td>\n",
              "    </tr>\n",
              "    <tr>\n",
              "      <th>3</th>\n",
              "      <td>05/06/2022</td>\n",
              "      <td>0:48</td>\n",
              "      <td>6.1 km</td>\n",
              "      <td>9.7 km</td>\n",
              "      <td>14.62</td>\n",
              "      <td>Victor Affonso Ferreira Zarlotti</td>\n",
              "      <td>Petropolis City (Simeria takeoff) - BR</td>\n",
              "    </tr>\n",
              "    <tr>\n",
              "      <th>4</th>\n",
              "      <td>22/05/2022</td>\n",
              "      <td>0:48</td>\n",
              "      <td>4.7 km</td>\n",
              "      <td>11.6 km</td>\n",
              "      <td>17.34</td>\n",
              "      <td>Vagner Garcia</td>\n",
              "      <td>Petropolis City (Simeria takeoff) - BR</td>\n",
              "    </tr>\n",
              "  </tbody>\n",
              "</table>\n",
              "</div>\n",
              "      <button class=\"colab-df-convert\" onclick=\"convertToInteractive('df-d72446a2-106d-406c-8638-42207d6c8477')\"\n",
              "              title=\"Convert this dataframe to an interactive table.\"\n",
              "              style=\"display:none;\">\n",
              "        \n",
              "  <svg xmlns=\"http://www.w3.org/2000/svg\" height=\"24px\"viewBox=\"0 0 24 24\"\n",
              "       width=\"24px\">\n",
              "    <path d=\"M0 0h24v24H0V0z\" fill=\"none\"/>\n",
              "    <path d=\"M18.56 5.44l.94 2.06.94-2.06 2.06-.94-2.06-.94-.94-2.06-.94 2.06-2.06.94zm-11 1L8.5 8.5l.94-2.06 2.06-.94-2.06-.94L8.5 2.5l-.94 2.06-2.06.94zm10 10l.94 2.06.94-2.06 2.06-.94-2.06-.94-.94-2.06-.94 2.06-2.06.94z\"/><path d=\"M17.41 7.96l-1.37-1.37c-.4-.4-.92-.59-1.43-.59-.52 0-1.04.2-1.43.59L10.3 9.45l-7.72 7.72c-.78.78-.78 2.05 0 2.83L4 21.41c.39.39.9.59 1.41.59.51 0 1.02-.2 1.41-.59l7.78-7.78 2.81-2.81c.8-.78.8-2.07 0-2.86zM5.41 20L4 18.59l7.72-7.72 1.47 1.35L5.41 20z\"/>\n",
              "  </svg>\n",
              "      </button>\n",
              "      \n",
              "  <style>\n",
              "    .colab-df-container {\n",
              "      display:flex;\n",
              "      flex-wrap:wrap;\n",
              "      gap: 12px;\n",
              "    }\n",
              "\n",
              "    .colab-df-convert {\n",
              "      background-color: #E8F0FE;\n",
              "      border: none;\n",
              "      border-radius: 50%;\n",
              "      cursor: pointer;\n",
              "      display: none;\n",
              "      fill: #1967D2;\n",
              "      height: 32px;\n",
              "      padding: 0 0 0 0;\n",
              "      width: 32px;\n",
              "    }\n",
              "\n",
              "    .colab-df-convert:hover {\n",
              "      background-color: #E2EBFA;\n",
              "      box-shadow: 0px 1px 2px rgba(60, 64, 67, 0.3), 0px 1px 3px 1px rgba(60, 64, 67, 0.15);\n",
              "      fill: #174EA6;\n",
              "    }\n",
              "\n",
              "    [theme=dark] .colab-df-convert {\n",
              "      background-color: #3B4455;\n",
              "      fill: #D2E3FC;\n",
              "    }\n",
              "\n",
              "    [theme=dark] .colab-df-convert:hover {\n",
              "      background-color: #434B5C;\n",
              "      box-shadow: 0px 1px 3px 1px rgba(0, 0, 0, 0.15);\n",
              "      filter: drop-shadow(0px 1px 2px rgba(0, 0, 0, 0.3));\n",
              "      fill: #FFFFFF;\n",
              "    }\n",
              "  </style>\n",
              "\n",
              "      <script>\n",
              "        const buttonEl =\n",
              "          document.querySelector('#df-d72446a2-106d-406c-8638-42207d6c8477 button.colab-df-convert');\n",
              "        buttonEl.style.display =\n",
              "          google.colab.kernel.accessAllowed ? 'block' : 'none';\n",
              "\n",
              "        async function convertToInteractive(key) {\n",
              "          const element = document.querySelector('#df-d72446a2-106d-406c-8638-42207d6c8477');\n",
              "          const dataTable =\n",
              "            await google.colab.kernel.invokeFunction('convertToInteractive',\n",
              "                                                     [key], {});\n",
              "          if (!dataTable) return;\n",
              "\n",
              "          const docLinkHtml = 'Like what you see? Visit the ' +\n",
              "            '<a target=\"_blank\" href=https://colab.research.google.com/notebooks/data_table.ipynb>data table notebook</a>'\n",
              "            + ' to learn more about interactive tables.';\n",
              "          element.innerHTML = '';\n",
              "          dataTable['output_type'] = 'display_data';\n",
              "          await google.colab.output.renderOutput(dataTable, element);\n",
              "          const docLink = document.createElement('div');\n",
              "          docLink.innerHTML = docLinkHtml;\n",
              "          element.appendChild(docLink);\n",
              "        }\n",
              "      </script>\n",
              "    </div>\n",
              "  </div>\n",
              "  "
            ]
          },
          "metadata": {},
          "execution_count": 15
        }
      ]
    },
    {
      "cell_type": "code",
      "source": [
        "data = data[['Date', 'Pilot',\t'Location', 'Duration', 'Straight Distance', \t'OLC KM', 'OLC Points']]\n",
        "data.head()"
      ],
      "metadata": {
        "colab": {
          "base_uri": "https://localhost:8080/",
          "height": 206
        },
        "id": "UDJvg8BPEwoT",
        "outputId": "b28d1e6c-d2c4-49ce-ba4d-f3480abd68cb"
      },
      "execution_count": 16,
      "outputs": [
        {
          "output_type": "execute_result",
          "data": {
            "text/plain": [
              "          Date                              Pilot  \\\n",
              "0  07/06/2022                     henrique pessoa   \n",
              "1  07/06/2022    Victor Affonso Ferreira Zarlotti   \n",
              "2  07/06/2022                       Rafael Baroni   \n",
              "3  05/06/2022    Victor Affonso Ferreira Zarlotti   \n",
              "4  22/05/2022                       Vagner Garcia   \n",
              "\n",
              "                                        Location Duration Straight Distance  \\\n",
              "0  Petropolis City (Simeria takeoff) - BR [~0.6]     0:39            5.4 km   \n",
              "1         Petropolis City (Simeria takeoff) - BR     0:30            4.8 km   \n",
              "2  Petropolis City (Simeria takeoff) - BR [~0.6]     0:13            4.6 km   \n",
              "3         Petropolis City (Simeria takeoff) - BR     0:48            6.1 km   \n",
              "4         Petropolis City (Simeria takeoff) - BR     0:48            4.7 km   \n",
              "\n",
              "    OLC KM OLC Points  \n",
              "0   8.0 km     12.04   \n",
              "1   7.1 km     10.70   \n",
              "2   5.4 km      8.05   \n",
              "3   9.7 km     14.62   \n",
              "4  11.6 km     17.34   "
            ],
            "text/html": [
              "\n",
              "  <div id=\"df-875d00ea-a0b6-4053-bd0b-0e12464f9b8e\">\n",
              "    <div class=\"colab-df-container\">\n",
              "      <div>\n",
              "<style scoped>\n",
              "    .dataframe tbody tr th:only-of-type {\n",
              "        vertical-align: middle;\n",
              "    }\n",
              "\n",
              "    .dataframe tbody tr th {\n",
              "        vertical-align: top;\n",
              "    }\n",
              "\n",
              "    .dataframe thead th {\n",
              "        text-align: right;\n",
              "    }\n",
              "</style>\n",
              "<table border=\"1\" class=\"dataframe\">\n",
              "  <thead>\n",
              "    <tr style=\"text-align: right;\">\n",
              "      <th></th>\n",
              "      <th>Date</th>\n",
              "      <th>Pilot</th>\n",
              "      <th>Location</th>\n",
              "      <th>Duration</th>\n",
              "      <th>Straight Distance</th>\n",
              "      <th>OLC KM</th>\n",
              "      <th>OLC Points</th>\n",
              "    </tr>\n",
              "  </thead>\n",
              "  <tbody>\n",
              "    <tr>\n",
              "      <th>0</th>\n",
              "      <td>07/06/2022</td>\n",
              "      <td>henrique pessoa</td>\n",
              "      <td>Petropolis City (Simeria takeoff) - BR [~0.6]</td>\n",
              "      <td>0:39</td>\n",
              "      <td>5.4 km</td>\n",
              "      <td>8.0 km</td>\n",
              "      <td>12.04</td>\n",
              "    </tr>\n",
              "    <tr>\n",
              "      <th>1</th>\n",
              "      <td>07/06/2022</td>\n",
              "      <td>Victor Affonso Ferreira Zarlotti</td>\n",
              "      <td>Petropolis City (Simeria takeoff) - BR</td>\n",
              "      <td>0:30</td>\n",
              "      <td>4.8 km</td>\n",
              "      <td>7.1 km</td>\n",
              "      <td>10.70</td>\n",
              "    </tr>\n",
              "    <tr>\n",
              "      <th>2</th>\n",
              "      <td>07/06/2022</td>\n",
              "      <td>Rafael Baroni</td>\n",
              "      <td>Petropolis City (Simeria takeoff) - BR [~0.6]</td>\n",
              "      <td>0:13</td>\n",
              "      <td>4.6 km</td>\n",
              "      <td>5.4 km</td>\n",
              "      <td>8.05</td>\n",
              "    </tr>\n",
              "    <tr>\n",
              "      <th>3</th>\n",
              "      <td>05/06/2022</td>\n",
              "      <td>Victor Affonso Ferreira Zarlotti</td>\n",
              "      <td>Petropolis City (Simeria takeoff) - BR</td>\n",
              "      <td>0:48</td>\n",
              "      <td>6.1 km</td>\n",
              "      <td>9.7 km</td>\n",
              "      <td>14.62</td>\n",
              "    </tr>\n",
              "    <tr>\n",
              "      <th>4</th>\n",
              "      <td>22/05/2022</td>\n",
              "      <td>Vagner Garcia</td>\n",
              "      <td>Petropolis City (Simeria takeoff) - BR</td>\n",
              "      <td>0:48</td>\n",
              "      <td>4.7 km</td>\n",
              "      <td>11.6 km</td>\n",
              "      <td>17.34</td>\n",
              "    </tr>\n",
              "  </tbody>\n",
              "</table>\n",
              "</div>\n",
              "      <button class=\"colab-df-convert\" onclick=\"convertToInteractive('df-875d00ea-a0b6-4053-bd0b-0e12464f9b8e')\"\n",
              "              title=\"Convert this dataframe to an interactive table.\"\n",
              "              style=\"display:none;\">\n",
              "        \n",
              "  <svg xmlns=\"http://www.w3.org/2000/svg\" height=\"24px\"viewBox=\"0 0 24 24\"\n",
              "       width=\"24px\">\n",
              "    <path d=\"M0 0h24v24H0V0z\" fill=\"none\"/>\n",
              "    <path d=\"M18.56 5.44l.94 2.06.94-2.06 2.06-.94-2.06-.94-.94-2.06-.94 2.06-2.06.94zm-11 1L8.5 8.5l.94-2.06 2.06-.94-2.06-.94L8.5 2.5l-.94 2.06-2.06.94zm10 10l.94 2.06.94-2.06 2.06-.94-2.06-.94-.94-2.06-.94 2.06-2.06.94z\"/><path d=\"M17.41 7.96l-1.37-1.37c-.4-.4-.92-.59-1.43-.59-.52 0-1.04.2-1.43.59L10.3 9.45l-7.72 7.72c-.78.78-.78 2.05 0 2.83L4 21.41c.39.39.9.59 1.41.59.51 0 1.02-.2 1.41-.59l7.78-7.78 2.81-2.81c.8-.78.8-2.07 0-2.86zM5.41 20L4 18.59l7.72-7.72 1.47 1.35L5.41 20z\"/>\n",
              "  </svg>\n",
              "      </button>\n",
              "      \n",
              "  <style>\n",
              "    .colab-df-container {\n",
              "      display:flex;\n",
              "      flex-wrap:wrap;\n",
              "      gap: 12px;\n",
              "    }\n",
              "\n",
              "    .colab-df-convert {\n",
              "      background-color: #E8F0FE;\n",
              "      border: none;\n",
              "      border-radius: 50%;\n",
              "      cursor: pointer;\n",
              "      display: none;\n",
              "      fill: #1967D2;\n",
              "      height: 32px;\n",
              "      padding: 0 0 0 0;\n",
              "      width: 32px;\n",
              "    }\n",
              "\n",
              "    .colab-df-convert:hover {\n",
              "      background-color: #E2EBFA;\n",
              "      box-shadow: 0px 1px 2px rgba(60, 64, 67, 0.3), 0px 1px 3px 1px rgba(60, 64, 67, 0.15);\n",
              "      fill: #174EA6;\n",
              "    }\n",
              "\n",
              "    [theme=dark] .colab-df-convert {\n",
              "      background-color: #3B4455;\n",
              "      fill: #D2E3FC;\n",
              "    }\n",
              "\n",
              "    [theme=dark] .colab-df-convert:hover {\n",
              "      background-color: #434B5C;\n",
              "      box-shadow: 0px 1px 3px 1px rgba(0, 0, 0, 0.15);\n",
              "      filter: drop-shadow(0px 1px 2px rgba(0, 0, 0, 0.3));\n",
              "      fill: #FFFFFF;\n",
              "    }\n",
              "  </style>\n",
              "\n",
              "      <script>\n",
              "        const buttonEl =\n",
              "          document.querySelector('#df-875d00ea-a0b6-4053-bd0b-0e12464f9b8e button.colab-df-convert');\n",
              "        buttonEl.style.display =\n",
              "          google.colab.kernel.accessAllowed ? 'block' : 'none';\n",
              "\n",
              "        async function convertToInteractive(key) {\n",
              "          const element = document.querySelector('#df-875d00ea-a0b6-4053-bd0b-0e12464f9b8e');\n",
              "          const dataTable =\n",
              "            await google.colab.kernel.invokeFunction('convertToInteractive',\n",
              "                                                     [key], {});\n",
              "          if (!dataTable) return;\n",
              "\n",
              "          const docLinkHtml = 'Like what you see? Visit the ' +\n",
              "            '<a target=\"_blank\" href=https://colab.research.google.com/notebooks/data_table.ipynb>data table notebook</a>'\n",
              "            + ' to learn more about interactive tables.';\n",
              "          element.innerHTML = '';\n",
              "          dataTable['output_type'] = 'display_data';\n",
              "          await google.colab.output.renderOutput(dataTable, element);\n",
              "          const docLink = document.createElement('div');\n",
              "          docLink.innerHTML = docLinkHtml;\n",
              "          element.appendChild(docLink);\n",
              "        }\n",
              "      </script>\n",
              "    </div>\n",
              "  </div>\n",
              "  "
            ]
          },
          "metadata": {},
          "execution_count": 16
        }
      ]
    },
    {
      "cell_type": "markdown",
      "source": [
        "Now we build a routine to scrap all the fifteen takeoffs registered for Petropolis/RJ, save them to a CSV file, and close it."
      ],
      "metadata": {
        "id": "jJwhyi2n8B5v"
      }
    },
    {
      "cell_type": "markdown",
      "source": [
        "# Web Scraping Data"
      ],
      "metadata": {
        "id": "JHQ5lQVZ8w9C"
      }
    },
    {
      "cell_type": "code",
      "source": [
        "#Scrapping others take offs\n",
        "base_url = 'http://xcbrasil.com.br'\n",
        "takeoff_url_list = [\n",
        "                    'http://xcbrasil.com.br/tracks/world/alltimes/brand:all,cat:0,class:all,xctype:all,club:all,pilot:all,takeoff:8892',\n",
        "                    'http://xcbrasil.com.br/tracks/world/alltimes/brand:all,cat:0,class:all,xctype:all,club:all,pilot:all,takeoff:9222',\n",
        "                    'http://xcbrasil.com.br/tracks/world/alltimes/brand:all,cat:0,class:all,xctype:all,club:all,pilot:all,takeoff:9236',\n",
        "                    'http://xcbrasil.com.br/tracks/world/alltimes/brand:all,cat:0,class:all,xctype:all,club:all,pilot:all,takeoff:9276',\n",
        "                    'http://xcbrasil.com.br/tracks/world/alltimes/brand:all,cat:0,class:all,xctype:all,club:all,pilot:all,takeoff:8897',\n",
        "                    'http://xcbrasil.com.br/tracks/world/alltimes/brand:all,cat:0,class:all,xctype:all,club:all,pilot:all,takeoff:8960',\n",
        "                    'http://xcbrasil.com.br/tracks/world/alltimes/brand:all,cat:0,class:all,xctype:all,club:all,pilot:all,takeoff:8900',\n",
        "                    'http://xcbrasil.com.br/tracks/world/alltimes/brand:all,cat:0,class:all,xctype:all,club:all,pilot:all,takeoff:9333',\n",
        "                    'http://xcbrasil.com.br/tracks/world/alltimes/brand:all,cat:0,class:all,xctype:all,club:all,pilot:all,takeoff:13051',\n",
        "                    'http://xcbrasil.com.br/tracks/world/alltimes/brand:all,cat:0,class:all,xctype:all,club:all,pilot:all,takeoff:9495',\n",
        "                    'http://xcbrasil.com.br/tracks/world/alltimes/brand:all,cat:0,class:all,xctype:all,club:all,pilot:all,takeoff:9283',\n",
        "                    'http://xcbrasil.com.br/tracks/world/alltimes/brand:all,cat:0,class:all,xctype:all,club:all,pilot:all,takeoff:9275',\n",
        "                    'http://xcbrasil.com.br/tracks/world/alltimes/brand:all,cat:0,class:all,xctype:all,club:all,pilot:all,takeoff:8945',\n",
        "                    'http://xcbrasil.com.br/tracks/world/alltimes/brand:all,cat:0,class:all,xctype:all,club:all,pilot:all,takeoff:11051',\n",
        "                    'http://xcbrasil.com.br/tracks/world/alltimes/brand:all,cat:0,class:all,xctype:all,club:all,pilot:all,takeoff:8892'\n",
        "                    ]\n",
        "                \n",
        "for takeoff in takeoff_url_list:\n",
        "  xcbrasil_url = takeoff\n",
        "\n",
        "  lst = []\n",
        "\n",
        "  condition = True\n",
        "\n",
        "  while condition: \n",
        "    # Use requests to retrieve data from a given URL\n",
        "    xcbrasil_response = requests.get(xcbrasil_url)\n",
        "\n",
        "    # Parse the whole HTML page using BeautifulSoup\n",
        "    xcbrasil_soup = BeautifulSoup(xcbrasil_response.text, 'html.parser')\n",
        "\n",
        "    # Title of the parsed page\n",
        "    xcbrasil_soup.title\n",
        "\n",
        "    # Reading table\n",
        "    flights = xcbrasil_soup.find('table', {'class':'listTable'})\n",
        "\n",
        "    for row in flights.find_all('tr')[1:-1]:\n",
        "        s = pd.Series([data.text for data in row.find_all('td')])\n",
        "        lst.append(s)\n",
        "    \n",
        "    # Next Page\n",
        "    pg = xcbrasil_soup.find('div', {'class':'pagesDiv'})\n",
        "    active_pg = pg.find('div', {'class':'activePageNum'})\n",
        "    \n",
        "    \n",
        "    # Test if is Blank\n",
        "    if active_pg is None:\n",
        "      condition = False\n",
        "    else:\n",
        "      if active_pg.findNextSibling('a') is None:\n",
        "        condition = False\n",
        "      else:\n",
        "        next_url = base_url + active_pg.findNextSibling('a').get(\"href\")\n",
        "        xcbrasil_url = next_url\n",
        "\n",
        "  # Concatenate the Pandas Series in a DataFrame\n",
        "  data = pd.concat(lst, axis=1).T\n",
        "\n",
        "  # Dropping non usable columns\n",
        "  data = data.drop(columns=[0,7,8,9])\n",
        "\n",
        "  # Naming Columns\n",
        "  data.columns = ['Date', 'Pilot and Takeoff', 'Duration', 'Straight Distance', 'OLC KM', 'OLC Points']\n",
        "\n",
        "  # Spliting Pilot and Takeoff\n",
        "  df2 = data['Pilot and Takeoff'].str.split('\\n', expand=True)\n",
        "  df2.drop(columns=[2], inplace=True)\n",
        "  df2.columns = ['Pilot', 'Location']\n",
        "  df2.head()\n",
        "  data = data.join(df2)\n",
        "  data = data.drop(columns=['Pilot and Takeoff'])\n",
        "\n",
        "  # Reorganizing Columns\n",
        "  data = data[['Date', 'Pilot',\t'Location', 'Duration', 'Straight Distance', \t'OLC KM', 'OLC Points']]\n",
        "  \n",
        "  # Cleaning Values\n",
        "  data['Straight Distance'] = data['Straight Distance'].str.replace('km','')\n",
        "  data['OLC KM'] = data['OLC KM'].str.replace('km','')\n",
        "  data = data[data.iloc[:, 0] != data.columns[0]]\n",
        "\n",
        "  # Writing to CSV\n",
        "  data.to_csv(outputfile, index=False, header=False)\n",
        "\n",
        "print('Scraping Done')"
      ],
      "metadata": {
        "colab": {
          "base_uri": "https://localhost:8080/"
        },
        "id": "QhZTbsy-Pj5H",
        "outputId": "96b253ae-dc66-4cce-8929-04fb28555558"
      },
      "execution_count": 17,
      "outputs": [
        {
          "output_type": "stream",
          "name": "stdout",
          "text": [
            "Scraping Done\n"
          ]
        }
      ]
    },
    {
      "cell_type": "code",
      "source": [
        "outputfile.close()"
      ],
      "metadata": {
        "id": "lrHZR0p1Lukz"
      },
      "execution_count": 18,
      "outputs": []
    },
    {
      "cell_type": "markdown",
      "source": [
        "# Analysing Data"
      ],
      "metadata": {
        "id": "aE_vXNur8-rs"
      }
    },
    {
      "cell_type": "code",
      "source": [
        "df = pd.read_csv((path + 'FlightsData.csv'), encoding='utf_8')\n",
        "df = pd.DataFrame(df)\n",
        "df.describe()"
      ],
      "metadata": {
        "colab": {
          "base_uri": "https://localhost:8080/",
          "height": 175
        },
        "id": "bgGvJKIJSW7R",
        "outputId": "e76d3bf5-7a83-4376-ce0b-7818af959429"
      },
      "execution_count": 19,
      "outputs": [
        {
          "output_type": "execute_result",
          "data": {
            "text/plain": [
              "               Date               Pilot                             Location  \\\n",
              "count         10645               10645                                10645   \n",
              "unique         2253                 525                                  103   \n",
              "top     21/04/2020    Marcio Montenegro  Petrópolis- Parque São Vicente - BR   \n",
              "freq             42                 670                                 3953   \n",
              "\n",
              "       Duration Straight Distance OLC KM OLC Points  \n",
              "count     10645             10645  10645      10645  \n",
              "unique      257               610    741       3845  \n",
              "top        0:12              4.5    5.5       8.26   \n",
              "freq        267               645    157         24  "
            ],
            "text/html": [
              "\n",
              "  <div id=\"df-bc81e6b9-f7ea-4590-a966-1fb015f4e2ae\">\n",
              "    <div class=\"colab-df-container\">\n",
              "      <div>\n",
              "<style scoped>\n",
              "    .dataframe tbody tr th:only-of-type {\n",
              "        vertical-align: middle;\n",
              "    }\n",
              "\n",
              "    .dataframe tbody tr th {\n",
              "        vertical-align: top;\n",
              "    }\n",
              "\n",
              "    .dataframe thead th {\n",
              "        text-align: right;\n",
              "    }\n",
              "</style>\n",
              "<table border=\"1\" class=\"dataframe\">\n",
              "  <thead>\n",
              "    <tr style=\"text-align: right;\">\n",
              "      <th></th>\n",
              "      <th>Date</th>\n",
              "      <th>Pilot</th>\n",
              "      <th>Location</th>\n",
              "      <th>Duration</th>\n",
              "      <th>Straight Distance</th>\n",
              "      <th>OLC KM</th>\n",
              "      <th>OLC Points</th>\n",
              "    </tr>\n",
              "  </thead>\n",
              "  <tbody>\n",
              "    <tr>\n",
              "      <th>count</th>\n",
              "      <td>10645</td>\n",
              "      <td>10645</td>\n",
              "      <td>10645</td>\n",
              "      <td>10645</td>\n",
              "      <td>10645</td>\n",
              "      <td>10645</td>\n",
              "      <td>10645</td>\n",
              "    </tr>\n",
              "    <tr>\n",
              "      <th>unique</th>\n",
              "      <td>2253</td>\n",
              "      <td>525</td>\n",
              "      <td>103</td>\n",
              "      <td>257</td>\n",
              "      <td>610</td>\n",
              "      <td>741</td>\n",
              "      <td>3845</td>\n",
              "    </tr>\n",
              "    <tr>\n",
              "      <th>top</th>\n",
              "      <td>21/04/2020</td>\n",
              "      <td>Marcio Montenegro</td>\n",
              "      <td>Petrópolis- Parque São Vicente - BR</td>\n",
              "      <td>0:12</td>\n",
              "      <td>4.5</td>\n",
              "      <td>5.5</td>\n",
              "      <td>8.26</td>\n",
              "    </tr>\n",
              "    <tr>\n",
              "      <th>freq</th>\n",
              "      <td>42</td>\n",
              "      <td>670</td>\n",
              "      <td>3953</td>\n",
              "      <td>267</td>\n",
              "      <td>645</td>\n",
              "      <td>157</td>\n",
              "      <td>24</td>\n",
              "    </tr>\n",
              "  </tbody>\n",
              "</table>\n",
              "</div>\n",
              "      <button class=\"colab-df-convert\" onclick=\"convertToInteractive('df-bc81e6b9-f7ea-4590-a966-1fb015f4e2ae')\"\n",
              "              title=\"Convert this dataframe to an interactive table.\"\n",
              "              style=\"display:none;\">\n",
              "        \n",
              "  <svg xmlns=\"http://www.w3.org/2000/svg\" height=\"24px\"viewBox=\"0 0 24 24\"\n",
              "       width=\"24px\">\n",
              "    <path d=\"M0 0h24v24H0V0z\" fill=\"none\"/>\n",
              "    <path d=\"M18.56 5.44l.94 2.06.94-2.06 2.06-.94-2.06-.94-.94-2.06-.94 2.06-2.06.94zm-11 1L8.5 8.5l.94-2.06 2.06-.94-2.06-.94L8.5 2.5l-.94 2.06-2.06.94zm10 10l.94 2.06.94-2.06 2.06-.94-2.06-.94-.94-2.06-.94 2.06-2.06.94z\"/><path d=\"M17.41 7.96l-1.37-1.37c-.4-.4-.92-.59-1.43-.59-.52 0-1.04.2-1.43.59L10.3 9.45l-7.72 7.72c-.78.78-.78 2.05 0 2.83L4 21.41c.39.39.9.59 1.41.59.51 0 1.02-.2 1.41-.59l7.78-7.78 2.81-2.81c.8-.78.8-2.07 0-2.86zM5.41 20L4 18.59l7.72-7.72 1.47 1.35L5.41 20z\"/>\n",
              "  </svg>\n",
              "      </button>\n",
              "      \n",
              "  <style>\n",
              "    .colab-df-container {\n",
              "      display:flex;\n",
              "      flex-wrap:wrap;\n",
              "      gap: 12px;\n",
              "    }\n",
              "\n",
              "    .colab-df-convert {\n",
              "      background-color: #E8F0FE;\n",
              "      border: none;\n",
              "      border-radius: 50%;\n",
              "      cursor: pointer;\n",
              "      display: none;\n",
              "      fill: #1967D2;\n",
              "      height: 32px;\n",
              "      padding: 0 0 0 0;\n",
              "      width: 32px;\n",
              "    }\n",
              "\n",
              "    .colab-df-convert:hover {\n",
              "      background-color: #E2EBFA;\n",
              "      box-shadow: 0px 1px 2px rgba(60, 64, 67, 0.3), 0px 1px 3px 1px rgba(60, 64, 67, 0.15);\n",
              "      fill: #174EA6;\n",
              "    }\n",
              "\n",
              "    [theme=dark] .colab-df-convert {\n",
              "      background-color: #3B4455;\n",
              "      fill: #D2E3FC;\n",
              "    }\n",
              "\n",
              "    [theme=dark] .colab-df-convert:hover {\n",
              "      background-color: #434B5C;\n",
              "      box-shadow: 0px 1px 3px 1px rgba(0, 0, 0, 0.15);\n",
              "      filter: drop-shadow(0px 1px 2px rgba(0, 0, 0, 0.3));\n",
              "      fill: #FFFFFF;\n",
              "    }\n",
              "  </style>\n",
              "\n",
              "      <script>\n",
              "        const buttonEl =\n",
              "          document.querySelector('#df-bc81e6b9-f7ea-4590-a966-1fb015f4e2ae button.colab-df-convert');\n",
              "        buttonEl.style.display =\n",
              "          google.colab.kernel.accessAllowed ? 'block' : 'none';\n",
              "\n",
              "        async function convertToInteractive(key) {\n",
              "          const element = document.querySelector('#df-bc81e6b9-f7ea-4590-a966-1fb015f4e2ae');\n",
              "          const dataTable =\n",
              "            await google.colab.kernel.invokeFunction('convertToInteractive',\n",
              "                                                     [key], {});\n",
              "          if (!dataTable) return;\n",
              "\n",
              "          const docLinkHtml = 'Like what you see? Visit the ' +\n",
              "            '<a target=\"_blank\" href=https://colab.research.google.com/notebooks/data_table.ipynb>data table notebook</a>'\n",
              "            + ' to learn more about interactive tables.';\n",
              "          element.innerHTML = '';\n",
              "          dataTable['output_type'] = 'display_data';\n",
              "          await google.colab.output.renderOutput(dataTable, element);\n",
              "          const docLink = document.createElement('div');\n",
              "          docLink.innerHTML = docLinkHtml;\n",
              "          element.appendChild(docLink);\n",
              "        }\n",
              "      </script>\n",
              "    </div>\n",
              "  </div>\n",
              "  "
            ]
          },
          "metadata": {},
          "execution_count": 19
        }
      ]
    },
    {
      "cell_type": "code",
      "source": [
        "df.info()"
      ],
      "metadata": {
        "colab": {
          "base_uri": "https://localhost:8080/"
        },
        "id": "PWX8bz6l_R0J",
        "outputId": "e7c214c3-1ef9-4912-8fa0-d87850e5e1bd"
      },
      "execution_count": 20,
      "outputs": [
        {
          "output_type": "stream",
          "name": "stdout",
          "text": [
            "<class 'pandas.core.frame.DataFrame'>\n",
            "RangeIndex: 10645 entries, 0 to 10644\n",
            "Data columns (total 7 columns):\n",
            " #   Column             Non-Null Count  Dtype \n",
            "---  ------             --------------  ----- \n",
            " 0   Date               10645 non-null  object\n",
            " 1   Pilot              10645 non-null  object\n",
            " 2   Location           10645 non-null  object\n",
            " 3   Duration           10645 non-null  object\n",
            " 4   Straight Distance  10645 non-null  object\n",
            " 5   OLC KM             10645 non-null  object\n",
            " 6   OLC Points         10645 non-null  object\n",
            "dtypes: object(7)\n",
            "memory usage: 582.3+ KB\n"
          ]
        }
      ]
    },
    {
      "cell_type": "markdown",
      "source": [
        "# Most frequent Pilot of all times"
      ],
      "metadata": {
        "id": "tbxeOrYsDQX3"
      }
    },
    {
      "cell_type": "code",
      "source": [
        "# Most frequent Pilot of all times\n",
        "df['Pilot'].mode()"
      ],
      "metadata": {
        "colab": {
          "base_uri": "https://localhost:8080/"
        },
        "id": "aV4q3VOKoh3R",
        "outputId": "a38b4d2f-acec-403a-cb8d-8a0139882713"
      },
      "execution_count": 21,
      "outputs": [
        {
          "output_type": "execute_result",
          "data": {
            "text/plain": [
              "0     Marcio Montenegro\n",
              "dtype: object"
            ]
          },
          "metadata": {},
          "execution_count": 21
        }
      ]
    },
    {
      "cell_type": "code",
      "source": [
        "df['Pilot'].value_counts()"
      ],
      "metadata": {
        "colab": {
          "base_uri": "https://localhost:8080/"
        },
        "id": "1h8iMSfbCQ-a",
        "outputId": "f54d648e-d98b-4bcb-baa5-df1c8a34abe8"
      },
      "execution_count": 22,
      "outputs": [
        {
          "output_type": "execute_result",
          "data": {
            "text/plain": [
              " Marcio Montenegro                     670\n",
              " luiz fayao                            435\n",
              " ricardo campos arnaud de veiga fl     404\n",
              " Luan lima bastos                      335\n",
              " Ronaldo Kiyoshi Nakayama              316\n",
              "                                      ... \n",
              " Ivan Marangon Schwanes                  1\n",
              " Augusto Glauco de Almeida Quintino      1\n",
              " Douglas  Goncalves                      1\n",
              " Rui Miguel Mendes e Menezes Santos      1\n",
              " marcelo tabajara ferraz d veiga         1\n",
              "Name: Pilot, Length: 525, dtype: int64"
            ]
          },
          "metadata": {},
          "execution_count": 22
        }
      ]
    },
    {
      "cell_type": "markdown",
      "source": [
        "# More frequent Take off of all times"
      ],
      "metadata": {
        "id": "cW7A8s7VDYSh"
      }
    },
    {
      "cell_type": "code",
      "source": [
        "# Unifying take off names\n",
        "\n",
        "df.loc[df['Location'].str.contains('Simeria'), 'Location'] = 'Simeria'\n",
        "df.loc[df['Location'].str.contains('Siméria'), 'Location'] = 'Simeria'\n",
        "df.loc[df['Location'].str.contains('Parque'), 'Location'] = 'PSV'\n",
        "df.loc[df['Location'].str.contains('Morin'), 'Location'] = 'Morin'\n",
        "df.loc[df['Location'].str.contains('Petropolis - BR'), 'Location'] = 'Unidentified'\n",
        "df.loc[df['Location'].str.contains('Petrópolis - BR'), 'Location'] = 'Unidentified'"
      ],
      "metadata": {
        "id": "MVQ2XsWbDGpp"
      },
      "execution_count": 23,
      "outputs": []
    },
    {
      "cell_type": "code",
      "source": [
        "# More frequent Take off of all times\n",
        "df['Location'].mode()"
      ],
      "metadata": {
        "colab": {
          "base_uri": "https://localhost:8080/"
        },
        "id": "xFv4ebHY03M2",
        "outputId": "eaf8e0c3-f895-47d7-bd8a-5004a8d90dd1"
      },
      "execution_count": 24,
      "outputs": [
        {
          "output_type": "execute_result",
          "data": {
            "text/plain": [
              "0    Simeria\n",
              "dtype: object"
            ]
          },
          "metadata": {},
          "execution_count": 24
        }
      ]
    },
    {
      "cell_type": "code",
      "source": [
        "df['Location'].value_counts()"
      ],
      "metadata": {
        "colab": {
          "base_uri": "https://localhost:8080/"
        },
        "id": "KUedPlWUCTr4",
        "outputId": "905e9849-f040-4424-d6ae-3e8fe18b4cce"
      },
      "execution_count": 25,
      "outputs": [
        {
          "output_type": "execute_result",
          "data": {
            "text/plain": [
              "Simeria         6127\n",
              "PSV             4185\n",
              "Unidentified     174\n",
              "Morin            159\n",
              "Name: Location, dtype: int64"
            ]
          },
          "metadata": {},
          "execution_count": 25
        }
      ]
    },
    {
      "cell_type": "markdown",
      "source": [
        "# Longest flight"
      ],
      "metadata": {
        "id": "Ye-EL1nHDiPT"
      }
    },
    {
      "cell_type": "code",
      "source": [
        "# Longest flight\n",
        "df['Duration'].max()"
      ],
      "metadata": {
        "colab": {
          "base_uri": "https://localhost:8080/",
          "height": 36
        },
        "id": "RKsrLOwPuyPS",
        "outputId": "4715f808-12f9-4580-c6dc-2c4fb88857a1"
      },
      "execution_count": 26,
      "outputs": [
        {
          "output_type": "execute_result",
          "data": {
            "text/plain": [
              "'7:05'"
            ],
            "application/vnd.google.colaboratory.intrinsic+json": {
              "type": "string"
            }
          },
          "metadata": {},
          "execution_count": 26
        }
      ]
    },
    {
      "cell_type": "markdown",
      "source": [
        "# Fartest flight"
      ],
      "metadata": {
        "id": "P0fZfg00Dn47"
      }
    },
    {
      "cell_type": "code",
      "source": [
        "# Fartest flight\n",
        "df['Straight Distance'] = df['Straight Distance'].astype(np.float64)\n",
        "np.float64(df['Straight Distance']).max()"
      ],
      "metadata": {
        "colab": {
          "base_uri": "https://localhost:8080/"
        },
        "id": "6JvjJJ9_vI8c",
        "outputId": "1dcbbe35-3a91-4b28-b8fe-5c441ff55688"
      },
      "execution_count": 27,
      "outputs": [
        {
          "output_type": "execute_result",
          "data": {
            "text/plain": [
              "156.3"
            ]
          },
          "metadata": {},
          "execution_count": 27
        }
      ]
    },
    {
      "cell_type": "markdown",
      "source": [
        "# Longest Flight of each take-off"
      ],
      "metadata": {
        "id": "n-eRW4BhQvxu"
      }
    },
    {
      "cell_type": "code",
      "source": [
        "# Longest flight from Simeria\n",
        "df['Duration'].loc[df['Location'] == 'Simeria'].max()"
      ],
      "metadata": {
        "colab": {
          "base_uri": "https://localhost:8080/",
          "height": 36
        },
        "id": "QPQPRktsQ2WE",
        "outputId": "87aa33dc-6442-411c-cda5-58cb093c9e17"
      },
      "execution_count": 28,
      "outputs": [
        {
          "output_type": "execute_result",
          "data": {
            "text/plain": [
              "'7:05'"
            ],
            "application/vnd.google.colaboratory.intrinsic+json": {
              "type": "string"
            }
          },
          "metadata": {},
          "execution_count": 28
        }
      ]
    },
    {
      "cell_type": "code",
      "source": [
        "# Longest flight from Parque Sao Vicente\n",
        "df['Duration'].loc[df['Location'] == 'PSV'].max()"
      ],
      "metadata": {
        "colab": {
          "base_uri": "https://localhost:8080/",
          "height": 36
        },
        "id": "1ryJtKBORdCX",
        "outputId": "45f5dcc3-d101-492e-d06a-050a9b00322f"
      },
      "execution_count": 29,
      "outputs": [
        {
          "output_type": "execute_result",
          "data": {
            "text/plain": [
              "'4:56'"
            ],
            "application/vnd.google.colaboratory.intrinsic+json": {
              "type": "string"
            }
          },
          "metadata": {},
          "execution_count": 29
        }
      ]
    },
    {
      "cell_type": "code",
      "source": [
        "# Longest flight from Morin\n",
        "df['Duration'].loc[df['Location'] == 'Morin'].max()"
      ],
      "metadata": {
        "colab": {
          "base_uri": "https://localhost:8080/",
          "height": 36
        },
        "id": "Ny4_GvpnRiCV",
        "outputId": "54e651c0-9ae2-49b4-c993-9f70def72621"
      },
      "execution_count": 30,
      "outputs": [
        {
          "output_type": "execute_result",
          "data": {
            "text/plain": [
              "'5:10'"
            ],
            "application/vnd.google.colaboratory.intrinsic+json": {
              "type": "string"
            }
          },
          "metadata": {},
          "execution_count": 30
        }
      ]
    },
    {
      "cell_type": "code",
      "source": [
        "# Longest flight from Unidentified\n",
        "df['Duration'].loc[df['Location'] == 'Unidentified'].max()"
      ],
      "metadata": {
        "colab": {
          "base_uri": "https://localhost:8080/",
          "height": 36
        },
        "id": "zMXxO-ZGRmZ4",
        "outputId": "50c5549a-676c-4309-c160-d70ee552b22c"
      },
      "execution_count": 31,
      "outputs": [
        {
          "output_type": "execute_result",
          "data": {
            "text/plain": [
              "'3:56'"
            ],
            "application/vnd.google.colaboratory.intrinsic+json": {
              "type": "string"
            }
          },
          "metadata": {},
          "execution_count": 31
        }
      ]
    },
    {
      "cell_type": "markdown",
      "source": [
        "# The fartest flight of each take-off"
      ],
      "metadata": {
        "id": "JC77nS1zSHWl"
      }
    },
    {
      "cell_type": "code",
      "source": [
        "# Fartest flight from Simeria\n",
        "df['Straight Distance'] = df['Straight Distance'].astype(np.float64)\n",
        "df['Straight Distance'].loc[df['Location'] == 'Simeria'].max()"
      ],
      "metadata": {
        "colab": {
          "base_uri": "https://localhost:8080/"
        },
        "id": "lyLAWm0DSJP6",
        "outputId": "d946ea59-437d-40bb-f7fd-84e1e565c663"
      },
      "execution_count": 32,
      "outputs": [
        {
          "output_type": "execute_result",
          "data": {
            "text/plain": [
              "156.3"
            ]
          },
          "metadata": {},
          "execution_count": 32
        }
      ]
    },
    {
      "cell_type": "code",
      "source": [
        "# Fartest flight from Parque Sao Vicente\n",
        "df['Straight Distance'] = df['Straight Distance'].astype(np.float64)\n",
        "df['Straight Distance'].loc[df['Location'] == 'PSV'].max()"
      ],
      "metadata": {
        "colab": {
          "base_uri": "https://localhost:8080/"
        },
        "id": "0rXLjBzxSfeP",
        "outputId": "7c402c2c-73d0-4432-fa67-3d943489e246"
      },
      "execution_count": 33,
      "outputs": [
        {
          "output_type": "execute_result",
          "data": {
            "text/plain": [
              "147.1"
            ]
          },
          "metadata": {},
          "execution_count": 33
        }
      ]
    },
    {
      "cell_type": "code",
      "source": [
        "# Fartest flight from Morin\n",
        "df['Straight Distance'] = df['Straight Distance'].astype(np.float64)\n",
        "df['Straight Distance'].loc[df['Location'] == 'Morin'].max()"
      ],
      "metadata": {
        "colab": {
          "base_uri": "https://localhost:8080/"
        },
        "id": "L0m4ekAmSnNe",
        "outputId": "c7874254-3095-47be-d080-6a432b23d33d"
      },
      "execution_count": 34,
      "outputs": [
        {
          "output_type": "execute_result",
          "data": {
            "text/plain": [
              "110.1"
            ]
          },
          "metadata": {},
          "execution_count": 34
        }
      ]
    },
    {
      "cell_type": "code",
      "source": [
        "# Fartest flight from Unidentified\n",
        "df['Straight Distance'] = df['Straight Distance'].astype(np.float64)\n",
        "df['Straight Distance'].loc[df['Location'] == 'Unidentified'].max()"
      ],
      "metadata": {
        "colab": {
          "base_uri": "https://localhost:8080/"
        },
        "id": "D1WWA_YeTYzf",
        "outputId": "a8d5d85a-f2b3-4b71-8092-067219d22d61"
      },
      "execution_count": 35,
      "outputs": [
        {
          "output_type": "execute_result",
          "data": {
            "text/plain": [
              "113.1"
            ]
          },
          "metadata": {},
          "execution_count": 35
        }
      ]
    },
    {
      "cell_type": "markdown",
      "source": [
        "# More frequent months of each take-off"
      ],
      "metadata": {
        "id": "_fgqcxNWXQJj"
      }
    },
    {
      "cell_type": "code",
      "source": [
        "df['Date'].value_counts()"
      ],
      "metadata": {
        "id": "LCkCbgnnXYxQ",
        "outputId": "a6e3dc5e-6685-484a-c45e-2a819c385ff8",
        "colab": {
          "base_uri": "https://localhost:8080/"
        }
      },
      "execution_count": 36,
      "outputs": [
        {
          "output_type": "execute_result",
          "data": {
            "text/plain": [
              "21/04/2020     42\n",
              "03/04/2021     40\n",
              "24/04/2021     38\n",
              "27/03/2021     38\n",
              "31/07/2021     36\n",
              "               ..\n",
              "31/12/2012      1\n",
              "18/02/2013      1\n",
              "09/03/2013      1\n",
              "16/04/2013      1\n",
              "19/08/2019      1\n",
              "Name: Date, Length: 2253, dtype: int64"
            ]
          },
          "metadata": {},
          "execution_count": 36
        }
      ]
    },
    {
      "cell_type": "code",
      "source": [
        "# Converting Dates to only Months\n",
        "\n",
        "df.loc[df['Date'].str.contains('.01.'), 'Date'] = 'Jan'\n",
        "df.loc[df['Date'].str.contains('.02.'), 'Date'] = 'Feb'\n",
        "df.loc[df['Date'].str.contains('.03.'), 'Date'] = 'Mar'\n",
        "df.loc[df['Date'].str.contains('.04.'), 'Date'] = 'Apr'\n",
        "df.loc[df['Date'].str.contains('.05.'), 'Date'] = 'May'\n",
        "df.loc[df['Date'].str.contains('.06.'), 'Date'] = 'Jun'\n",
        "df.loc[df['Date'].str.contains('.07.'), 'Date'] = 'Jul'\n",
        "df.loc[df['Date'].str.contains('.08.'), 'Date'] = 'Ago'\n",
        "df.loc[df['Date'].str.contains('.09.'), 'Date'] = 'Sep'\n",
        "df.loc[df['Date'].str.contains('.10.'), 'Date'] = 'Oct'\n",
        "df.loc[df['Date'].str.contains('.11.'), 'Date'] = 'Nov'\n",
        "df.loc[df['Date'].str.contains('.12.'), 'Date'] = 'Dec'"
      ],
      "metadata": {
        "id": "--IGg5NdXR9W"
      },
      "execution_count": 37,
      "outputs": []
    },
    {
      "cell_type": "code",
      "source": [
        "# More frequent months of Simeria\n",
        "df['Date'].loc[df['Location'] == 'Simeria'].value_counts()"
      ],
      "metadata": {
        "id": "qqqG4vePYFCv",
        "outputId": "c61bf76a-eee5-4ef1-b1b3-4ceaab90f189",
        "colab": {
          "base_uri": "https://localhost:8080/"
        }
      },
      "execution_count": 38,
      "outputs": [
        {
          "output_type": "execute_result",
          "data": {
            "text/plain": [
              "Jan    3384\n",
              "Feb    2281\n",
              "Jul     128\n",
              "Mar      86\n",
              "Ago      70\n",
              "Apr      56\n",
              "May      52\n",
              "Sep      48\n",
              "Jun      22\n",
              "Name: Date, dtype: int64"
            ]
          },
          "metadata": {},
          "execution_count": 38
        }
      ]
    },
    {
      "cell_type": "code",
      "source": [
        "# More frequent months of Parque Sao Vicente\n",
        "df['Date'].loc[df['Location'] == 'PSV'].value_counts()"
      ],
      "metadata": {
        "id": "v5fZCMF0Yo5y",
        "outputId": "a336df6a-42af-41ac-8e8b-9920aff2a227",
        "colab": {
          "base_uri": "https://localhost:8080/"
        }
      },
      "execution_count": 39,
      "outputs": [
        {
          "output_type": "execute_result",
          "data": {
            "text/plain": [
              "Jan    2663\n",
              "Feb     889\n",
              "Apr     118\n",
              "Jul     115\n",
              "Ago     107\n",
              "Mar     103\n",
              "Jun      71\n",
              "Sep      60\n",
              "May      58\n",
              "Dec       1\n",
              "Name: Date, dtype: int64"
            ]
          },
          "metadata": {},
          "execution_count": 39
        }
      ]
    },
    {
      "cell_type": "code",
      "source": [
        "# More frequent months of Morin\n",
        "df['Date'].loc[df['Location'] == 'Morin'].value_counts()"
      ],
      "metadata": {
        "id": "C2Hrm4j1YubZ",
        "outputId": "19641650-7708-4034-f6d0-fbfe983a1e9b",
        "colab": {
          "base_uri": "https://localhost:8080/"
        }
      },
      "execution_count": 40,
      "outputs": [
        {
          "output_type": "execute_result",
          "data": {
            "text/plain": [
              "Jan    103\n",
              "Feb     42\n",
              "Jul      8\n",
              "Apr      3\n",
              "May      2\n",
              "Ago      1\n",
              "Name: Date, dtype: int64"
            ]
          },
          "metadata": {},
          "execution_count": 40
        }
      ]
    },
    {
      "cell_type": "code",
      "source": [
        "# More frequent months of Unidentified\n",
        "df['Date'].loc[df['Location'] == 'Unidentified'].value_counts()"
      ],
      "metadata": {
        "id": "7zgoPlubY0rN",
        "outputId": "c15945d4-4a9b-4263-da50-f1d4bc2cf9f3",
        "colab": {
          "base_uri": "https://localhost:8080/"
        }
      },
      "execution_count": 41,
      "outputs": [
        {
          "output_type": "execute_result",
          "data": {
            "text/plain": [
              "Jan    79\n",
              "Feb    43\n",
              "Mar    18\n",
              "Ago     9\n",
              "Apr     9\n",
              "Jul     8\n",
              "Sep     3\n",
              "May     3\n",
              "Jun     2\n",
              "Name: Date, dtype: int64"
            ]
          },
          "metadata": {},
          "execution_count": 41
        }
      ]
    }
  ]
}