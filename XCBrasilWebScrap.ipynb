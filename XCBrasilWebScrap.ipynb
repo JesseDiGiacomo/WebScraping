{
  "nbformat": 4,
  "nbformat_minor": 0,
  "metadata": {
    "colab": {
      "name": "XCBrasilWebScrap.ipynb",
      "provenance": [],
      "collapsed_sections": [],
      "authorship_tag": "ABX9TyOtqdBSSZHmxqcQiT/a1zdL",
      "include_colab_link": true
    },
    "kernelspec": {
      "name": "python3",
      "display_name": "Python 3"
    },
    "language_info": {
      "name": "python"
    }
  },
  "cells": [
    {
      "cell_type": "markdown",
      "metadata": {
        "id": "view-in-github",
        "colab_type": "text"
      },
      "source": [
        "<a href=\"https://colab.research.google.com/github/JesseDiGiacomo/WebScraping/blob/main/XCBrasilWebScrap.ipynb\" target=\"_parent\"><img src=\"https://colab.research.google.com/assets/colab-badge.svg\" alt=\"Open In Colab\"/></a>"
      ]
    },
    {
      "cell_type": "markdown",
      "source": [
        "# The goal of this job was to collect from the National Database Site (XCBrasil.com.br) all the official flights from the city of Petropolis / RJ and analyze them. \n",
        "\n",
        "**The aim was to answer:**\n",
        "\n",
        "\n",
        "*   *Who is the most frequent pilot of all times*\n",
        "*   *The longest flight of the city*\n",
        "*   *The fartest flight of the city*\n",
        "*   *The longest flight of each take-off*\n",
        "*   *The fartest flight of each take-off*\n",
        "*   *More frequent take-off of all times*\n",
        "*   *More frequent months of each take-off*"
      ],
      "metadata": {
        "id": "n_ZEHQpf3-z0"
      }
    },
    {
      "cell_type": "markdown",
      "source": [
        "To start the web scraping we analyzed the XCBrasil.com.br and discovered we could filter the flights by take-off location.\n",
        "The city of Petropolis has three (3) take-offs. They are logged into fifteen (15) different take-offs due to misspelling errors. \n",
        "\n",
        "We picked one of the registered take-offs to test the best way to proceed."
      ],
      "metadata": {
        "id": "q_GwA8c5SNzk"
      }
    },
    {
      "cell_type": "markdown",
      "source": [
        "First, conect to Google Drive so we can store the data acquired."
      ],
      "metadata": {
        "id": "rrzaPg626MSz"
      }
    },
    {
      "cell_type": "markdown",
      "source": [
        "# Imports and Conections"
      ],
      "metadata": {
        "id": "6d0r_1RpSkcc"
      }
    },
    {
      "cell_type": "code",
      "source": [
        "from google.colab import drive\n",
        "drive.mount('/content/drive')"
      ],
      "metadata": {
        "colab": {
          "base_uri": "https://localhost:8080/"
        },
        "id": "DiA5lHnCD_V3",
        "outputId": "714845de-9d04-45cc-9cec-6ee7aa89e521"
      },
      "execution_count": 142,
      "outputs": [
        {
          "output_type": "stream",
          "name": "stdout",
          "text": [
            "Drive already mounted at /content/drive; to attempt to forcibly remount, call drive.mount(\"/content/drive\", force_remount=True).\n"
          ]
        }
      ]
    },
    {
      "cell_type": "markdown",
      "source": [
        "Them stablish where we want to store it.\n",
        "\n"
      ],
      "metadata": {
        "id": "qwPwDV8z6Yb3"
      }
    },
    {
      "cell_type": "code",
      "source": [
        "path = \"/content/drive/MyDrive/XCBrasil_flights/\""
      ],
      "metadata": {
        "id": "oj1Gst-rEENf"
      },
      "execution_count": 143,
      "outputs": []
    },
    {
      "cell_type": "markdown",
      "source": [
        "Now we import the libraries to work with"
      ],
      "metadata": {
        "id": "Rf1sv3F86ya2"
      }
    },
    {
      "cell_type": "code",
      "execution_count": 144,
      "metadata": {
        "id": "kCnlKKTjR7X_"
      },
      "outputs": [],
      "source": [
        "# Imports\n",
        "import os\n",
        "import csv\n",
        "import requests\n",
        "import numpy as np\n",
        "import pandas as pd\n",
        "from bs4 import BeautifulSoup\n",
        "import matplotlib.pyplot as plt\n",
        "import scipy\n",
        "import statsmodels\n",
        "import statsmodels.api as sm\n",
        "import matplotlib.patches as mpatches\n",
        "from statsmodels.formula.api import ols\n",
        "from tabulate import tabulate\n",
        "from pandas_profiling import ProfileReport\n",
        "\n",
        "%matplotlib inline"
      ]
    },
    {
      "cell_type": "markdown",
      "source": [
        "Then we create the CSV file with the header and open it."
      ],
      "metadata": {
        "id": "GFu1Mk8y66gn"
      }
    },
    {
      "cell_type": "code",
      "source": [
        "# Creates the Final Data file\n",
        "outputfile = open((path + 'FlightsData.csv'), 'a', encoding='utf_8')\n",
        "writer = csv.writer(outputfile, delimiter=',',quotechar='\"', quoting=csv.QUOTE_ALL)\n",
        "\n",
        "# Adds Header\n",
        "writer.writerow(['Date', 'Pilot',\t'Location', 'Duration', 'Straight Distance', \t'OLC KM', 'OLC Points'])"
      ],
      "metadata": {
        "colab": {
          "base_uri": "https://localhost:8080/"
        },
        "id": "LDHJ9IrzEFY1",
        "outputId": "428c5b13-24c7-4078-da97-89b88285189b"
      },
      "execution_count": 163,
      "outputs": [
        {
          "output_type": "execute_result",
          "data": {
            "text/plain": [
              "80"
            ]
          },
          "metadata": {},
          "execution_count": 163
        }
      ]
    },
    {
      "cell_type": "markdown",
      "source": [
        "#Testing"
      ],
      "metadata": {
        "id": "j8SNPsvy8l8i"
      }
    },
    {
      "cell_type": "markdown",
      "source": [
        "Stabilish the URL and start scraping and testing"
      ],
      "metadata": {
        "id": "16OBjeg97GoN"
      }
    },
    {
      "cell_type": "code",
      "source": [
        "# XCBrasil homepage\n",
        "base_url = 'http://xcbrasil.com.br'\n",
        "xcbrasil_url = 'http://xcbrasil.com.br/tracks/world/alltimes/brand:all,cat:0,class:all,xctype:all,club:all,pilot:all,takeoff:8892'"
      ],
      "metadata": {
        "id": "azUDhbEVR_ms"
      },
      "execution_count": 23,
      "outputs": []
    },
    {
      "cell_type": "code",
      "source": [
        "lst = []\n",
        "\n",
        "condition = True\n",
        "\n",
        "while condition: \n",
        "  # Use requests to retrieve data from a given URL\n",
        "  xcbrasil_response = requests.get(xcbrasil_url)\n",
        "\n",
        "  # Parse the whole HTML page using BeautifulSoup\n",
        "  xcbrasil_soup = BeautifulSoup(xcbrasil_response.text, 'html.parser')\n",
        "\n",
        "  # Title of the parsed page\n",
        "  xcbrasil_soup.title\n",
        "\n",
        "  # Reading table\n",
        "  flights = xcbrasil_soup.find('table', {'class':'listTable'})\n",
        "\n",
        "  for row in flights.find_all('tr')[1:-1]:\n",
        "      s = pd.Series([data.text for data in row.find_all('td')])\n",
        "      lst.append(s)\n",
        "  \n",
        "  # Next Page\n",
        "  pg = xcbrasil_soup.find('div', {'class':'pagesDiv'})\n",
        "  active_pg = pg.find('div', {'class':'activePageNum'})\n",
        "  \n",
        "  # Test if is Blank\n",
        "  if active_pg is None:\n",
        "    condition = False\n",
        "  if active_pg.findNextSibling('a') is None:\n",
        "    condition = False\n",
        "  else:\n",
        "    next_url = base_url + active_pg.findNextSibling('a').get(\"href\")\n",
        "    xcbrasil_url = next_url"
      ],
      "metadata": {
        "id": "58HWE6JM5t8z"
      },
      "execution_count": 24,
      "outputs": []
    },
    {
      "cell_type": "code",
      "source": [
        "# Concatenate the Pandas Series in a DataFrame\n",
        "data = pd.concat(lst, axis=1).T"
      ],
      "metadata": {
        "id": "uCaTMtiFZ1nV"
      },
      "execution_count": 25,
      "outputs": []
    },
    {
      "cell_type": "code",
      "source": [
        "data.tail()"
      ],
      "metadata": {
        "colab": {
          "base_uri": "https://localhost:8080/",
          "height": 206
        },
        "id": "zjiOIIvqZ72x",
        "outputId": "7877fced-7382-40d1-9eaf-4a331c73deb2"
      },
      "execution_count": 26,
      "outputs": [
        {
          "output_type": "execute_result",
          "data": {
            "text/plain": [
              "          0            1                                                  2  \\\n",
              "3043  3106   17/01/2006    Daniel Wenna\\nPetropolis City (Simeria takeof...   \n",
              "3044  3107   15/09/2001    Artur  Pereira\\nPetropolis City (Simeria take...   \n",
              "3045  3108   09/06/2001    Artur  Pereira\\nPetropolis City (Simeria take...   \n",
              "3046  3109   06/05/2001    Artur  Pereira\\nPetropolis City (Simeria take...   \n",
              "3047  3110   13/05/2000    Artur  Pereira\\nPetropolis City (Simeria take...   \n",
              "\n",
              "         3        4        5       6 7 8 9  \n",
              "3043  0:33   4.7 km   6.7 km  10.08         \n",
              "3044  1:43   5.2 km  18.5 km  27.76         \n",
              "3045  1:47   7.0 km  19.4 km  29.04         \n",
              "3046  1:48  25.3 km  32.3 km  48.39         \n",
              "3047  1:13  13.5 km  18.8 km  28.23         "
            ],
            "text/html": [
              "\n",
              "  <div id=\"df-7cc29972-db7f-4cb0-9ed9-ea73399ed761\">\n",
              "    <div class=\"colab-df-container\">\n",
              "      <div>\n",
              "<style scoped>\n",
              "    .dataframe tbody tr th:only-of-type {\n",
              "        vertical-align: middle;\n",
              "    }\n",
              "\n",
              "    .dataframe tbody tr th {\n",
              "        vertical-align: top;\n",
              "    }\n",
              "\n",
              "    .dataframe thead th {\n",
              "        text-align: right;\n",
              "    }\n",
              "</style>\n",
              "<table border=\"1\" class=\"dataframe\">\n",
              "  <thead>\n",
              "    <tr style=\"text-align: right;\">\n",
              "      <th></th>\n",
              "      <th>0</th>\n",
              "      <th>1</th>\n",
              "      <th>2</th>\n",
              "      <th>3</th>\n",
              "      <th>4</th>\n",
              "      <th>5</th>\n",
              "      <th>6</th>\n",
              "      <th>7</th>\n",
              "      <th>8</th>\n",
              "      <th>9</th>\n",
              "    </tr>\n",
              "  </thead>\n",
              "  <tbody>\n",
              "    <tr>\n",
              "      <th>3043</th>\n",
              "      <td>3106</td>\n",
              "      <td>17/01/2006</td>\n",
              "      <td>Daniel Wenna\\nPetropolis City (Simeria takeof...</td>\n",
              "      <td>0:33</td>\n",
              "      <td>4.7 km</td>\n",
              "      <td>6.7 km</td>\n",
              "      <td>10.08</td>\n",
              "      <td></td>\n",
              "      <td></td>\n",
              "      <td></td>\n",
              "    </tr>\n",
              "    <tr>\n",
              "      <th>3044</th>\n",
              "      <td>3107</td>\n",
              "      <td>15/09/2001</td>\n",
              "      <td>Artur  Pereira\\nPetropolis City (Simeria take...</td>\n",
              "      <td>1:43</td>\n",
              "      <td>5.2 km</td>\n",
              "      <td>18.5 km</td>\n",
              "      <td>27.76</td>\n",
              "      <td></td>\n",
              "      <td></td>\n",
              "      <td></td>\n",
              "    </tr>\n",
              "    <tr>\n",
              "      <th>3045</th>\n",
              "      <td>3108</td>\n",
              "      <td>09/06/2001</td>\n",
              "      <td>Artur  Pereira\\nPetropolis City (Simeria take...</td>\n",
              "      <td>1:47</td>\n",
              "      <td>7.0 km</td>\n",
              "      <td>19.4 km</td>\n",
              "      <td>29.04</td>\n",
              "      <td></td>\n",
              "      <td></td>\n",
              "      <td></td>\n",
              "    </tr>\n",
              "    <tr>\n",
              "      <th>3046</th>\n",
              "      <td>3109</td>\n",
              "      <td>06/05/2001</td>\n",
              "      <td>Artur  Pereira\\nPetropolis City (Simeria take...</td>\n",
              "      <td>1:48</td>\n",
              "      <td>25.3 km</td>\n",
              "      <td>32.3 km</td>\n",
              "      <td>48.39</td>\n",
              "      <td></td>\n",
              "      <td></td>\n",
              "      <td></td>\n",
              "    </tr>\n",
              "    <tr>\n",
              "      <th>3047</th>\n",
              "      <td>3110</td>\n",
              "      <td>13/05/2000</td>\n",
              "      <td>Artur  Pereira\\nPetropolis City (Simeria take...</td>\n",
              "      <td>1:13</td>\n",
              "      <td>13.5 km</td>\n",
              "      <td>18.8 km</td>\n",
              "      <td>28.23</td>\n",
              "      <td></td>\n",
              "      <td></td>\n",
              "      <td></td>\n",
              "    </tr>\n",
              "  </tbody>\n",
              "</table>\n",
              "</div>\n",
              "      <button class=\"colab-df-convert\" onclick=\"convertToInteractive('df-7cc29972-db7f-4cb0-9ed9-ea73399ed761')\"\n",
              "              title=\"Convert this dataframe to an interactive table.\"\n",
              "              style=\"display:none;\">\n",
              "        \n",
              "  <svg xmlns=\"http://www.w3.org/2000/svg\" height=\"24px\"viewBox=\"0 0 24 24\"\n",
              "       width=\"24px\">\n",
              "    <path d=\"M0 0h24v24H0V0z\" fill=\"none\"/>\n",
              "    <path d=\"M18.56 5.44l.94 2.06.94-2.06 2.06-.94-2.06-.94-.94-2.06-.94 2.06-2.06.94zm-11 1L8.5 8.5l.94-2.06 2.06-.94-2.06-.94L8.5 2.5l-.94 2.06-2.06.94zm10 10l.94 2.06.94-2.06 2.06-.94-2.06-.94-.94-2.06-.94 2.06-2.06.94z\"/><path d=\"M17.41 7.96l-1.37-1.37c-.4-.4-.92-.59-1.43-.59-.52 0-1.04.2-1.43.59L10.3 9.45l-7.72 7.72c-.78.78-.78 2.05 0 2.83L4 21.41c.39.39.9.59 1.41.59.51 0 1.02-.2 1.41-.59l7.78-7.78 2.81-2.81c.8-.78.8-2.07 0-2.86zM5.41 20L4 18.59l7.72-7.72 1.47 1.35L5.41 20z\"/>\n",
              "  </svg>\n",
              "      </button>\n",
              "      \n",
              "  <style>\n",
              "    .colab-df-container {\n",
              "      display:flex;\n",
              "      flex-wrap:wrap;\n",
              "      gap: 12px;\n",
              "    }\n",
              "\n",
              "    .colab-df-convert {\n",
              "      background-color: #E8F0FE;\n",
              "      border: none;\n",
              "      border-radius: 50%;\n",
              "      cursor: pointer;\n",
              "      display: none;\n",
              "      fill: #1967D2;\n",
              "      height: 32px;\n",
              "      padding: 0 0 0 0;\n",
              "      width: 32px;\n",
              "    }\n",
              "\n",
              "    .colab-df-convert:hover {\n",
              "      background-color: #E2EBFA;\n",
              "      box-shadow: 0px 1px 2px rgba(60, 64, 67, 0.3), 0px 1px 3px 1px rgba(60, 64, 67, 0.15);\n",
              "      fill: #174EA6;\n",
              "    }\n",
              "\n",
              "    [theme=dark] .colab-df-convert {\n",
              "      background-color: #3B4455;\n",
              "      fill: #D2E3FC;\n",
              "    }\n",
              "\n",
              "    [theme=dark] .colab-df-convert:hover {\n",
              "      background-color: #434B5C;\n",
              "      box-shadow: 0px 1px 3px 1px rgba(0, 0, 0, 0.15);\n",
              "      filter: drop-shadow(0px 1px 2px rgba(0, 0, 0, 0.3));\n",
              "      fill: #FFFFFF;\n",
              "    }\n",
              "  </style>\n",
              "\n",
              "      <script>\n",
              "        const buttonEl =\n",
              "          document.querySelector('#df-7cc29972-db7f-4cb0-9ed9-ea73399ed761 button.colab-df-convert');\n",
              "        buttonEl.style.display =\n",
              "          google.colab.kernel.accessAllowed ? 'block' : 'none';\n",
              "\n",
              "        async function convertToInteractive(key) {\n",
              "          const element = document.querySelector('#df-7cc29972-db7f-4cb0-9ed9-ea73399ed761');\n",
              "          const dataTable =\n",
              "            await google.colab.kernel.invokeFunction('convertToInteractive',\n",
              "                                                     [key], {});\n",
              "          if (!dataTable) return;\n",
              "\n",
              "          const docLinkHtml = 'Like what you see? Visit the ' +\n",
              "            '<a target=\"_blank\" href=https://colab.research.google.com/notebooks/data_table.ipynb>data table notebook</a>'\n",
              "            + ' to learn more about interactive tables.';\n",
              "          element.innerHTML = '';\n",
              "          dataTable['output_type'] = 'display_data';\n",
              "          await google.colab.output.renderOutput(dataTable, element);\n",
              "          const docLink = document.createElement('div');\n",
              "          docLink.innerHTML = docLinkHtml;\n",
              "          element.appendChild(docLink);\n",
              "        }\n",
              "      </script>\n",
              "    </div>\n",
              "  </div>\n",
              "  "
            ]
          },
          "metadata": {},
          "execution_count": 26
        }
      ]
    },
    {
      "cell_type": "markdown",
      "source": [
        "We need to delete some columns we don't need and split the ones with information regarding the pilot and take-off site. Then we create the CSV file with the header and open it."
      ],
      "metadata": {
        "id": "3yZNxF5r7Yxy"
      }
    },
    {
      "cell_type": "code",
      "source": [
        "data = data.drop(columns=[0,7,8,9])\n",
        "data.head()"
      ],
      "metadata": {
        "colab": {
          "base_uri": "https://localhost:8080/",
          "height": 206
        },
        "id": "jpeOABoB0uWT",
        "outputId": "b9865aef-652b-41e3-fff7-1ba78a8d707a"
      },
      "execution_count": 27,
      "outputs": [
        {
          "output_type": "execute_result",
          "data": {
            "text/plain": [
              "             1                                                  2     3  \\\n",
              "0  07/06/2022    henrique pessoa\\nPetropolis City (Simeria tak...  0:39   \n",
              "1  07/06/2022    Victor Affonso Ferreira Zarlotti\\nPetropolis ...  0:30   \n",
              "2  07/06/2022    Rafael Baroni\\nPetropolis City (Simeria takeo...  0:13   \n",
              "3  05/06/2022    Victor Affonso Ferreira Zarlotti\\nPetropolis ...  0:48   \n",
              "4  22/05/2022    Vagner Garcia\\nPetropolis City (Simeria takeo...  0:48   \n",
              "\n",
              "        4        5       6  \n",
              "0  5.4 km   8.0 km  12.04   \n",
              "1  4.8 km   7.1 km  10.70   \n",
              "2  4.6 km   5.4 km   8.05   \n",
              "3  6.1 km   9.7 km  14.62   \n",
              "4  4.7 km  11.6 km  17.34   "
            ],
            "text/html": [
              "\n",
              "  <div id=\"df-fe7a9693-d243-4c1f-b17a-33ea754c8f31\">\n",
              "    <div class=\"colab-df-container\">\n",
              "      <div>\n",
              "<style scoped>\n",
              "    .dataframe tbody tr th:only-of-type {\n",
              "        vertical-align: middle;\n",
              "    }\n",
              "\n",
              "    .dataframe tbody tr th {\n",
              "        vertical-align: top;\n",
              "    }\n",
              "\n",
              "    .dataframe thead th {\n",
              "        text-align: right;\n",
              "    }\n",
              "</style>\n",
              "<table border=\"1\" class=\"dataframe\">\n",
              "  <thead>\n",
              "    <tr style=\"text-align: right;\">\n",
              "      <th></th>\n",
              "      <th>1</th>\n",
              "      <th>2</th>\n",
              "      <th>3</th>\n",
              "      <th>4</th>\n",
              "      <th>5</th>\n",
              "      <th>6</th>\n",
              "    </tr>\n",
              "  </thead>\n",
              "  <tbody>\n",
              "    <tr>\n",
              "      <th>0</th>\n",
              "      <td>07/06/2022</td>\n",
              "      <td>henrique pessoa\\nPetropolis City (Simeria tak...</td>\n",
              "      <td>0:39</td>\n",
              "      <td>5.4 km</td>\n",
              "      <td>8.0 km</td>\n",
              "      <td>12.04</td>\n",
              "    </tr>\n",
              "    <tr>\n",
              "      <th>1</th>\n",
              "      <td>07/06/2022</td>\n",
              "      <td>Victor Affonso Ferreira Zarlotti\\nPetropolis ...</td>\n",
              "      <td>0:30</td>\n",
              "      <td>4.8 km</td>\n",
              "      <td>7.1 km</td>\n",
              "      <td>10.70</td>\n",
              "    </tr>\n",
              "    <tr>\n",
              "      <th>2</th>\n",
              "      <td>07/06/2022</td>\n",
              "      <td>Rafael Baroni\\nPetropolis City (Simeria takeo...</td>\n",
              "      <td>0:13</td>\n",
              "      <td>4.6 km</td>\n",
              "      <td>5.4 km</td>\n",
              "      <td>8.05</td>\n",
              "    </tr>\n",
              "    <tr>\n",
              "      <th>3</th>\n",
              "      <td>05/06/2022</td>\n",
              "      <td>Victor Affonso Ferreira Zarlotti\\nPetropolis ...</td>\n",
              "      <td>0:48</td>\n",
              "      <td>6.1 km</td>\n",
              "      <td>9.7 km</td>\n",
              "      <td>14.62</td>\n",
              "    </tr>\n",
              "    <tr>\n",
              "      <th>4</th>\n",
              "      <td>22/05/2022</td>\n",
              "      <td>Vagner Garcia\\nPetropolis City (Simeria takeo...</td>\n",
              "      <td>0:48</td>\n",
              "      <td>4.7 km</td>\n",
              "      <td>11.6 km</td>\n",
              "      <td>17.34</td>\n",
              "    </tr>\n",
              "  </tbody>\n",
              "</table>\n",
              "</div>\n",
              "      <button class=\"colab-df-convert\" onclick=\"convertToInteractive('df-fe7a9693-d243-4c1f-b17a-33ea754c8f31')\"\n",
              "              title=\"Convert this dataframe to an interactive table.\"\n",
              "              style=\"display:none;\">\n",
              "        \n",
              "  <svg xmlns=\"http://www.w3.org/2000/svg\" height=\"24px\"viewBox=\"0 0 24 24\"\n",
              "       width=\"24px\">\n",
              "    <path d=\"M0 0h24v24H0V0z\" fill=\"none\"/>\n",
              "    <path d=\"M18.56 5.44l.94 2.06.94-2.06 2.06-.94-2.06-.94-.94-2.06-.94 2.06-2.06.94zm-11 1L8.5 8.5l.94-2.06 2.06-.94-2.06-.94L8.5 2.5l-.94 2.06-2.06.94zm10 10l.94 2.06.94-2.06 2.06-.94-2.06-.94-.94-2.06-.94 2.06-2.06.94z\"/><path d=\"M17.41 7.96l-1.37-1.37c-.4-.4-.92-.59-1.43-.59-.52 0-1.04.2-1.43.59L10.3 9.45l-7.72 7.72c-.78.78-.78 2.05 0 2.83L4 21.41c.39.39.9.59 1.41.59.51 0 1.02-.2 1.41-.59l7.78-7.78 2.81-2.81c.8-.78.8-2.07 0-2.86zM5.41 20L4 18.59l7.72-7.72 1.47 1.35L5.41 20z\"/>\n",
              "  </svg>\n",
              "      </button>\n",
              "      \n",
              "  <style>\n",
              "    .colab-df-container {\n",
              "      display:flex;\n",
              "      flex-wrap:wrap;\n",
              "      gap: 12px;\n",
              "    }\n",
              "\n",
              "    .colab-df-convert {\n",
              "      background-color: #E8F0FE;\n",
              "      border: none;\n",
              "      border-radius: 50%;\n",
              "      cursor: pointer;\n",
              "      display: none;\n",
              "      fill: #1967D2;\n",
              "      height: 32px;\n",
              "      padding: 0 0 0 0;\n",
              "      width: 32px;\n",
              "    }\n",
              "\n",
              "    .colab-df-convert:hover {\n",
              "      background-color: #E2EBFA;\n",
              "      box-shadow: 0px 1px 2px rgba(60, 64, 67, 0.3), 0px 1px 3px 1px rgba(60, 64, 67, 0.15);\n",
              "      fill: #174EA6;\n",
              "    }\n",
              "\n",
              "    [theme=dark] .colab-df-convert {\n",
              "      background-color: #3B4455;\n",
              "      fill: #D2E3FC;\n",
              "    }\n",
              "\n",
              "    [theme=dark] .colab-df-convert:hover {\n",
              "      background-color: #434B5C;\n",
              "      box-shadow: 0px 1px 3px 1px rgba(0, 0, 0, 0.15);\n",
              "      filter: drop-shadow(0px 1px 2px rgba(0, 0, 0, 0.3));\n",
              "      fill: #FFFFFF;\n",
              "    }\n",
              "  </style>\n",
              "\n",
              "      <script>\n",
              "        const buttonEl =\n",
              "          document.querySelector('#df-fe7a9693-d243-4c1f-b17a-33ea754c8f31 button.colab-df-convert');\n",
              "        buttonEl.style.display =\n",
              "          google.colab.kernel.accessAllowed ? 'block' : 'none';\n",
              "\n",
              "        async function convertToInteractive(key) {\n",
              "          const element = document.querySelector('#df-fe7a9693-d243-4c1f-b17a-33ea754c8f31');\n",
              "          const dataTable =\n",
              "            await google.colab.kernel.invokeFunction('convertToInteractive',\n",
              "                                                     [key], {});\n",
              "          if (!dataTable) return;\n",
              "\n",
              "          const docLinkHtml = 'Like what you see? Visit the ' +\n",
              "            '<a target=\"_blank\" href=https://colab.research.google.com/notebooks/data_table.ipynb>data table notebook</a>'\n",
              "            + ' to learn more about interactive tables.';\n",
              "          element.innerHTML = '';\n",
              "          dataTable['output_type'] = 'display_data';\n",
              "          await google.colab.output.renderOutput(dataTable, element);\n",
              "          const docLink = document.createElement('div');\n",
              "          docLink.innerHTML = docLinkHtml;\n",
              "          element.appendChild(docLink);\n",
              "        }\n",
              "      </script>\n",
              "    </div>\n",
              "  </div>\n",
              "  "
            ]
          },
          "metadata": {},
          "execution_count": 27
        }
      ]
    },
    {
      "cell_type": "code",
      "source": [
        "data.columns = ['Date', 'Pilot and Takeoff', 'Duration', 'Straight Distance', 'OLC KM', 'OLC Points']"
      ],
      "metadata": {
        "id": "plS5xw6N5oif"
      },
      "execution_count": 28,
      "outputs": []
    },
    {
      "cell_type": "code",
      "source": [
        "data.head()"
      ],
      "metadata": {
        "colab": {
          "base_uri": "https://localhost:8080/",
          "height": 206
        },
        "id": "tnOOZC_R7yIB",
        "outputId": "da7e0800-5d5e-43a8-c8d7-04a04989bfa3"
      },
      "execution_count": 29,
      "outputs": [
        {
          "output_type": "execute_result",
          "data": {
            "text/plain": [
              "          Date                                  Pilot and Takeoff Duration  \\\n",
              "0  07/06/2022    henrique pessoa\\nPetropolis City (Simeria tak...     0:39   \n",
              "1  07/06/2022    Victor Affonso Ferreira Zarlotti\\nPetropolis ...     0:30   \n",
              "2  07/06/2022    Rafael Baroni\\nPetropolis City (Simeria takeo...     0:13   \n",
              "3  05/06/2022    Victor Affonso Ferreira Zarlotti\\nPetropolis ...     0:48   \n",
              "4  22/05/2022    Vagner Garcia\\nPetropolis City (Simeria takeo...     0:48   \n",
              "\n",
              "  Straight Distance   OLC KM OLC Points  \n",
              "0            5.4 km   8.0 km     12.04   \n",
              "1            4.8 km   7.1 km     10.70   \n",
              "2            4.6 km   5.4 km      8.05   \n",
              "3            6.1 km   9.7 km     14.62   \n",
              "4            4.7 km  11.6 km     17.34   "
            ],
            "text/html": [
              "\n",
              "  <div id=\"df-8d81fa19-9c46-4594-8714-27dde3af7b90\">\n",
              "    <div class=\"colab-df-container\">\n",
              "      <div>\n",
              "<style scoped>\n",
              "    .dataframe tbody tr th:only-of-type {\n",
              "        vertical-align: middle;\n",
              "    }\n",
              "\n",
              "    .dataframe tbody tr th {\n",
              "        vertical-align: top;\n",
              "    }\n",
              "\n",
              "    .dataframe thead th {\n",
              "        text-align: right;\n",
              "    }\n",
              "</style>\n",
              "<table border=\"1\" class=\"dataframe\">\n",
              "  <thead>\n",
              "    <tr style=\"text-align: right;\">\n",
              "      <th></th>\n",
              "      <th>Date</th>\n",
              "      <th>Pilot and Takeoff</th>\n",
              "      <th>Duration</th>\n",
              "      <th>Straight Distance</th>\n",
              "      <th>OLC KM</th>\n",
              "      <th>OLC Points</th>\n",
              "    </tr>\n",
              "  </thead>\n",
              "  <tbody>\n",
              "    <tr>\n",
              "      <th>0</th>\n",
              "      <td>07/06/2022</td>\n",
              "      <td>henrique pessoa\\nPetropolis City (Simeria tak...</td>\n",
              "      <td>0:39</td>\n",
              "      <td>5.4 km</td>\n",
              "      <td>8.0 km</td>\n",
              "      <td>12.04</td>\n",
              "    </tr>\n",
              "    <tr>\n",
              "      <th>1</th>\n",
              "      <td>07/06/2022</td>\n",
              "      <td>Victor Affonso Ferreira Zarlotti\\nPetropolis ...</td>\n",
              "      <td>0:30</td>\n",
              "      <td>4.8 km</td>\n",
              "      <td>7.1 km</td>\n",
              "      <td>10.70</td>\n",
              "    </tr>\n",
              "    <tr>\n",
              "      <th>2</th>\n",
              "      <td>07/06/2022</td>\n",
              "      <td>Rafael Baroni\\nPetropolis City (Simeria takeo...</td>\n",
              "      <td>0:13</td>\n",
              "      <td>4.6 km</td>\n",
              "      <td>5.4 km</td>\n",
              "      <td>8.05</td>\n",
              "    </tr>\n",
              "    <tr>\n",
              "      <th>3</th>\n",
              "      <td>05/06/2022</td>\n",
              "      <td>Victor Affonso Ferreira Zarlotti\\nPetropolis ...</td>\n",
              "      <td>0:48</td>\n",
              "      <td>6.1 km</td>\n",
              "      <td>9.7 km</td>\n",
              "      <td>14.62</td>\n",
              "    </tr>\n",
              "    <tr>\n",
              "      <th>4</th>\n",
              "      <td>22/05/2022</td>\n",
              "      <td>Vagner Garcia\\nPetropolis City (Simeria takeo...</td>\n",
              "      <td>0:48</td>\n",
              "      <td>4.7 km</td>\n",
              "      <td>11.6 km</td>\n",
              "      <td>17.34</td>\n",
              "    </tr>\n",
              "  </tbody>\n",
              "</table>\n",
              "</div>\n",
              "      <button class=\"colab-df-convert\" onclick=\"convertToInteractive('df-8d81fa19-9c46-4594-8714-27dde3af7b90')\"\n",
              "              title=\"Convert this dataframe to an interactive table.\"\n",
              "              style=\"display:none;\">\n",
              "        \n",
              "  <svg xmlns=\"http://www.w3.org/2000/svg\" height=\"24px\"viewBox=\"0 0 24 24\"\n",
              "       width=\"24px\">\n",
              "    <path d=\"M0 0h24v24H0V0z\" fill=\"none\"/>\n",
              "    <path d=\"M18.56 5.44l.94 2.06.94-2.06 2.06-.94-2.06-.94-.94-2.06-.94 2.06-2.06.94zm-11 1L8.5 8.5l.94-2.06 2.06-.94-2.06-.94L8.5 2.5l-.94 2.06-2.06.94zm10 10l.94 2.06.94-2.06 2.06-.94-2.06-.94-.94-2.06-.94 2.06-2.06.94z\"/><path d=\"M17.41 7.96l-1.37-1.37c-.4-.4-.92-.59-1.43-.59-.52 0-1.04.2-1.43.59L10.3 9.45l-7.72 7.72c-.78.78-.78 2.05 0 2.83L4 21.41c.39.39.9.59 1.41.59.51 0 1.02-.2 1.41-.59l7.78-7.78 2.81-2.81c.8-.78.8-2.07 0-2.86zM5.41 20L4 18.59l7.72-7.72 1.47 1.35L5.41 20z\"/>\n",
              "  </svg>\n",
              "      </button>\n",
              "      \n",
              "  <style>\n",
              "    .colab-df-container {\n",
              "      display:flex;\n",
              "      flex-wrap:wrap;\n",
              "      gap: 12px;\n",
              "    }\n",
              "\n",
              "    .colab-df-convert {\n",
              "      background-color: #E8F0FE;\n",
              "      border: none;\n",
              "      border-radius: 50%;\n",
              "      cursor: pointer;\n",
              "      display: none;\n",
              "      fill: #1967D2;\n",
              "      height: 32px;\n",
              "      padding: 0 0 0 0;\n",
              "      width: 32px;\n",
              "    }\n",
              "\n",
              "    .colab-df-convert:hover {\n",
              "      background-color: #E2EBFA;\n",
              "      box-shadow: 0px 1px 2px rgba(60, 64, 67, 0.3), 0px 1px 3px 1px rgba(60, 64, 67, 0.15);\n",
              "      fill: #174EA6;\n",
              "    }\n",
              "\n",
              "    [theme=dark] .colab-df-convert {\n",
              "      background-color: #3B4455;\n",
              "      fill: #D2E3FC;\n",
              "    }\n",
              "\n",
              "    [theme=dark] .colab-df-convert:hover {\n",
              "      background-color: #434B5C;\n",
              "      box-shadow: 0px 1px 3px 1px rgba(0, 0, 0, 0.15);\n",
              "      filter: drop-shadow(0px 1px 2px rgba(0, 0, 0, 0.3));\n",
              "      fill: #FFFFFF;\n",
              "    }\n",
              "  </style>\n",
              "\n",
              "      <script>\n",
              "        const buttonEl =\n",
              "          document.querySelector('#df-8d81fa19-9c46-4594-8714-27dde3af7b90 button.colab-df-convert');\n",
              "        buttonEl.style.display =\n",
              "          google.colab.kernel.accessAllowed ? 'block' : 'none';\n",
              "\n",
              "        async function convertToInteractive(key) {\n",
              "          const element = document.querySelector('#df-8d81fa19-9c46-4594-8714-27dde3af7b90');\n",
              "          const dataTable =\n",
              "            await google.colab.kernel.invokeFunction('convertToInteractive',\n",
              "                                                     [key], {});\n",
              "          if (!dataTable) return;\n",
              "\n",
              "          const docLinkHtml = 'Like what you see? Visit the ' +\n",
              "            '<a target=\"_blank\" href=https://colab.research.google.com/notebooks/data_table.ipynb>data table notebook</a>'\n",
              "            + ' to learn more about interactive tables.';\n",
              "          element.innerHTML = '';\n",
              "          dataTable['output_type'] = 'display_data';\n",
              "          await google.colab.output.renderOutput(dataTable, element);\n",
              "          const docLink = document.createElement('div');\n",
              "          docLink.innerHTML = docLinkHtml;\n",
              "          element.appendChild(docLink);\n",
              "        }\n",
              "      </script>\n",
              "    </div>\n",
              "  </div>\n",
              "  "
            ]
          },
          "metadata": {},
          "execution_count": 29
        }
      ]
    },
    {
      "cell_type": "code",
      "source": [
        "df2 = data['Pilot and Takeoff'].str.split('\\n', expand=True)\n",
        "df2.drop(columns=[2], inplace=True)\n",
        "df2.columns = ['Pilot', 'Location']\n",
        "df2.head()"
      ],
      "metadata": {
        "colab": {
          "base_uri": "https://localhost:8080/",
          "height": 206
        },
        "id": "dwGC5Ssd1SzU",
        "outputId": "92f08505-ff68-42e9-e312-803177b4febc"
      },
      "execution_count": 30,
      "outputs": [
        {
          "output_type": "execute_result",
          "data": {
            "text/plain": [
              "                               Pilot  \\\n",
              "0                    henrique pessoa   \n",
              "1   Victor Affonso Ferreira Zarlotti   \n",
              "2                      Rafael Baroni   \n",
              "3   Victor Affonso Ferreira Zarlotti   \n",
              "4                      Vagner Garcia   \n",
              "\n",
              "                                        Location  \n",
              "0  Petropolis City (Simeria takeoff) - BR [~0.6]  \n",
              "1         Petropolis City (Simeria takeoff) - BR  \n",
              "2  Petropolis City (Simeria takeoff) - BR [~0.6]  \n",
              "3         Petropolis City (Simeria takeoff) - BR  \n",
              "4         Petropolis City (Simeria takeoff) - BR  "
            ],
            "text/html": [
              "\n",
              "  <div id=\"df-b881c098-07f1-497e-a431-3d2c62bc01ac\">\n",
              "    <div class=\"colab-df-container\">\n",
              "      <div>\n",
              "<style scoped>\n",
              "    .dataframe tbody tr th:only-of-type {\n",
              "        vertical-align: middle;\n",
              "    }\n",
              "\n",
              "    .dataframe tbody tr th {\n",
              "        vertical-align: top;\n",
              "    }\n",
              "\n",
              "    .dataframe thead th {\n",
              "        text-align: right;\n",
              "    }\n",
              "</style>\n",
              "<table border=\"1\" class=\"dataframe\">\n",
              "  <thead>\n",
              "    <tr style=\"text-align: right;\">\n",
              "      <th></th>\n",
              "      <th>Pilot</th>\n",
              "      <th>Location</th>\n",
              "    </tr>\n",
              "  </thead>\n",
              "  <tbody>\n",
              "    <tr>\n",
              "      <th>0</th>\n",
              "      <td>henrique pessoa</td>\n",
              "      <td>Petropolis City (Simeria takeoff) - BR [~0.6]</td>\n",
              "    </tr>\n",
              "    <tr>\n",
              "      <th>1</th>\n",
              "      <td>Victor Affonso Ferreira Zarlotti</td>\n",
              "      <td>Petropolis City (Simeria takeoff) - BR</td>\n",
              "    </tr>\n",
              "    <tr>\n",
              "      <th>2</th>\n",
              "      <td>Rafael Baroni</td>\n",
              "      <td>Petropolis City (Simeria takeoff) - BR [~0.6]</td>\n",
              "    </tr>\n",
              "    <tr>\n",
              "      <th>3</th>\n",
              "      <td>Victor Affonso Ferreira Zarlotti</td>\n",
              "      <td>Petropolis City (Simeria takeoff) - BR</td>\n",
              "    </tr>\n",
              "    <tr>\n",
              "      <th>4</th>\n",
              "      <td>Vagner Garcia</td>\n",
              "      <td>Petropolis City (Simeria takeoff) - BR</td>\n",
              "    </tr>\n",
              "  </tbody>\n",
              "</table>\n",
              "</div>\n",
              "      <button class=\"colab-df-convert\" onclick=\"convertToInteractive('df-b881c098-07f1-497e-a431-3d2c62bc01ac')\"\n",
              "              title=\"Convert this dataframe to an interactive table.\"\n",
              "              style=\"display:none;\">\n",
              "        \n",
              "  <svg xmlns=\"http://www.w3.org/2000/svg\" height=\"24px\"viewBox=\"0 0 24 24\"\n",
              "       width=\"24px\">\n",
              "    <path d=\"M0 0h24v24H0V0z\" fill=\"none\"/>\n",
              "    <path d=\"M18.56 5.44l.94 2.06.94-2.06 2.06-.94-2.06-.94-.94-2.06-.94 2.06-2.06.94zm-11 1L8.5 8.5l.94-2.06 2.06-.94-2.06-.94L8.5 2.5l-.94 2.06-2.06.94zm10 10l.94 2.06.94-2.06 2.06-.94-2.06-.94-.94-2.06-.94 2.06-2.06.94z\"/><path d=\"M17.41 7.96l-1.37-1.37c-.4-.4-.92-.59-1.43-.59-.52 0-1.04.2-1.43.59L10.3 9.45l-7.72 7.72c-.78.78-.78 2.05 0 2.83L4 21.41c.39.39.9.59 1.41.59.51 0 1.02-.2 1.41-.59l7.78-7.78 2.81-2.81c.8-.78.8-2.07 0-2.86zM5.41 20L4 18.59l7.72-7.72 1.47 1.35L5.41 20z\"/>\n",
              "  </svg>\n",
              "      </button>\n",
              "      \n",
              "  <style>\n",
              "    .colab-df-container {\n",
              "      display:flex;\n",
              "      flex-wrap:wrap;\n",
              "      gap: 12px;\n",
              "    }\n",
              "\n",
              "    .colab-df-convert {\n",
              "      background-color: #E8F0FE;\n",
              "      border: none;\n",
              "      border-radius: 50%;\n",
              "      cursor: pointer;\n",
              "      display: none;\n",
              "      fill: #1967D2;\n",
              "      height: 32px;\n",
              "      padding: 0 0 0 0;\n",
              "      width: 32px;\n",
              "    }\n",
              "\n",
              "    .colab-df-convert:hover {\n",
              "      background-color: #E2EBFA;\n",
              "      box-shadow: 0px 1px 2px rgba(60, 64, 67, 0.3), 0px 1px 3px 1px rgba(60, 64, 67, 0.15);\n",
              "      fill: #174EA6;\n",
              "    }\n",
              "\n",
              "    [theme=dark] .colab-df-convert {\n",
              "      background-color: #3B4455;\n",
              "      fill: #D2E3FC;\n",
              "    }\n",
              "\n",
              "    [theme=dark] .colab-df-convert:hover {\n",
              "      background-color: #434B5C;\n",
              "      box-shadow: 0px 1px 3px 1px rgba(0, 0, 0, 0.15);\n",
              "      filter: drop-shadow(0px 1px 2px rgba(0, 0, 0, 0.3));\n",
              "      fill: #FFFFFF;\n",
              "    }\n",
              "  </style>\n",
              "\n",
              "      <script>\n",
              "        const buttonEl =\n",
              "          document.querySelector('#df-b881c098-07f1-497e-a431-3d2c62bc01ac button.colab-df-convert');\n",
              "        buttonEl.style.display =\n",
              "          google.colab.kernel.accessAllowed ? 'block' : 'none';\n",
              "\n",
              "        async function convertToInteractive(key) {\n",
              "          const element = document.querySelector('#df-b881c098-07f1-497e-a431-3d2c62bc01ac');\n",
              "          const dataTable =\n",
              "            await google.colab.kernel.invokeFunction('convertToInteractive',\n",
              "                                                     [key], {});\n",
              "          if (!dataTable) return;\n",
              "\n",
              "          const docLinkHtml = 'Like what you see? Visit the ' +\n",
              "            '<a target=\"_blank\" href=https://colab.research.google.com/notebooks/data_table.ipynb>data table notebook</a>'\n",
              "            + ' to learn more about interactive tables.';\n",
              "          element.innerHTML = '';\n",
              "          dataTable['output_type'] = 'display_data';\n",
              "          await google.colab.output.renderOutput(dataTable, element);\n",
              "          const docLink = document.createElement('div');\n",
              "          docLink.innerHTML = docLinkHtml;\n",
              "          element.appendChild(docLink);\n",
              "        }\n",
              "      </script>\n",
              "    </div>\n",
              "  </div>\n",
              "  "
            ]
          },
          "metadata": {},
          "execution_count": 30
        }
      ]
    },
    {
      "cell_type": "code",
      "source": [
        "data = data.join(df2)"
      ],
      "metadata": {
        "id": "MZt-mlwSBy5T"
      },
      "execution_count": 31,
      "outputs": []
    },
    {
      "cell_type": "code",
      "source": [
        "data.head()"
      ],
      "metadata": {
        "colab": {
          "base_uri": "https://localhost:8080/",
          "height": 206
        },
        "id": "MkpgIZZHEyyq",
        "outputId": "c24fd5a2-af6a-43fa-caa9-7947f957e9ec"
      },
      "execution_count": 32,
      "outputs": [
        {
          "output_type": "execute_result",
          "data": {
            "text/plain": [
              "          Date                                  Pilot and Takeoff Duration  \\\n",
              "0  07/06/2022    henrique pessoa\\nPetropolis City (Simeria tak...     0:39   \n",
              "1  07/06/2022    Victor Affonso Ferreira Zarlotti\\nPetropolis ...     0:30   \n",
              "2  07/06/2022    Rafael Baroni\\nPetropolis City (Simeria takeo...     0:13   \n",
              "3  05/06/2022    Victor Affonso Ferreira Zarlotti\\nPetropolis ...     0:48   \n",
              "4  22/05/2022    Vagner Garcia\\nPetropolis City (Simeria takeo...     0:48   \n",
              "\n",
              "  Straight Distance   OLC KM OLC Points                              Pilot  \\\n",
              "0            5.4 km   8.0 km     12.04                     henrique pessoa   \n",
              "1            4.8 km   7.1 km     10.70    Victor Affonso Ferreira Zarlotti   \n",
              "2            4.6 km   5.4 km      8.05                       Rafael Baroni   \n",
              "3            6.1 km   9.7 km     14.62    Victor Affonso Ferreira Zarlotti   \n",
              "4            4.7 km  11.6 km     17.34                       Vagner Garcia   \n",
              "\n",
              "                                        Location  \n",
              "0  Petropolis City (Simeria takeoff) - BR [~0.6]  \n",
              "1         Petropolis City (Simeria takeoff) - BR  \n",
              "2  Petropolis City (Simeria takeoff) - BR [~0.6]  \n",
              "3         Petropolis City (Simeria takeoff) - BR  \n",
              "4         Petropolis City (Simeria takeoff) - BR  "
            ],
            "text/html": [
              "\n",
              "  <div id=\"df-55e19db8-8f65-4d41-9770-f4c87a51815b\">\n",
              "    <div class=\"colab-df-container\">\n",
              "      <div>\n",
              "<style scoped>\n",
              "    .dataframe tbody tr th:only-of-type {\n",
              "        vertical-align: middle;\n",
              "    }\n",
              "\n",
              "    .dataframe tbody tr th {\n",
              "        vertical-align: top;\n",
              "    }\n",
              "\n",
              "    .dataframe thead th {\n",
              "        text-align: right;\n",
              "    }\n",
              "</style>\n",
              "<table border=\"1\" class=\"dataframe\">\n",
              "  <thead>\n",
              "    <tr style=\"text-align: right;\">\n",
              "      <th></th>\n",
              "      <th>Date</th>\n",
              "      <th>Pilot and Takeoff</th>\n",
              "      <th>Duration</th>\n",
              "      <th>Straight Distance</th>\n",
              "      <th>OLC KM</th>\n",
              "      <th>OLC Points</th>\n",
              "      <th>Pilot</th>\n",
              "      <th>Location</th>\n",
              "    </tr>\n",
              "  </thead>\n",
              "  <tbody>\n",
              "    <tr>\n",
              "      <th>0</th>\n",
              "      <td>07/06/2022</td>\n",
              "      <td>henrique pessoa\\nPetropolis City (Simeria tak...</td>\n",
              "      <td>0:39</td>\n",
              "      <td>5.4 km</td>\n",
              "      <td>8.0 km</td>\n",
              "      <td>12.04</td>\n",
              "      <td>henrique pessoa</td>\n",
              "      <td>Petropolis City (Simeria takeoff) - BR [~0.6]</td>\n",
              "    </tr>\n",
              "    <tr>\n",
              "      <th>1</th>\n",
              "      <td>07/06/2022</td>\n",
              "      <td>Victor Affonso Ferreira Zarlotti\\nPetropolis ...</td>\n",
              "      <td>0:30</td>\n",
              "      <td>4.8 km</td>\n",
              "      <td>7.1 km</td>\n",
              "      <td>10.70</td>\n",
              "      <td>Victor Affonso Ferreira Zarlotti</td>\n",
              "      <td>Petropolis City (Simeria takeoff) - BR</td>\n",
              "    </tr>\n",
              "    <tr>\n",
              "      <th>2</th>\n",
              "      <td>07/06/2022</td>\n",
              "      <td>Rafael Baroni\\nPetropolis City (Simeria takeo...</td>\n",
              "      <td>0:13</td>\n",
              "      <td>4.6 km</td>\n",
              "      <td>5.4 km</td>\n",
              "      <td>8.05</td>\n",
              "      <td>Rafael Baroni</td>\n",
              "      <td>Petropolis City (Simeria takeoff) - BR [~0.6]</td>\n",
              "    </tr>\n",
              "    <tr>\n",
              "      <th>3</th>\n",
              "      <td>05/06/2022</td>\n",
              "      <td>Victor Affonso Ferreira Zarlotti\\nPetropolis ...</td>\n",
              "      <td>0:48</td>\n",
              "      <td>6.1 km</td>\n",
              "      <td>9.7 km</td>\n",
              "      <td>14.62</td>\n",
              "      <td>Victor Affonso Ferreira Zarlotti</td>\n",
              "      <td>Petropolis City (Simeria takeoff) - BR</td>\n",
              "    </tr>\n",
              "    <tr>\n",
              "      <th>4</th>\n",
              "      <td>22/05/2022</td>\n",
              "      <td>Vagner Garcia\\nPetropolis City (Simeria takeo...</td>\n",
              "      <td>0:48</td>\n",
              "      <td>4.7 km</td>\n",
              "      <td>11.6 km</td>\n",
              "      <td>17.34</td>\n",
              "      <td>Vagner Garcia</td>\n",
              "      <td>Petropolis City (Simeria takeoff) - BR</td>\n",
              "    </tr>\n",
              "  </tbody>\n",
              "</table>\n",
              "</div>\n",
              "      <button class=\"colab-df-convert\" onclick=\"convertToInteractive('df-55e19db8-8f65-4d41-9770-f4c87a51815b')\"\n",
              "              title=\"Convert this dataframe to an interactive table.\"\n",
              "              style=\"display:none;\">\n",
              "        \n",
              "  <svg xmlns=\"http://www.w3.org/2000/svg\" height=\"24px\"viewBox=\"0 0 24 24\"\n",
              "       width=\"24px\">\n",
              "    <path d=\"M0 0h24v24H0V0z\" fill=\"none\"/>\n",
              "    <path d=\"M18.56 5.44l.94 2.06.94-2.06 2.06-.94-2.06-.94-.94-2.06-.94 2.06-2.06.94zm-11 1L8.5 8.5l.94-2.06 2.06-.94-2.06-.94L8.5 2.5l-.94 2.06-2.06.94zm10 10l.94 2.06.94-2.06 2.06-.94-2.06-.94-.94-2.06-.94 2.06-2.06.94z\"/><path d=\"M17.41 7.96l-1.37-1.37c-.4-.4-.92-.59-1.43-.59-.52 0-1.04.2-1.43.59L10.3 9.45l-7.72 7.72c-.78.78-.78 2.05 0 2.83L4 21.41c.39.39.9.59 1.41.59.51 0 1.02-.2 1.41-.59l7.78-7.78 2.81-2.81c.8-.78.8-2.07 0-2.86zM5.41 20L4 18.59l7.72-7.72 1.47 1.35L5.41 20z\"/>\n",
              "  </svg>\n",
              "      </button>\n",
              "      \n",
              "  <style>\n",
              "    .colab-df-container {\n",
              "      display:flex;\n",
              "      flex-wrap:wrap;\n",
              "      gap: 12px;\n",
              "    }\n",
              "\n",
              "    .colab-df-convert {\n",
              "      background-color: #E8F0FE;\n",
              "      border: none;\n",
              "      border-radius: 50%;\n",
              "      cursor: pointer;\n",
              "      display: none;\n",
              "      fill: #1967D2;\n",
              "      height: 32px;\n",
              "      padding: 0 0 0 0;\n",
              "      width: 32px;\n",
              "    }\n",
              "\n",
              "    .colab-df-convert:hover {\n",
              "      background-color: #E2EBFA;\n",
              "      box-shadow: 0px 1px 2px rgba(60, 64, 67, 0.3), 0px 1px 3px 1px rgba(60, 64, 67, 0.15);\n",
              "      fill: #174EA6;\n",
              "    }\n",
              "\n",
              "    [theme=dark] .colab-df-convert {\n",
              "      background-color: #3B4455;\n",
              "      fill: #D2E3FC;\n",
              "    }\n",
              "\n",
              "    [theme=dark] .colab-df-convert:hover {\n",
              "      background-color: #434B5C;\n",
              "      box-shadow: 0px 1px 3px 1px rgba(0, 0, 0, 0.15);\n",
              "      filter: drop-shadow(0px 1px 2px rgba(0, 0, 0, 0.3));\n",
              "      fill: #FFFFFF;\n",
              "    }\n",
              "  </style>\n",
              "\n",
              "      <script>\n",
              "        const buttonEl =\n",
              "          document.querySelector('#df-55e19db8-8f65-4d41-9770-f4c87a51815b button.colab-df-convert');\n",
              "        buttonEl.style.display =\n",
              "          google.colab.kernel.accessAllowed ? 'block' : 'none';\n",
              "\n",
              "        async function convertToInteractive(key) {\n",
              "          const element = document.querySelector('#df-55e19db8-8f65-4d41-9770-f4c87a51815b');\n",
              "          const dataTable =\n",
              "            await google.colab.kernel.invokeFunction('convertToInteractive',\n",
              "                                                     [key], {});\n",
              "          if (!dataTable) return;\n",
              "\n",
              "          const docLinkHtml = 'Like what you see? Visit the ' +\n",
              "            '<a target=\"_blank\" href=https://colab.research.google.com/notebooks/data_table.ipynb>data table notebook</a>'\n",
              "            + ' to learn more about interactive tables.';\n",
              "          element.innerHTML = '';\n",
              "          dataTable['output_type'] = 'display_data';\n",
              "          await google.colab.output.renderOutput(dataTable, element);\n",
              "          const docLink = document.createElement('div');\n",
              "          docLink.innerHTML = docLinkHtml;\n",
              "          element.appendChild(docLink);\n",
              "        }\n",
              "      </script>\n",
              "    </div>\n",
              "  </div>\n",
              "  "
            ]
          },
          "metadata": {},
          "execution_count": 32
        }
      ]
    },
    {
      "cell_type": "code",
      "source": [
        "data = data.drop(columns=['Pilot and Takeoff'])\n",
        "data.head()"
      ],
      "metadata": {
        "colab": {
          "base_uri": "https://localhost:8080/",
          "height": 206
        },
        "id": "3LKX1EeaEmX4",
        "outputId": "0d4f0d58-6d5f-4391-e3ff-ea5a700c1f4b"
      },
      "execution_count": 33,
      "outputs": [
        {
          "output_type": "execute_result",
          "data": {
            "text/plain": [
              "          Date Duration Straight Distance   OLC KM OLC Points  \\\n",
              "0  07/06/2022      0:39            5.4 km   8.0 km     12.04    \n",
              "1  07/06/2022      0:30            4.8 km   7.1 km     10.70    \n",
              "2  07/06/2022      0:13            4.6 km   5.4 km      8.05    \n",
              "3  05/06/2022      0:48            6.1 km   9.7 km     14.62    \n",
              "4  22/05/2022      0:48            4.7 km  11.6 km     17.34    \n",
              "\n",
              "                               Pilot  \\\n",
              "0                    henrique pessoa   \n",
              "1   Victor Affonso Ferreira Zarlotti   \n",
              "2                      Rafael Baroni   \n",
              "3   Victor Affonso Ferreira Zarlotti   \n",
              "4                      Vagner Garcia   \n",
              "\n",
              "                                        Location  \n",
              "0  Petropolis City (Simeria takeoff) - BR [~0.6]  \n",
              "1         Petropolis City (Simeria takeoff) - BR  \n",
              "2  Petropolis City (Simeria takeoff) - BR [~0.6]  \n",
              "3         Petropolis City (Simeria takeoff) - BR  \n",
              "4         Petropolis City (Simeria takeoff) - BR  "
            ],
            "text/html": [
              "\n",
              "  <div id=\"df-ec166a5a-c13b-4696-ad5f-858dfb5f1a98\">\n",
              "    <div class=\"colab-df-container\">\n",
              "      <div>\n",
              "<style scoped>\n",
              "    .dataframe tbody tr th:only-of-type {\n",
              "        vertical-align: middle;\n",
              "    }\n",
              "\n",
              "    .dataframe tbody tr th {\n",
              "        vertical-align: top;\n",
              "    }\n",
              "\n",
              "    .dataframe thead th {\n",
              "        text-align: right;\n",
              "    }\n",
              "</style>\n",
              "<table border=\"1\" class=\"dataframe\">\n",
              "  <thead>\n",
              "    <tr style=\"text-align: right;\">\n",
              "      <th></th>\n",
              "      <th>Date</th>\n",
              "      <th>Duration</th>\n",
              "      <th>Straight Distance</th>\n",
              "      <th>OLC KM</th>\n",
              "      <th>OLC Points</th>\n",
              "      <th>Pilot</th>\n",
              "      <th>Location</th>\n",
              "    </tr>\n",
              "  </thead>\n",
              "  <tbody>\n",
              "    <tr>\n",
              "      <th>0</th>\n",
              "      <td>07/06/2022</td>\n",
              "      <td>0:39</td>\n",
              "      <td>5.4 km</td>\n",
              "      <td>8.0 km</td>\n",
              "      <td>12.04</td>\n",
              "      <td>henrique pessoa</td>\n",
              "      <td>Petropolis City (Simeria takeoff) - BR [~0.6]</td>\n",
              "    </tr>\n",
              "    <tr>\n",
              "      <th>1</th>\n",
              "      <td>07/06/2022</td>\n",
              "      <td>0:30</td>\n",
              "      <td>4.8 km</td>\n",
              "      <td>7.1 km</td>\n",
              "      <td>10.70</td>\n",
              "      <td>Victor Affonso Ferreira Zarlotti</td>\n",
              "      <td>Petropolis City (Simeria takeoff) - BR</td>\n",
              "    </tr>\n",
              "    <tr>\n",
              "      <th>2</th>\n",
              "      <td>07/06/2022</td>\n",
              "      <td>0:13</td>\n",
              "      <td>4.6 km</td>\n",
              "      <td>5.4 km</td>\n",
              "      <td>8.05</td>\n",
              "      <td>Rafael Baroni</td>\n",
              "      <td>Petropolis City (Simeria takeoff) - BR [~0.6]</td>\n",
              "    </tr>\n",
              "    <tr>\n",
              "      <th>3</th>\n",
              "      <td>05/06/2022</td>\n",
              "      <td>0:48</td>\n",
              "      <td>6.1 km</td>\n",
              "      <td>9.7 km</td>\n",
              "      <td>14.62</td>\n",
              "      <td>Victor Affonso Ferreira Zarlotti</td>\n",
              "      <td>Petropolis City (Simeria takeoff) - BR</td>\n",
              "    </tr>\n",
              "    <tr>\n",
              "      <th>4</th>\n",
              "      <td>22/05/2022</td>\n",
              "      <td>0:48</td>\n",
              "      <td>4.7 km</td>\n",
              "      <td>11.6 km</td>\n",
              "      <td>17.34</td>\n",
              "      <td>Vagner Garcia</td>\n",
              "      <td>Petropolis City (Simeria takeoff) - BR</td>\n",
              "    </tr>\n",
              "  </tbody>\n",
              "</table>\n",
              "</div>\n",
              "      <button class=\"colab-df-convert\" onclick=\"convertToInteractive('df-ec166a5a-c13b-4696-ad5f-858dfb5f1a98')\"\n",
              "              title=\"Convert this dataframe to an interactive table.\"\n",
              "              style=\"display:none;\">\n",
              "        \n",
              "  <svg xmlns=\"http://www.w3.org/2000/svg\" height=\"24px\"viewBox=\"0 0 24 24\"\n",
              "       width=\"24px\">\n",
              "    <path d=\"M0 0h24v24H0V0z\" fill=\"none\"/>\n",
              "    <path d=\"M18.56 5.44l.94 2.06.94-2.06 2.06-.94-2.06-.94-.94-2.06-.94 2.06-2.06.94zm-11 1L8.5 8.5l.94-2.06 2.06-.94-2.06-.94L8.5 2.5l-.94 2.06-2.06.94zm10 10l.94 2.06.94-2.06 2.06-.94-2.06-.94-.94-2.06-.94 2.06-2.06.94z\"/><path d=\"M17.41 7.96l-1.37-1.37c-.4-.4-.92-.59-1.43-.59-.52 0-1.04.2-1.43.59L10.3 9.45l-7.72 7.72c-.78.78-.78 2.05 0 2.83L4 21.41c.39.39.9.59 1.41.59.51 0 1.02-.2 1.41-.59l7.78-7.78 2.81-2.81c.8-.78.8-2.07 0-2.86zM5.41 20L4 18.59l7.72-7.72 1.47 1.35L5.41 20z\"/>\n",
              "  </svg>\n",
              "      </button>\n",
              "      \n",
              "  <style>\n",
              "    .colab-df-container {\n",
              "      display:flex;\n",
              "      flex-wrap:wrap;\n",
              "      gap: 12px;\n",
              "    }\n",
              "\n",
              "    .colab-df-convert {\n",
              "      background-color: #E8F0FE;\n",
              "      border: none;\n",
              "      border-radius: 50%;\n",
              "      cursor: pointer;\n",
              "      display: none;\n",
              "      fill: #1967D2;\n",
              "      height: 32px;\n",
              "      padding: 0 0 0 0;\n",
              "      width: 32px;\n",
              "    }\n",
              "\n",
              "    .colab-df-convert:hover {\n",
              "      background-color: #E2EBFA;\n",
              "      box-shadow: 0px 1px 2px rgba(60, 64, 67, 0.3), 0px 1px 3px 1px rgba(60, 64, 67, 0.15);\n",
              "      fill: #174EA6;\n",
              "    }\n",
              "\n",
              "    [theme=dark] .colab-df-convert {\n",
              "      background-color: #3B4455;\n",
              "      fill: #D2E3FC;\n",
              "    }\n",
              "\n",
              "    [theme=dark] .colab-df-convert:hover {\n",
              "      background-color: #434B5C;\n",
              "      box-shadow: 0px 1px 3px 1px rgba(0, 0, 0, 0.15);\n",
              "      filter: drop-shadow(0px 1px 2px rgba(0, 0, 0, 0.3));\n",
              "      fill: #FFFFFF;\n",
              "    }\n",
              "  </style>\n",
              "\n",
              "      <script>\n",
              "        const buttonEl =\n",
              "          document.querySelector('#df-ec166a5a-c13b-4696-ad5f-858dfb5f1a98 button.colab-df-convert');\n",
              "        buttonEl.style.display =\n",
              "          google.colab.kernel.accessAllowed ? 'block' : 'none';\n",
              "\n",
              "        async function convertToInteractive(key) {\n",
              "          const element = document.querySelector('#df-ec166a5a-c13b-4696-ad5f-858dfb5f1a98');\n",
              "          const dataTable =\n",
              "            await google.colab.kernel.invokeFunction('convertToInteractive',\n",
              "                                                     [key], {});\n",
              "          if (!dataTable) return;\n",
              "\n",
              "          const docLinkHtml = 'Like what you see? Visit the ' +\n",
              "            '<a target=\"_blank\" href=https://colab.research.google.com/notebooks/data_table.ipynb>data table notebook</a>'\n",
              "            + ' to learn more about interactive tables.';\n",
              "          element.innerHTML = '';\n",
              "          dataTable['output_type'] = 'display_data';\n",
              "          await google.colab.output.renderOutput(dataTable, element);\n",
              "          const docLink = document.createElement('div');\n",
              "          docLink.innerHTML = docLinkHtml;\n",
              "          element.appendChild(docLink);\n",
              "        }\n",
              "      </script>\n",
              "    </div>\n",
              "  </div>\n",
              "  "
            ]
          },
          "metadata": {},
          "execution_count": 33
        }
      ]
    },
    {
      "cell_type": "code",
      "source": [
        "data = data[['Date', 'Pilot',\t'Location', 'Duration', 'Straight Distance', \t'OLC KM', 'OLC Points']]\n",
        "data.head()"
      ],
      "metadata": {
        "colab": {
          "base_uri": "https://localhost:8080/",
          "height": 206
        },
        "id": "UDJvg8BPEwoT",
        "outputId": "74dcecc4-1a6b-478d-ba99-712ea8eae672"
      },
      "execution_count": 34,
      "outputs": [
        {
          "output_type": "execute_result",
          "data": {
            "text/plain": [
              "          Date                              Pilot  \\\n",
              "0  07/06/2022                     henrique pessoa   \n",
              "1  07/06/2022    Victor Affonso Ferreira Zarlotti   \n",
              "2  07/06/2022                       Rafael Baroni   \n",
              "3  05/06/2022    Victor Affonso Ferreira Zarlotti   \n",
              "4  22/05/2022                       Vagner Garcia   \n",
              "\n",
              "                                        Location Duration Straight Distance  \\\n",
              "0  Petropolis City (Simeria takeoff) - BR [~0.6]     0:39            5.4 km   \n",
              "1         Petropolis City (Simeria takeoff) - BR     0:30            4.8 km   \n",
              "2  Petropolis City (Simeria takeoff) - BR [~0.6]     0:13            4.6 km   \n",
              "3         Petropolis City (Simeria takeoff) - BR     0:48            6.1 km   \n",
              "4         Petropolis City (Simeria takeoff) - BR     0:48            4.7 km   \n",
              "\n",
              "    OLC KM OLC Points  \n",
              "0   8.0 km     12.04   \n",
              "1   7.1 km     10.70   \n",
              "2   5.4 km      8.05   \n",
              "3   9.7 km     14.62   \n",
              "4  11.6 km     17.34   "
            ],
            "text/html": [
              "\n",
              "  <div id=\"df-5726b943-4c1e-45b6-a093-2449a980e79d\">\n",
              "    <div class=\"colab-df-container\">\n",
              "      <div>\n",
              "<style scoped>\n",
              "    .dataframe tbody tr th:only-of-type {\n",
              "        vertical-align: middle;\n",
              "    }\n",
              "\n",
              "    .dataframe tbody tr th {\n",
              "        vertical-align: top;\n",
              "    }\n",
              "\n",
              "    .dataframe thead th {\n",
              "        text-align: right;\n",
              "    }\n",
              "</style>\n",
              "<table border=\"1\" class=\"dataframe\">\n",
              "  <thead>\n",
              "    <tr style=\"text-align: right;\">\n",
              "      <th></th>\n",
              "      <th>Date</th>\n",
              "      <th>Pilot</th>\n",
              "      <th>Location</th>\n",
              "      <th>Duration</th>\n",
              "      <th>Straight Distance</th>\n",
              "      <th>OLC KM</th>\n",
              "      <th>OLC Points</th>\n",
              "    </tr>\n",
              "  </thead>\n",
              "  <tbody>\n",
              "    <tr>\n",
              "      <th>0</th>\n",
              "      <td>07/06/2022</td>\n",
              "      <td>henrique pessoa</td>\n",
              "      <td>Petropolis City (Simeria takeoff) - BR [~0.6]</td>\n",
              "      <td>0:39</td>\n",
              "      <td>5.4 km</td>\n",
              "      <td>8.0 km</td>\n",
              "      <td>12.04</td>\n",
              "    </tr>\n",
              "    <tr>\n",
              "      <th>1</th>\n",
              "      <td>07/06/2022</td>\n",
              "      <td>Victor Affonso Ferreira Zarlotti</td>\n",
              "      <td>Petropolis City (Simeria takeoff) - BR</td>\n",
              "      <td>0:30</td>\n",
              "      <td>4.8 km</td>\n",
              "      <td>7.1 km</td>\n",
              "      <td>10.70</td>\n",
              "    </tr>\n",
              "    <tr>\n",
              "      <th>2</th>\n",
              "      <td>07/06/2022</td>\n",
              "      <td>Rafael Baroni</td>\n",
              "      <td>Petropolis City (Simeria takeoff) - BR [~0.6]</td>\n",
              "      <td>0:13</td>\n",
              "      <td>4.6 km</td>\n",
              "      <td>5.4 km</td>\n",
              "      <td>8.05</td>\n",
              "    </tr>\n",
              "    <tr>\n",
              "      <th>3</th>\n",
              "      <td>05/06/2022</td>\n",
              "      <td>Victor Affonso Ferreira Zarlotti</td>\n",
              "      <td>Petropolis City (Simeria takeoff) - BR</td>\n",
              "      <td>0:48</td>\n",
              "      <td>6.1 km</td>\n",
              "      <td>9.7 km</td>\n",
              "      <td>14.62</td>\n",
              "    </tr>\n",
              "    <tr>\n",
              "      <th>4</th>\n",
              "      <td>22/05/2022</td>\n",
              "      <td>Vagner Garcia</td>\n",
              "      <td>Petropolis City (Simeria takeoff) - BR</td>\n",
              "      <td>0:48</td>\n",
              "      <td>4.7 km</td>\n",
              "      <td>11.6 km</td>\n",
              "      <td>17.34</td>\n",
              "    </tr>\n",
              "  </tbody>\n",
              "</table>\n",
              "</div>\n",
              "      <button class=\"colab-df-convert\" onclick=\"convertToInteractive('df-5726b943-4c1e-45b6-a093-2449a980e79d')\"\n",
              "              title=\"Convert this dataframe to an interactive table.\"\n",
              "              style=\"display:none;\">\n",
              "        \n",
              "  <svg xmlns=\"http://www.w3.org/2000/svg\" height=\"24px\"viewBox=\"0 0 24 24\"\n",
              "       width=\"24px\">\n",
              "    <path d=\"M0 0h24v24H0V0z\" fill=\"none\"/>\n",
              "    <path d=\"M18.56 5.44l.94 2.06.94-2.06 2.06-.94-2.06-.94-.94-2.06-.94 2.06-2.06.94zm-11 1L8.5 8.5l.94-2.06 2.06-.94-2.06-.94L8.5 2.5l-.94 2.06-2.06.94zm10 10l.94 2.06.94-2.06 2.06-.94-2.06-.94-.94-2.06-.94 2.06-2.06.94z\"/><path d=\"M17.41 7.96l-1.37-1.37c-.4-.4-.92-.59-1.43-.59-.52 0-1.04.2-1.43.59L10.3 9.45l-7.72 7.72c-.78.78-.78 2.05 0 2.83L4 21.41c.39.39.9.59 1.41.59.51 0 1.02-.2 1.41-.59l7.78-7.78 2.81-2.81c.8-.78.8-2.07 0-2.86zM5.41 20L4 18.59l7.72-7.72 1.47 1.35L5.41 20z\"/>\n",
              "  </svg>\n",
              "      </button>\n",
              "      \n",
              "  <style>\n",
              "    .colab-df-container {\n",
              "      display:flex;\n",
              "      flex-wrap:wrap;\n",
              "      gap: 12px;\n",
              "    }\n",
              "\n",
              "    .colab-df-convert {\n",
              "      background-color: #E8F0FE;\n",
              "      border: none;\n",
              "      border-radius: 50%;\n",
              "      cursor: pointer;\n",
              "      display: none;\n",
              "      fill: #1967D2;\n",
              "      height: 32px;\n",
              "      padding: 0 0 0 0;\n",
              "      width: 32px;\n",
              "    }\n",
              "\n",
              "    .colab-df-convert:hover {\n",
              "      background-color: #E2EBFA;\n",
              "      box-shadow: 0px 1px 2px rgba(60, 64, 67, 0.3), 0px 1px 3px 1px rgba(60, 64, 67, 0.15);\n",
              "      fill: #174EA6;\n",
              "    }\n",
              "\n",
              "    [theme=dark] .colab-df-convert {\n",
              "      background-color: #3B4455;\n",
              "      fill: #D2E3FC;\n",
              "    }\n",
              "\n",
              "    [theme=dark] .colab-df-convert:hover {\n",
              "      background-color: #434B5C;\n",
              "      box-shadow: 0px 1px 3px 1px rgba(0, 0, 0, 0.15);\n",
              "      filter: drop-shadow(0px 1px 2px rgba(0, 0, 0, 0.3));\n",
              "      fill: #FFFFFF;\n",
              "    }\n",
              "  </style>\n",
              "\n",
              "      <script>\n",
              "        const buttonEl =\n",
              "          document.querySelector('#df-5726b943-4c1e-45b6-a093-2449a980e79d button.colab-df-convert');\n",
              "        buttonEl.style.display =\n",
              "          google.colab.kernel.accessAllowed ? 'block' : 'none';\n",
              "\n",
              "        async function convertToInteractive(key) {\n",
              "          const element = document.querySelector('#df-5726b943-4c1e-45b6-a093-2449a980e79d');\n",
              "          const dataTable =\n",
              "            await google.colab.kernel.invokeFunction('convertToInteractive',\n",
              "                                                     [key], {});\n",
              "          if (!dataTable) return;\n",
              "\n",
              "          const docLinkHtml = 'Like what you see? Visit the ' +\n",
              "            '<a target=\"_blank\" href=https://colab.research.google.com/notebooks/data_table.ipynb>data table notebook</a>'\n",
              "            + ' to learn more about interactive tables.';\n",
              "          element.innerHTML = '';\n",
              "          dataTable['output_type'] = 'display_data';\n",
              "          await google.colab.output.renderOutput(dataTable, element);\n",
              "          const docLink = document.createElement('div');\n",
              "          docLink.innerHTML = docLinkHtml;\n",
              "          element.appendChild(docLink);\n",
              "        }\n",
              "      </script>\n",
              "    </div>\n",
              "  </div>\n",
              "  "
            ]
          },
          "metadata": {},
          "execution_count": 34
        }
      ]
    },
    {
      "cell_type": "markdown",
      "source": [
        "Now we build a routine to scrap all the fifteen takeoffs registered for Petropolis/RJ, save them to a CSV file, and close it."
      ],
      "metadata": {
        "id": "jJwhyi2n8B5v"
      }
    },
    {
      "cell_type": "markdown",
      "source": [
        "# Web Scraping Data"
      ],
      "metadata": {
        "id": "JHQ5lQVZ8w9C"
      }
    },
    {
      "cell_type": "code",
      "source": [
        "#Scrapping others take offs\n",
        "base_url = 'http://xcbrasil.com.br'\n",
        "takeoff_url_list = [\n",
        "                    'http://xcbrasil.com.br/tracks/world/alltimes/brand:all,cat:0,class:all,xctype:all,club:all,pilot:all,takeoff:8892',\n",
        "                    'http://xcbrasil.com.br/tracks/world/alltimes/brand:all,cat:0,class:all,xctype:all,club:all,pilot:all,takeoff:9222',\n",
        "                    'http://xcbrasil.com.br/tracks/world/alltimes/brand:all,cat:0,class:all,xctype:all,club:all,pilot:all,takeoff:9236',\n",
        "                    'http://xcbrasil.com.br/tracks/world/alltimes/brand:all,cat:0,class:all,xctype:all,club:all,pilot:all,takeoff:9276',\n",
        "                    'http://xcbrasil.com.br/tracks/world/alltimes/brand:all,cat:0,class:all,xctype:all,club:all,pilot:all,takeoff:8897',\n",
        "                    'http://xcbrasil.com.br/tracks/world/alltimes/brand:all,cat:0,class:all,xctype:all,club:all,pilot:all,takeoff:8960',\n",
        "                    'http://xcbrasil.com.br/tracks/world/alltimes/brand:all,cat:0,class:all,xctype:all,club:all,pilot:all,takeoff:8900',\n",
        "                    'http://xcbrasil.com.br/tracks/world/alltimes/brand:all,cat:0,class:all,xctype:all,club:all,pilot:all,takeoff:9333',\n",
        "                    'http://xcbrasil.com.br/tracks/world/alltimes/brand:all,cat:0,class:all,xctype:all,club:all,pilot:all,takeoff:13051',\n",
        "                    'http://xcbrasil.com.br/tracks/world/alltimes/brand:all,cat:0,class:all,xctype:all,club:all,pilot:all,takeoff:9495',\n",
        "                    'http://xcbrasil.com.br/tracks/world/alltimes/brand:all,cat:0,class:all,xctype:all,club:all,pilot:all,takeoff:9283',\n",
        "                    'http://xcbrasil.com.br/tracks/world/alltimes/brand:all,cat:0,class:all,xctype:all,club:all,pilot:all,takeoff:9275',\n",
        "                    'http://xcbrasil.com.br/tracks/world/alltimes/brand:all,cat:0,class:all,xctype:all,club:all,pilot:all,takeoff:8945',\n",
        "                    'http://xcbrasil.com.br/tracks/world/alltimes/brand:all,cat:0,class:all,xctype:all,club:all,pilot:all,takeoff:11051',\n",
        "                    'http://xcbrasil.com.br/tracks/world/alltimes/brand:all,cat:0,class:all,xctype:all,club:all,pilot:all,takeoff:8892'\n",
        "                    ]\n",
        "                \n",
        "for takeoff in takeoff_url_list:\n",
        "  xcbrasil_url = takeoff\n",
        "\n",
        "  lst = []\n",
        "\n",
        "  condition = True\n",
        "\n",
        "  while condition: \n",
        "    # Use requests to retrieve data from a given URL\n",
        "    xcbrasil_response = requests.get(xcbrasil_url)\n",
        "\n",
        "    # Parse the whole HTML page using BeautifulSoup\n",
        "    xcbrasil_soup = BeautifulSoup(xcbrasil_response.text, 'html.parser')\n",
        "\n",
        "    # Title of the parsed page\n",
        "    xcbrasil_soup.title\n",
        "\n",
        "    # Reading table\n",
        "    flights = xcbrasil_soup.find('table', {'class':'listTable'})\n",
        "\n",
        "    for row in flights.find_all('tr')[1:-1]:\n",
        "        s = pd.Series([data.text for data in row.find_all('td')])\n",
        "        lst.append(s)\n",
        "    \n",
        "    # Next Page\n",
        "    pg = xcbrasil_soup.find('div', {'class':'pagesDiv'})\n",
        "    active_pg = pg.find('div', {'class':'activePageNum'})\n",
        "    \n",
        "    \n",
        "    # Test if is Blank\n",
        "    if active_pg is None:\n",
        "      condition = False\n",
        "    else:\n",
        "      if active_pg.findNextSibling('a') is None:\n",
        "        condition = False\n",
        "      else:\n",
        "        next_url = base_url + active_pg.findNextSibling('a').get(\"href\")\n",
        "        xcbrasil_url = next_url\n",
        "\n",
        "  # Concatenate the Pandas Series in a DataFrame\n",
        "  data = pd.concat(lst, axis=1).T\n",
        "\n",
        "  # Dropping non usable columns\n",
        "  data = data.drop(columns=[0,7,8,9])\n",
        "\n",
        "  # Naming Columns\n",
        "  data.columns = ['Date', 'Pilot and Takeoff', 'Duration', 'Straight Distance', 'OLC KM', 'OLC Points']\n",
        "\n",
        "  # Spliting Pilot and Takeoff\n",
        "  df2 = data['Pilot and Takeoff'].str.split('\\n', expand=True)\n",
        "  df2.drop(columns=[2], inplace=True)\n",
        "  df2.columns = ['Pilot', 'Location']\n",
        "  df2.head()\n",
        "  data = data.join(df2)\n",
        "  data = data.drop(columns=['Pilot and Takeoff'])\n",
        "\n",
        "  # Reorganizing Columns\n",
        "  data = data[['Date', 'Pilot',\t'Location', 'Duration', 'Straight Distance', \t'OLC KM', 'OLC Points']]\n",
        "  \n",
        "  # Cleaning Values\n",
        "  data['Straight Distance'] = data['Straight Distance'].str.replace('km','')\n",
        "  data['OLC KM'] = data['OLC KM'].str.replace('km','')\n",
        "  data = data[data.iloc[:, 0] != data.columns[0]]\n",
        "\n",
        "  # Writing to CSV\n",
        "  data.to_csv(outputfile, index=False, header=False)\n",
        "\n",
        "print('Scraping Done')"
      ],
      "metadata": {
        "colab": {
          "base_uri": "https://localhost:8080/"
        },
        "id": "QhZTbsy-Pj5H",
        "outputId": "eea2ad32-2512-44c1-a0ae-2e80368dd288"
      },
      "execution_count": 164,
      "outputs": [
        {
          "output_type": "stream",
          "name": "stdout",
          "text": [
            "Scraping Done\n"
          ]
        }
      ]
    },
    {
      "cell_type": "code",
      "source": [
        "outputfile.close()"
      ],
      "metadata": {
        "id": "lrHZR0p1Lukz"
      },
      "execution_count": 165,
      "outputs": []
    },
    {
      "cell_type": "markdown",
      "source": [
        "# Analysing Data"
      ],
      "metadata": {
        "id": "aE_vXNur8-rs"
      }
    },
    {
      "cell_type": "code",
      "source": [
        "df = pd.read_csv((path + 'FlightsData.csv'), encoding='utf_8')\n",
        "df = pd.DataFrame(df)\n",
        "df.describe()"
      ],
      "metadata": {
        "colab": {
          "base_uri": "https://localhost:8080/",
          "height": 175
        },
        "id": "bgGvJKIJSW7R",
        "outputId": "3b99f6b9-dfd1-4cb0-eea2-f6439d39ae43"
      },
      "execution_count": 168,
      "outputs": [
        {
          "output_type": "execute_result",
          "data": {
            "text/plain": [
              "               Date               Pilot                             Location  \\\n",
              "count         10645               10645                                10645   \n",
              "unique         2253                 525                                  103   \n",
              "top     21/04/2020    Marcio Montenegro  Petrópolis- Parque São Vicente - BR   \n",
              "freq             42                 670                                 3953   \n",
              "\n",
              "       Duration Straight Distance OLC KM OLC Points  \n",
              "count     10645             10645  10645      10645  \n",
              "unique      257               610    741       3845  \n",
              "top        0:12              4.5    5.5       8.26   \n",
              "freq        267               645    157         24  "
            ],
            "text/html": [
              "\n",
              "  <div id=\"df-75275579-6c19-4c5b-8d17-b62bf3b43a2e\">\n",
              "    <div class=\"colab-df-container\">\n",
              "      <div>\n",
              "<style scoped>\n",
              "    .dataframe tbody tr th:only-of-type {\n",
              "        vertical-align: middle;\n",
              "    }\n",
              "\n",
              "    .dataframe tbody tr th {\n",
              "        vertical-align: top;\n",
              "    }\n",
              "\n",
              "    .dataframe thead th {\n",
              "        text-align: right;\n",
              "    }\n",
              "</style>\n",
              "<table border=\"1\" class=\"dataframe\">\n",
              "  <thead>\n",
              "    <tr style=\"text-align: right;\">\n",
              "      <th></th>\n",
              "      <th>Date</th>\n",
              "      <th>Pilot</th>\n",
              "      <th>Location</th>\n",
              "      <th>Duration</th>\n",
              "      <th>Straight Distance</th>\n",
              "      <th>OLC KM</th>\n",
              "      <th>OLC Points</th>\n",
              "    </tr>\n",
              "  </thead>\n",
              "  <tbody>\n",
              "    <tr>\n",
              "      <th>count</th>\n",
              "      <td>10645</td>\n",
              "      <td>10645</td>\n",
              "      <td>10645</td>\n",
              "      <td>10645</td>\n",
              "      <td>10645</td>\n",
              "      <td>10645</td>\n",
              "      <td>10645</td>\n",
              "    </tr>\n",
              "    <tr>\n",
              "      <th>unique</th>\n",
              "      <td>2253</td>\n",
              "      <td>525</td>\n",
              "      <td>103</td>\n",
              "      <td>257</td>\n",
              "      <td>610</td>\n",
              "      <td>741</td>\n",
              "      <td>3845</td>\n",
              "    </tr>\n",
              "    <tr>\n",
              "      <th>top</th>\n",
              "      <td>21/04/2020</td>\n",
              "      <td>Marcio Montenegro</td>\n",
              "      <td>Petrópolis- Parque São Vicente - BR</td>\n",
              "      <td>0:12</td>\n",
              "      <td>4.5</td>\n",
              "      <td>5.5</td>\n",
              "      <td>8.26</td>\n",
              "    </tr>\n",
              "    <tr>\n",
              "      <th>freq</th>\n",
              "      <td>42</td>\n",
              "      <td>670</td>\n",
              "      <td>3953</td>\n",
              "      <td>267</td>\n",
              "      <td>645</td>\n",
              "      <td>157</td>\n",
              "      <td>24</td>\n",
              "    </tr>\n",
              "  </tbody>\n",
              "</table>\n",
              "</div>\n",
              "      <button class=\"colab-df-convert\" onclick=\"convertToInteractive('df-75275579-6c19-4c5b-8d17-b62bf3b43a2e')\"\n",
              "              title=\"Convert this dataframe to an interactive table.\"\n",
              "              style=\"display:none;\">\n",
              "        \n",
              "  <svg xmlns=\"http://www.w3.org/2000/svg\" height=\"24px\"viewBox=\"0 0 24 24\"\n",
              "       width=\"24px\">\n",
              "    <path d=\"M0 0h24v24H0V0z\" fill=\"none\"/>\n",
              "    <path d=\"M18.56 5.44l.94 2.06.94-2.06 2.06-.94-2.06-.94-.94-2.06-.94 2.06-2.06.94zm-11 1L8.5 8.5l.94-2.06 2.06-.94-2.06-.94L8.5 2.5l-.94 2.06-2.06.94zm10 10l.94 2.06.94-2.06 2.06-.94-2.06-.94-.94-2.06-.94 2.06-2.06.94z\"/><path d=\"M17.41 7.96l-1.37-1.37c-.4-.4-.92-.59-1.43-.59-.52 0-1.04.2-1.43.59L10.3 9.45l-7.72 7.72c-.78.78-.78 2.05 0 2.83L4 21.41c.39.39.9.59 1.41.59.51 0 1.02-.2 1.41-.59l7.78-7.78 2.81-2.81c.8-.78.8-2.07 0-2.86zM5.41 20L4 18.59l7.72-7.72 1.47 1.35L5.41 20z\"/>\n",
              "  </svg>\n",
              "      </button>\n",
              "      \n",
              "  <style>\n",
              "    .colab-df-container {\n",
              "      display:flex;\n",
              "      flex-wrap:wrap;\n",
              "      gap: 12px;\n",
              "    }\n",
              "\n",
              "    .colab-df-convert {\n",
              "      background-color: #E8F0FE;\n",
              "      border: none;\n",
              "      border-radius: 50%;\n",
              "      cursor: pointer;\n",
              "      display: none;\n",
              "      fill: #1967D2;\n",
              "      height: 32px;\n",
              "      padding: 0 0 0 0;\n",
              "      width: 32px;\n",
              "    }\n",
              "\n",
              "    .colab-df-convert:hover {\n",
              "      background-color: #E2EBFA;\n",
              "      box-shadow: 0px 1px 2px rgba(60, 64, 67, 0.3), 0px 1px 3px 1px rgba(60, 64, 67, 0.15);\n",
              "      fill: #174EA6;\n",
              "    }\n",
              "\n",
              "    [theme=dark] .colab-df-convert {\n",
              "      background-color: #3B4455;\n",
              "      fill: #D2E3FC;\n",
              "    }\n",
              "\n",
              "    [theme=dark] .colab-df-convert:hover {\n",
              "      background-color: #434B5C;\n",
              "      box-shadow: 0px 1px 3px 1px rgba(0, 0, 0, 0.15);\n",
              "      filter: drop-shadow(0px 1px 2px rgba(0, 0, 0, 0.3));\n",
              "      fill: #FFFFFF;\n",
              "    }\n",
              "  </style>\n",
              "\n",
              "      <script>\n",
              "        const buttonEl =\n",
              "          document.querySelector('#df-75275579-6c19-4c5b-8d17-b62bf3b43a2e button.colab-df-convert');\n",
              "        buttonEl.style.display =\n",
              "          google.colab.kernel.accessAllowed ? 'block' : 'none';\n",
              "\n",
              "        async function convertToInteractive(key) {\n",
              "          const element = document.querySelector('#df-75275579-6c19-4c5b-8d17-b62bf3b43a2e');\n",
              "          const dataTable =\n",
              "            await google.colab.kernel.invokeFunction('convertToInteractive',\n",
              "                                                     [key], {});\n",
              "          if (!dataTable) return;\n",
              "\n",
              "          const docLinkHtml = 'Like what you see? Visit the ' +\n",
              "            '<a target=\"_blank\" href=https://colab.research.google.com/notebooks/data_table.ipynb>data table notebook</a>'\n",
              "            + ' to learn more about interactive tables.';\n",
              "          element.innerHTML = '';\n",
              "          dataTable['output_type'] = 'display_data';\n",
              "          await google.colab.output.renderOutput(dataTable, element);\n",
              "          const docLink = document.createElement('div');\n",
              "          docLink.innerHTML = docLinkHtml;\n",
              "          element.appendChild(docLink);\n",
              "        }\n",
              "      </script>\n",
              "    </div>\n",
              "  </div>\n",
              "  "
            ]
          },
          "metadata": {},
          "execution_count": 168
        }
      ]
    },
    {
      "cell_type": "code",
      "source": [
        "df.info()"
      ],
      "metadata": {
        "colab": {
          "base_uri": "https://localhost:8080/"
        },
        "id": "PWX8bz6l_R0J",
        "outputId": "c3787f7e-dc5b-4dca-b1c9-57c1617b4926"
      },
      "execution_count": 169,
      "outputs": [
        {
          "output_type": "stream",
          "name": "stdout",
          "text": [
            "<class 'pandas.core.frame.DataFrame'>\n",
            "RangeIndex: 10645 entries, 0 to 10644\n",
            "Data columns (total 7 columns):\n",
            " #   Column             Non-Null Count  Dtype \n",
            "---  ------             --------------  ----- \n",
            " 0   Date               10645 non-null  object\n",
            " 1   Pilot              10645 non-null  object\n",
            " 2   Location           10645 non-null  object\n",
            " 3   Duration           10645 non-null  object\n",
            " 4   Straight Distance  10645 non-null  object\n",
            " 5   OLC KM             10645 non-null  object\n",
            " 6   OLC Points         10645 non-null  object\n",
            "dtypes: object(7)\n",
            "memory usage: 582.3+ KB\n"
          ]
        }
      ]
    },
    {
      "cell_type": "markdown",
      "source": [
        "# Most frequent Pilot of all times"
      ],
      "metadata": {
        "id": "tbxeOrYsDQX3"
      }
    },
    {
      "cell_type": "code",
      "source": [
        "# Most frequent Pilot of all times\n",
        "df['Pilot'].mode()"
      ],
      "metadata": {
        "colab": {
          "base_uri": "https://localhost:8080/"
        },
        "id": "aV4q3VOKoh3R",
        "outputId": "6eea12b1-e5de-47e5-eeaa-570edd6924fc"
      },
      "execution_count": 170,
      "outputs": [
        {
          "output_type": "execute_result",
          "data": {
            "text/plain": [
              "0     Marcio Montenegro\n",
              "dtype: object"
            ]
          },
          "metadata": {},
          "execution_count": 170
        }
      ]
    },
    {
      "cell_type": "code",
      "source": [
        "df['Pilot'].value_counts()"
      ],
      "metadata": {
        "colab": {
          "base_uri": "https://localhost:8080/"
        },
        "id": "1h8iMSfbCQ-a",
        "outputId": "252b95b2-00dd-4dd4-9f12-ae6f416eda17"
      },
      "execution_count": 207,
      "outputs": [
        {
          "output_type": "execute_result",
          "data": {
            "text/plain": [
              " Marcio Montenegro                     670\n",
              " luiz fayao                            435\n",
              " ricardo campos arnaud de veiga fl     404\n",
              " Luan lima bastos                      335\n",
              " Ronaldo Kiyoshi Nakayama              316\n",
              "                                      ... \n",
              " Ivan Marangon Schwanes                  1\n",
              " Augusto Glauco de Almeida Quintino      1\n",
              " Douglas  Goncalves                      1\n",
              " Rui Miguel Mendes e Menezes Santos      1\n",
              " marcelo tabajara ferraz d veiga         1\n",
              "Name: Pilot, Length: 525, dtype: int64"
            ]
          },
          "metadata": {},
          "execution_count": 207
        }
      ]
    },
    {
      "cell_type": "markdown",
      "source": [
        "# More frequent Take off of all times ***UNIFICAR RAMPAS***"
      ],
      "metadata": {
        "id": "cW7A8s7VDYSh"
      }
    },
    {
      "cell_type": "code",
      "source": [
        "# More frequent Take off of all times\n",
        "df['Location'].mode()"
      ],
      "metadata": {
        "colab": {
          "base_uri": "https://localhost:8080/"
        },
        "id": "xFv4ebHY03M2",
        "outputId": "a25aabb0-03ef-4229-daeb-be6e3553e30b"
      },
      "execution_count": 171,
      "outputs": [
        {
          "output_type": "execute_result",
          "data": {
            "text/plain": [
              "0    Petrópolis- Parque São Vicente - BR\n",
              "dtype: object"
            ]
          },
          "metadata": {},
          "execution_count": 171
        }
      ]
    },
    {
      "cell_type": "code",
      "source": [
        "df['Location'].value_counts()"
      ],
      "metadata": {
        "colab": {
          "base_uri": "https://localhost:8080/"
        },
        "id": "KUedPlWUCTr4",
        "outputId": "ddd17daf-1c16-42a4-a017-9e1dba97912c"
      },
      "execution_count": 204,
      "outputs": [
        {
          "output_type": "execute_result",
          "data": {
            "text/plain": [
              "Petrópolis- Parque São Vicente - BR              3953\n",
              "Petropolis City (Simeria takeoff) - BR           2636\n",
              "Petropolis City (Simeria takeoff) - BR [~0.6]    2532\n",
              "Petropolis City (Simeria takeoff) - BR [~0.5]     734\n",
              "Petropolis - BR                                   123\n",
              "                                                 ... \n",
              "Rampa Simeria Petrópolis - BR [~2.8]                1\n",
              "Rampa Simeria Petrópolis - BR [~1.4]                1\n",
              "Petropolis - Alto Morin - BR [~5.0]                 1\n",
              "Petropolis - Alto Morin - BR [~2.3]                 1\n",
              "Petropolis - Alto Morin - BR [~4.5]                 1\n",
              "Name: Location, Length: 103, dtype: int64"
            ]
          },
          "metadata": {},
          "execution_count": 204
        }
      ]
    },
    {
      "cell_type": "markdown",
      "source": [
        "# Longest flight"
      ],
      "metadata": {
        "id": "Ye-EL1nHDiPT"
      }
    },
    {
      "cell_type": "code",
      "source": [
        "# Longest flight\n",
        "df['Duration'].max()"
      ],
      "metadata": {
        "colab": {
          "base_uri": "https://localhost:8080/",
          "height": 36
        },
        "id": "RKsrLOwPuyPS",
        "outputId": "128e7f8b-0f5e-416a-e4a0-be3a39b01c6d"
      },
      "execution_count": 172,
      "outputs": [
        {
          "output_type": "execute_result",
          "data": {
            "text/plain": [
              "'7:05'"
            ],
            "application/vnd.google.colaboratory.intrinsic+json": {
              "type": "string"
            }
          },
          "metadata": {},
          "execution_count": 172
        }
      ]
    },
    {
      "cell_type": "markdown",
      "source": [
        "# Fartest flight"
      ],
      "metadata": {
        "id": "P0fZfg00Dn47"
      }
    },
    {
      "cell_type": "code",
      "source": [
        "# Fartest flight\n",
        "df['Straight Distance'] = df['Straight Distance'].astype(np.float64)\n",
        "np.float64(df['Straight Distance']).max()"
      ],
      "metadata": {
        "colab": {
          "base_uri": "https://localhost:8080/"
        },
        "id": "6JvjJJ9_vI8c",
        "outputId": "1cb80d53-2c49-4533-e70b-e23eb9df66d0"
      },
      "execution_count": 183,
      "outputs": [
        {
          "output_type": "execute_result",
          "data": {
            "text/plain": [
              "156.3"
            ]
          },
          "metadata": {},
          "execution_count": 183
        }
      ]
    }
  ]
}